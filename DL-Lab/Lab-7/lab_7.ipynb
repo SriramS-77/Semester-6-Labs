{
 "cells": [
  {
   "cell_type": "markdown",
   "id": "fb589f4d",
   "metadata": {},
   "source": [
    "**Sriram Sunderrajan** <br>\n",
    "**220962444** <br>\n",
    "**Deep Learning Lab - Week 7** <br>\n",
    "**Regularization** <br>\n",
    "**CSE - AIML (A2 - 77)** <br>\n",
    "**25th February 2025** <br><br>"
   ]
  },
  {
   "cell_type": "code",
   "execution_count": 2,
   "id": "20366d43",
   "metadata": {},
   "outputs": [],
   "source": [
    "import torch\n",
    "import torch.nn as nn\n",
    "import torch.optim as optim\n",
    "from torch.utils.data import Dataset, DataLoader\n",
    "import numpy as np\n",
    "import matplotlib.pyplot as plt\n",
    "from sklearn.metrics import accuracy_score\n",
    "from sklearn import metrics\n",
    "import torchvision\n",
    "from torchvision import transforms, datasets\n",
    "import torch.nn.functional as F\n",
    "import os\n",
    "from PIL import Image"
   ]
  },
  {
   "cell_type": "code",
   "execution_count": 108,
   "id": "59a11b64",
   "metadata": {},
   "outputs": [],
   "source": [
    "def train(model, train_loader, optimizer, criterion, epochs=5, print_period=100, losses=[], regularization=None, reg_lambda=1e-3):\n",
    "    model.train()\n",
    "    for epoch in range(1, epochs+1):\n",
    "        epoch_loss = 0\n",
    "        for idx, (x_batch, y_batch) in enumerate(train_loader):\n",
    "            batch_size = y_batch.shape[0]\n",
    "            loader_size = len(train_loader)\n",
    "            output = model(x_batch)\n",
    "            y_pred = torch.nn.functional.softmax(output, dim=1)\n",
    "\n",
    "            loss = criterion(y_pred, y_batch)\n",
    "            \n",
    "            if regularization is not None:\n",
    "                if regularization.lower().strip() == \"l1\":\n",
    "                    l1_norm = sum(torch.abs(p).sum() for p in model.parameters())\n",
    "                    loss += l1_norm * reg_lambda\n",
    "                elif regularization.lower().strip() == \"l2\":\n",
    "                    l2_norm = sum(p.pow(2).sum() for p in model.parameters())\n",
    "                    loss += l2_norm * reg_lambda\n",
    "\n",
    "            loss.backward()\n",
    "            optimizer.step()\n",
    "            optimizer.zero_grad()\n",
    "\n",
    "            epoch_loss += loss\n",
    "            idx += 1\n",
    "            if (idx % print_period == 0):\n",
    "                progress = (idx / loader_size)\n",
    "                print(f\"{idx * batch_size} / {loader_size * batch_size} : Progress = {progress:.2%}\")\n",
    "\n",
    "        if epoch%1 == 0:\n",
    "            losses.append(epoch_loss.detach().cpu())\n",
    "            print(f\"Epoch {epoch}: Loss = {epoch_loss}\")\n",
    "            \n",
    "    return losses"
   ]
  },
  {
   "cell_type": "code",
   "execution_count": 136,
   "id": "fa4ad0ec",
   "metadata": {},
   "outputs": [],
   "source": [
    "def eval(model, val_loader, criterion=None, print_conf=True):\n",
    "    model.eval()\n",
    "    y_eval, y_preds = [], []\n",
    "    val_loss = 0\n",
    "\n",
    "    for x_batch, y_batch in val_loader:\n",
    "        x_batch, y_batch = x_batch.to(device), y_batch.to(device)\n",
    "        output = model(x_batch)\n",
    "        y_pred = F.softmax(output, dim=1)\n",
    "        \n",
    "        if criterion:\n",
    "            val_loss += criterion(y_pred, y_batch).detach().item()\n",
    "        \n",
    "        y_pred = y_pred.argmax(dim=1)\n",
    "\n",
    "        y_eval += y_batch.detach().cpu().numpy().tolist()\n",
    "        y_preds += y_pred.detach().cpu().numpy().tolist()\n",
    "        \n",
    "    if print_conf:\n",
    "        confusion_matrix = metrics.confusion_matrix(y_eval, y_preds)\n",
    "\n",
    "        cm_display = metrics.ConfusionMatrixDisplay(confusion_matrix = confusion_matrix, display_labels = [0, 1])\n",
    "\n",
    "        cm_display.plot()\n",
    "\n",
    "        plt.title(f\"Confusion matrix\")\n",
    "        plt.show() \n",
    "\n",
    "    acc = accuracy_score(y_preds, y_eval)    \n",
    "\n",
    "    if print_conf:\n",
    "        print(f\"Accuracy Score on validation set: {accuracy_score(y_preds, y_eval):.2%}\")\n",
    "    \n",
    "    return acc, val_loss"
   ]
  },
  {
   "cell_type": "markdown",
   "id": "08ba9147",
   "metadata": {},
   "source": [
    "## Question - 1"
   ]
  },
  {
   "cell_type": "code",
   "execution_count": 5,
   "id": "bcf0c17a",
   "metadata": {},
   "outputs": [],
   "source": [
    "class imgDataset(Dataset):\n",
    "    def __init__(self, dir=\"../Lab-6/data/cats_and_dogs_filtered/train/\"):\n",
    "        cats_dir = os.path.join(dir, \"cats/\")\n",
    "        dogs_dir = os.path.join(dir, \"dogs/\")\n",
    "        self.x = [os.path.join(cats_dir, f) for f in os.listdir(cats_dir) if f.endswith(\".jpg\")] + [os.path.join(dogs_dir, f) for f in os.listdir(dogs_dir) if f.endswith(\".jpg\")]\n",
    "        self.y = [0 for f in os.listdir(cats_dir) if f.endswith(\".jpg\")] + [1 for f in os.listdir(dogs_dir) if f.endswith(\".jpg\")]\n",
    "        self.y = torch.tensor(self.y)\n",
    "        self.transform = transforms.Compose([transforms.Resize(256),\n",
    "                                             transforms.CenterCrop(224),\n",
    "                                             transforms.ToTensor(),\n",
    "                                             transforms.Normalize(mean=[0.485, 0.456, 0.406], std=[0.229, 0.224, 0.225]),])\n",
    "        \n",
    "    def __len__(self):\n",
    "        return len(self.x)\n",
    "    \n",
    "    def __getitem__(self, idx):\n",
    "        img = Image.open(self.x[idx]).convert('RGB')\n",
    "        tensor = self.transform(img)\n",
    "        return tensor.to(device), self.y[idx].to(device)"
   ]
  },
  {
   "cell_type": "code",
   "execution_count": 6,
   "id": "7d6096c9",
   "metadata": {},
   "outputs": [],
   "source": [
    "batch_size = 4\n",
    "train_set = imgDataset()\n",
    "val_set = imgDataset(dir=\"../Lab-6/data/cats_and_dogs_filtered/validation/\")\n",
    "\n",
    "train_loader = DataLoader(train_set, batch_size=batch_size, shuffle=True)\n",
    "val_loader = DataLoader(val_set, batch_size=batch_size, shuffle=False)"
   ]
  },
  {
   "cell_type": "code",
   "execution_count": 11,
   "id": "3466a251",
   "metadata": {},
   "outputs": [],
   "source": [
    "device = 'cuda' if torch.cuda.is_available() else 'cpu'"
   ]
  },
  {
   "cell_type": "code",
   "execution_count": 9,
   "id": "30bc6944",
   "metadata": {},
   "outputs": [
    {
     "data": {
      "text/plain": [
       "2000"
      ]
     },
     "execution_count": 9,
     "metadata": {},
     "output_type": "execute_result"
    }
   ],
   "source": [
    "len([f for f in os.listdir(\"../Lab-6/data/cats_and_dogs_filtered/train/cats\") if f.endswith(\".jpg\")] + [f for f in os.listdir(\"../Lab-6/data/cats_and_dogs_filtered/train/dogs\") if f.endswith(\".jpg\")])"
   ]
  },
  {
   "cell_type": "markdown",
   "id": "3666d73f",
   "metadata": {},
   "source": [
    "### L2 Regularization using Weight Decay from optimizer"
   ]
  },
  {
   "cell_type": "code",
   "execution_count": 88,
   "id": "39dc52bf",
   "metadata": {},
   "outputs": [
    {
     "name": "stderr",
     "output_type": "stream",
     "text": [
      "Using cache found in /home/student/.cache/torch/hub/pytorch_vision_v0.10.0\n",
      "/home/student/Documents/220962262/DL_lab/dl_env/lib/python3.12/site-packages/torchvision/models/_utils.py:208: UserWarning: The parameter 'pretrained' is deprecated since 0.13 and may be removed in the future, please use 'weights' instead.\n",
      "  warnings.warn(\n",
      "/home/student/Documents/220962262/DL_lab/dl_env/lib/python3.12/site-packages/torchvision/models/_utils.py:223: UserWarning: Arguments other than a weight enum or `None` for 'weights' are deprecated since 0.13 and may be removed in the future. The current behavior is equivalent to passing `weights=AlexNet_Weights.IMAGENET1K_V1`. You can also use `weights=AlexNet_Weights.DEFAULT` to get the most up-to-date weights.\n",
      "  warnings.warn(msg)\n"
     ]
    }
   ],
   "source": [
    "from torchvision.models import AlexNet_Weights\n",
    "\n",
    "#model = torch.hub.load('pytorch/vision:v0.10.0', model='alexnet', weights=AlexNet_Weights.DEFAULT)\n",
    "model = torch.hub.load('pytorch/vision:v0.10.0', 'alexnet', pretrained=True)\n",
    "\n",
    "model.classifier[6] = torch.nn.Linear(in_features=4096, out_features=2)\n",
    "model = model.to(device)\n",
    "\n",
    "loss_fn = torch.nn.CrossEntropyLoss()\n",
    "\n",
    "optimizer = torch.optim.SGD(model.parameters(), lr=1e-3, weight_decay=1e-4)"
   ]
  },
  {
   "cell_type": "code",
   "execution_count": 89,
   "id": "461cec4e",
   "metadata": {},
   "outputs": [
    {
     "name": "stdout",
     "output_type": "stream",
     "text": [
      "0 / 2000 : Progress = 0.00%\n",
      "800 / 2000 : Progress = 40.00%\n",
      "1600 / 2000 : Progress = 80.00%\n",
      "Epoch 1: Loss = 196.67286682128906\n",
      "0 / 2000 : Progress = 0.00%\n",
      "800 / 2000 : Progress = 40.00%\n",
      "1600 / 2000 : Progress = 80.00%\n",
      "Epoch 2: Loss = 177.60995483398438\n",
      "0 / 2000 : Progress = 0.00%\n",
      "800 / 2000 : Progress = 40.00%\n",
      "1600 / 2000 : Progress = 80.00%\n",
      "Epoch 3: Loss = 173.71693420410156\n",
      "0 / 2000 : Progress = 0.00%\n",
      "800 / 2000 : Progress = 40.00%\n",
      "1600 / 2000 : Progress = 80.00%\n",
      "Epoch 4: Loss = 170.63482666015625\n",
      "0 / 2000 : Progress = 0.00%\n",
      "800 / 2000 : Progress = 40.00%\n",
      "1600 / 2000 : Progress = 80.00%\n",
      "Epoch 5: Loss = 167.07191467285156\n",
      "0 / 2000 : Progress = 0.00%\n",
      "800 / 2000 : Progress = 40.00%\n",
      "1600 / 2000 : Progress = 80.00%\n",
      "Epoch 6: Loss = 165.1409149169922\n",
      "0 / 2000 : Progress = 0.00%\n",
      "800 / 2000 : Progress = 40.00%\n",
      "1600 / 2000 : Progress = 80.00%\n",
      "Epoch 7: Loss = 164.30909729003906\n",
      "0 / 2000 : Progress = 0.00%\n",
      "800 / 2000 : Progress = 40.00%\n",
      "1600 / 2000 : Progress = 80.00%\n",
      "Epoch 8: Loss = 163.97462463378906\n",
      "0 / 2000 : Progress = 0.00%\n",
      "800 / 2000 : Progress = 40.00%\n",
      "1600 / 2000 : Progress = 80.00%\n",
      "Epoch 9: Loss = 161.79322814941406\n",
      "0 / 2000 : Progress = 0.00%\n",
      "800 / 2000 : Progress = 40.00%\n",
      "1600 / 2000 : Progress = 80.00%\n",
      "Epoch 10: Loss = 161.02978515625\n"
     ]
    },
    {
     "data": {
      "text/plain": [
       "[tensor(196.6729),\n",
       " tensor(177.6100),\n",
       " tensor(173.7169),\n",
       " tensor(170.6348),\n",
       " tensor(167.0719),\n",
       " tensor(165.1409),\n",
       " tensor(164.3091),\n",
       " tensor(163.9746),\n",
       " tensor(161.7932),\n",
       " tensor(161.0298)]"
      ]
     },
     "execution_count": 89,
     "metadata": {},
     "output_type": "execute_result"
    }
   ],
   "source": [
    "NUM_EPOCHS = 10\n",
    "losses = []\n",
    "\n",
    "train(model=model,\n",
    "      train_loader=train_loader,\n",
    "      optimizer=optimizer,\n",
    "      criterion=loss_fn,\n",
    "      epochs=NUM_EPOCHS)"
   ]
  },
  {
   "cell_type": "code",
   "execution_count": 90,
   "id": "b7223903",
   "metadata": {},
   "outputs": [
    {
     "data": {
      "image/png": "[encoded data removed]",
      "text/plain": [
       "<Figure size 640x480 with 2 Axes>"
      ]
     },
     "metadata": {},
     "output_type": "display_data"
    },
    {
     "name": "stdout",
     "output_type": "stream",
     "text": [
      "Accuracy Score on validation set: 97.20%\n"
     ]
    },
    {
     "data": {
      "text/plain": [
       "0.972"
      ]
     },
     "execution_count": 90,
     "metadata": {},
     "output_type": "execute_result"
    }
   ],
   "source": [
    "eval(model=model,\n",
    "     val_loader=val_loader)"
   ]
  },
  {
   "cell_type": "markdown",
   "id": "ee72d157",
   "metadata": {},
   "source": [
    "### Manual L2 norm"
   ]
  },
  {
   "cell_type": "code",
   "execution_count": 109,
   "id": "4c413653",
   "metadata": {},
   "outputs": [
    {
     "name": "stderr",
     "output_type": "stream",
     "text": [
      "Using cache found in /home/student/.cache/torch/hub/pytorch_vision_v0.10.0\n"
     ]
    }
   ],
   "source": [
    "from torchvision.models import AlexNet_Weights\n",
    "\n",
    "#model = torch.hub.load('pytorch/vision:v0.10.0', model='alexnet', weights=AlexNet_Weights.DEFAULT)\n",
    "model = torch.hub.load('pytorch/vision:v0.10.0', 'alexnet', pretrained=True)\n",
    "\n",
    "model.classifier[6] = torch.nn.Linear(in_features=4096, out_features=2)\n",
    "model = model.to(device)\n",
    "\n",
    "loss_fn = torch.nn.CrossEntropyLoss()\n",
    "\n",
    "optimizer = torch.optim.SGD(model.parameters(), lr=1e-3)"
   ]
  },
  {
   "cell_type": "code",
   "execution_count": 110,
   "id": "6fd6e568",
   "metadata": {},
   "outputs": [
    {
     "name": "stdout",
     "output_type": "stream",
     "text": [
      "400 / 2000 : Progress = 20.00%\n",
      "800 / 2000 : Progress = 40.00%\n",
      "1200 / 2000 : Progress = 60.00%\n",
      "1600 / 2000 : Progress = 80.00%\n",
      "2000 / 2000 : Progress = 100.00%\n",
      "Epoch 1: Loss = 4537.8125\n",
      "400 / 2000 : Progress = 20.00%\n",
      "800 / 2000 : Progress = 40.00%\n",
      "1200 / 2000 : Progress = 60.00%\n",
      "1600 / 2000 : Progress = 80.00%\n",
      "2000 / 2000 : Progress = 100.00%\n",
      "Epoch 2: Loss = 4510.24169921875\n",
      "400 / 2000 : Progress = 20.00%\n",
      "800 / 2000 : Progress = 40.00%\n",
      "1200 / 2000 : Progress = 60.00%\n",
      "1600 / 2000 : Progress = 80.00%\n",
      "2000 / 2000 : Progress = 100.00%\n",
      "Epoch 3: Loss = 4497.12939453125\n",
      "400 / 2000 : Progress = 20.00%\n",
      "800 / 2000 : Progress = 40.00%\n",
      "1200 / 2000 : Progress = 60.00%\n",
      "1600 / 2000 : Progress = 80.00%\n",
      "2000 / 2000 : Progress = 100.00%\n",
      "Epoch 4: Loss = 4485.7763671875\n",
      "400 / 2000 : Progress = 20.00%\n",
      "800 / 2000 : Progress = 40.00%\n",
      "1200 / 2000 : Progress = 60.00%\n",
      "1600 / 2000 : Progress = 80.00%\n",
      "2000 / 2000 : Progress = 100.00%\n",
      "Epoch 5: Loss = 4475.74755859375\n"
     ]
    },
    {
     "data": {
      "text/plain": [
       "[tensor(4537.8125),\n",
       " tensor(4510.2417),\n",
       " tensor(4497.1294),\n",
       " tensor(4485.7764),\n",
       " tensor(4475.7476)]"
      ]
     },
     "execution_count": 110,
     "metadata": {},
     "output_type": "execute_result"
    }
   ],
   "source": [
    "NUM_EPOCHS = 5\n",
    "losses = []\n",
    "\n",
    "train(model=model,\n",
    "      train_loader=train_loader,\n",
    "      optimizer=optimizer,\n",
    "      criterion=loss_fn,\n",
    "      epochs=NUM_EPOCHS,\n",
    "      regularization='l2',\n",
    "      reg_lambda=1e-3)"
   ]
  },
  {
   "cell_type": "code",
   "execution_count": 111,
   "id": "a8a70e84",
   "metadata": {},
   "outputs": [
    {
     "data": {
      "image/png": "[encoded data removed]",
      "text/plain": [
       "<Figure size 640x480 with 2 Axes>"
      ]
     },
     "metadata": {},
     "output_type": "display_data"
    },
    {
     "name": "stdout",
     "output_type": "stream",
     "text": [
      "Accuracy Score on validation set: 96.80%\n"
     ]
    },
    {
     "data": {
      "text/plain": [
       "0.968"
      ]
     },
     "execution_count": 111,
     "metadata": {},
     "output_type": "execute_result"
    }
   ],
   "source": [
    "eval(model=model,\n",
    "     val_loader=val_loader)"
   ]
  },
  {
   "cell_type": "markdown",
   "id": "5ff17248",
   "metadata": {},
   "source": [
    "## Question - 2"
   ]
  },
  {
   "cell_type": "markdown",
   "id": "6147be3b",
   "metadata": {},
   "source": [
    "### Manual L1 norm"
   ]
  },
  {
   "cell_type": "code",
   "execution_count": 107,
   "id": "ab6bc6c1",
   "metadata": {},
   "outputs": [
    {
     "name": "stderr",
     "output_type": "stream",
     "text": [
      "Using cache found in /home/student/.cache/torch/hub/pytorch_vision_v0.10.0\n",
      "/home/student/Documents/220962262/DL_lab/dl_env/lib/python3.12/site-packages/torchvision/models/_utils.py:208: UserWarning: The parameter 'pretrained' is deprecated since 0.13 and may be removed in the future, please use 'weights' instead.\n",
      "  warnings.warn(\n",
      "/home/student/Documents/220962262/DL_lab/dl_env/lib/python3.12/site-packages/torchvision/models/_utils.py:223: UserWarning: Arguments other than a weight enum or `None` for 'weights' are deprecated since 0.13 and may be removed in the future. The current behavior is equivalent to passing `weights=AlexNet_Weights.IMAGENET1K_V1`. You can also use `weights=AlexNet_Weights.DEFAULT` to get the most up-to-date weights.\n",
      "  warnings.warn(msg)\n"
     ]
    }
   ],
   "source": [
    "from torchvision.models import AlexNet_Weights\n",
    "\n",
    "#model = torch.hub.load('pytorch/vision:v0.10.0', model='alexnet', weights=AlexNet_Weights.DEFAULT)\n",
    "model = torch.hub.load('pytorch/vision:v0.10.0', 'alexnet', pretrained=True)\n",
    "\n",
    "model.classifier[6] = torch.nn.Linear(in_features=4096, out_features=2)\n",
    "model = model.to(device)\n",
    "\n",
    "loss_fn = torch.nn.CrossEntropyLoss()\n",
    "\n",
    "optimizer = torch.optim.SGD(model.parameters(), lr=1e-3)"
   ]
  },
  {
   "cell_type": "code",
   "execution_count": 106,
   "id": "488e93b6",
   "metadata": {},
   "outputs": [
    {
     "name": "stdout",
     "output_type": "stream",
     "text": [
      "400 / 2000 : Progress = 20.00%\n",
      "800 / 2000 : Progress = 40.00%\n",
      "1200 / 2000 : Progress = 60.00%\n",
      "1600 / 2000 : Progress = 80.00%\n",
      "Epoch 1: Loss = 240125.15625\n",
      "400 / 2000 : Progress = 20.00%\n",
      "800 / 2000 : Progress = 40.00%\n",
      "1200 / 2000 : Progress = 60.00%\n",
      "1600 / 2000 : Progress = 80.00%\n",
      "Epoch 2: Loss = 226448.84375\n",
      "400 / 2000 : Progress = 20.00%\n",
      "800 / 2000 : Progress = 40.00%\n",
      "1200 / 2000 : Progress = 60.00%\n",
      "1600 / 2000 : Progress = 80.00%\n",
      "Epoch 3: Loss = 213374.4375\n",
      "400 / 2000 : Progress = 20.00%\n",
      "800 / 2000 : Progress = 40.00%\n",
      "1200 / 2000 : Progress = 60.00%\n",
      "1600 / 2000 : Progress = 80.00%\n",
      "Epoch 4: Loss = 200886.890625\n",
      "400 / 2000 : Progress = 20.00%\n",
      "800 / 2000 : Progress = 40.00%\n",
      "1200 / 2000 : Progress = 60.00%\n",
      "1600 / 2000 : Progress = 80.00%\n",
      "Epoch 5: Loss = 188977.515625\n"
     ]
    },
    {
     "data": {
      "image/png": "[encoded data removed]",
      "text/plain": [
       "<Figure size 640x480 with 2 Axes>"
      ]
     },
     "metadata": {},
     "output_type": "display_data"
    },
    {
     "name": "stdout",
     "output_type": "stream",
     "text": [
      "Accuracy Score on validation set: 97.10%\n"
     ]
    },
    {
     "data": {
      "text/plain": [
       "0.971"
      ]
     },
     "execution_count": 106,
     "metadata": {},
     "output_type": "execute_result"
    }
   ],
   "source": [
    "NUM_EPOCHS = 5\n",
    "losses = []\n",
    "\n",
    "train(model=model,\n",
    "      train_loader=train_loader,\n",
    "      optimizer=optimizer,\n",
    "      criterion=loss_fn,\n",
    "      epochs=NUM_EPOCHS,\n",
    "      regularization='l1',\n",
    "      reg_lambda=1e-3)\n",
    "\n",
    "eval(model=model,\n",
    "     val_loader=val_loader)"
   ]
  },
  {
   "cell_type": "markdown",
   "id": "3ada1b72",
   "metadata": {},
   "source": [
    "## Question - 3"
   ]
  },
  {
   "cell_type": "code",
   "execution_count": 114,
   "id": "1241c94b",
   "metadata": {},
   "outputs": [],
   "source": [
    "class DropoutNet(nn.Module):\n",
    "    def __init__(self):\n",
    "        super().__init__()\n",
    "        self.conv1 = nn.Conv2d(3, 32, kernel_size=5)\n",
    "        self.conv2 = nn.Conv2d(32, 64, kernel_size=3)\n",
    "        self.conv3 = nn.Conv2d(64, 32, kernel_size=3)\n",
    "        self.conv4 = nn.Conv2d(32, 16, kernel_size=3)\n",
    "        self.pool = nn.MaxPool2d((2, 2), stride=2)\n",
    "        self.relu = nn.ReLU()\n",
    "        self.drop = nn.Dropout(p=0.3)\n",
    "        self.fc1 = nn.Linear(16*12*12, 256)\n",
    "        self.fc2 = nn.Linear(256, 64)\n",
    "        self.fc3 = nn.Linear(64, 2)\n",
    "    \n",
    "    def forward(self, x):\n",
    "        x = self.relu(self.pool(self.conv1(x)))\n",
    "        x = self.relu(self.pool(self.conv2(x)))\n",
    "        x = self.relu(self.pool(self.conv3(x)))\n",
    "        x = self.relu(self.pool(self.conv4(x)))\n",
    "        x = self.drop(x)\n",
    "        x = x.reshape(x.shape[0], -1)\n",
    "        x = self.relu(self.fc1(x))\n",
    "        x = self.relu(self.fc2(x))\n",
    "        x = self.relu(self.fc3(x))\n",
    "        return x\n",
    "    \n",
    "class Net(nn.Module):\n",
    "    def __init__(self):\n",
    "        super().__init__()\n",
    "        self.conv1 = nn.Conv2d(3, 32, kernel_size=5)\n",
    "        self.conv2 = nn.Conv2d(32, 64, kernel_size=3)\n",
    "        self.conv3 = nn.Conv2d(64, 32, kernel_size=3)\n",
    "        self.conv4 = nn.Conv2d(32, 16, kernel_size=3)\n",
    "        self.pool = nn.MaxPool2d((2, 2), stride=2)\n",
    "        self.relu = nn.ReLU()\n",
    "        self.fc1 = nn.Linear(16*12*12, 256)\n",
    "        self.fc2 = nn.Linear(256, 64)\n",
    "        self.fc3 = nn.Linear(64, 2)\n",
    "    \n",
    "    def forward(self, x):\n",
    "        x = self.relu(self.pool(self.conv1(x)))\n",
    "        x = self.relu(self.pool(self.conv2(x)))\n",
    "        x = self.relu(self.pool(self.conv3(x)))\n",
    "        x = self.relu(self.pool(self.conv4(x)))\n",
    "        x = x.reshape(x.shape[0], -1)\n",
    "        x = self.relu(self.fc1(x))\n",
    "        x = self.relu(self.fc2(x))\n",
    "        x = self.relu(self.fc3(x))\n",
    "        return x"
   ]
  },
  {
   "cell_type": "markdown",
   "id": "e13efe5f",
   "metadata": {},
   "source": [
    "### Training with Dropout"
   ]
  },
  {
   "cell_type": "code",
   "execution_count": 113,
   "id": "3a5d0952",
   "metadata": {
    "scrolled": true
   },
   "outputs": [
    {
     "name": "stdout",
     "output_type": "stream",
     "text": [
      "400 / 2000 : Progress = 20.00%\n",
      "800 / 2000 : Progress = 40.00%\n",
      "1200 / 2000 : Progress = 60.00%\n",
      "1600 / 2000 : Progress = 80.00%\n",
      "2000 / 2000 : Progress = 100.00%\n",
      "Epoch 1: Loss = 345.3620910644531\n",
      "400 / 2000 : Progress = 20.00%\n",
      "800 / 2000 : Progress = 40.00%\n",
      "1200 / 2000 : Progress = 60.00%\n",
      "1600 / 2000 : Progress = 80.00%\n",
      "2000 / 2000 : Progress = 100.00%\n",
      "Epoch 2: Loss = 332.9461364746094\n",
      "400 / 2000 : Progress = 20.00%\n",
      "800 / 2000 : Progress = 40.00%\n",
      "1200 / 2000 : Progress = 60.00%\n",
      "1600 / 2000 : Progress = 80.00%\n",
      "2000 / 2000 : Progress = 100.00%\n",
      "Epoch 3: Loss = 316.3793640136719\n",
      "400 / 2000 : Progress = 20.00%\n",
      "800 / 2000 : Progress = 40.00%\n",
      "1200 / 2000 : Progress = 60.00%\n",
      "1600 / 2000 : Progress = 80.00%\n",
      "2000 / 2000 : Progress = 100.00%\n",
      "Epoch 4: Loss = 302.6006164550781\n",
      "400 / 2000 : Progress = 20.00%\n",
      "800 / 2000 : Progress = 40.00%\n",
      "1200 / 2000 : Progress = 60.00%\n",
      "1600 / 2000 : Progress = 80.00%\n",
      "2000 / 2000 : Progress = 100.00%\n",
      "Epoch 5: Loss = 288.99755859375\n",
      "400 / 2000 : Progress = 20.00%\n",
      "800 / 2000 : Progress = 40.00%\n",
      "1200 / 2000 : Progress = 60.00%\n",
      "1600 / 2000 : Progress = 80.00%\n",
      "2000 / 2000 : Progress = 100.00%\n",
      "Epoch 6: Loss = 279.65960693359375\n",
      "400 / 2000 : Progress = 20.00%\n",
      "800 / 2000 : Progress = 40.00%\n",
      "1200 / 2000 : Progress = 60.00%\n",
      "1600 / 2000 : Progress = 80.00%\n",
      "2000 / 2000 : Progress = 100.00%\n",
      "Epoch 7: Loss = 269.311767578125\n",
      "400 / 2000 : Progress = 20.00%\n",
      "800 / 2000 : Progress = 40.00%\n",
      "1200 / 2000 : Progress = 60.00%\n",
      "1600 / 2000 : Progress = 80.00%\n",
      "2000 / 2000 : Progress = 100.00%\n",
      "Epoch 8: Loss = 261.70654296875\n",
      "400 / 2000 : Progress = 20.00%\n",
      "800 / 2000 : Progress = 40.00%\n",
      "1200 / 2000 : Progress = 60.00%\n",
      "1600 / 2000 : Progress = 80.00%\n",
      "2000 / 2000 : Progress = 100.00%\n",
      "Epoch 9: Loss = 254.31504821777344\n",
      "400 / 2000 : Progress = 20.00%\n",
      "800 / 2000 : Progress = 40.00%\n",
      "1200 / 2000 : Progress = 60.00%\n",
      "1600 / 2000 : Progress = 80.00%\n",
      "2000 / 2000 : Progress = 100.00%\n",
      "Epoch 10: Loss = 247.12339782714844\n"
     ]
    },
    {
     "data": {
      "text/plain": [
       "[tensor(345.3621),\n",
       " tensor(332.9461),\n",
       " tensor(316.3794),\n",
       " tensor(302.6006),\n",
       " tensor(288.9976),\n",
       " tensor(279.6596),\n",
       " tensor(269.3118),\n",
       " tensor(261.7065),\n",
       " tensor(254.3150),\n",
       " tensor(247.1234)]"
      ]
     },
     "execution_count": 113,
     "metadata": {},
     "output_type": "execute_result"
    }
   ],
   "source": [
    "NUM_EPOCHS = 10\n",
    "\n",
    "model = DropoutNet().to(device)\n",
    "optimizer = optim.Adam(model.parameters(), lr=1e-4)\n",
    "criterion = torch.nn.CrossEntropyLoss()\n",
    "\n",
    "train(model=model,\n",
    "      train_loader=train_loader,\n",
    "      optimizer=optimizer,\n",
    "      criterion=criterion,\n",
    "      epochs=NUM_EPOCHS,\n",
    "      losses=[])"
   ]
  },
  {
   "cell_type": "code",
   "execution_count": 115,
   "id": "b3f5d06b",
   "metadata": {},
   "outputs": [
    {
     "data": {
      "image/png": "[encoded data removed]",
      "text/plain": [
       "<Figure size 640x480 with 2 Axes>"
      ]
     },
     "metadata": {},
     "output_type": "display_data"
    },
    {
     "name": "stdout",
     "output_type": "stream",
     "text": [
      "Accuracy Score on validation set: 73.80%\n"
     ]
    },
    {
     "data": {
      "text/plain": [
       "0.738"
      ]
     },
     "execution_count": 115,
     "metadata": {},
     "output_type": "execute_result"
    }
   ],
   "source": [
    "eval(model=model,\n",
    "     val_loader=val_loader)"
   ]
  },
  {
   "cell_type": "markdown",
   "id": "b63ced2c",
   "metadata": {},
   "source": [
    "### Training without dropout"
   ]
  },
  {
   "cell_type": "code",
   "execution_count": 122,
   "id": "ae2aad91",
   "metadata": {},
   "outputs": [
    {
     "name": "stdout",
     "output_type": "stream",
     "text": [
      "400 / 2000 : Progress = 20.00%\n",
      "800 / 2000 : Progress = 40.00%\n",
      "1200 / 2000 : Progress = 60.00%\n",
      "1600 / 2000 : Progress = 80.00%\n",
      "2000 / 2000 : Progress = 100.00%\n",
      "Epoch 1: Loss = 345.35882568359375\n",
      "400 / 2000 : Progress = 20.00%\n",
      "800 / 2000 : Progress = 40.00%\n",
      "1200 / 2000 : Progress = 60.00%\n",
      "1600 / 2000 : Progress = 80.00%\n",
      "2000 / 2000 : Progress = 100.00%\n",
      "Epoch 2: Loss = 333.0090637207031\n",
      "400 / 2000 : Progress = 20.00%\n",
      "800 / 2000 : Progress = 40.00%\n",
      "1200 / 2000 : Progress = 60.00%\n",
      "1600 / 2000 : Progress = 80.00%\n",
      "2000 / 2000 : Progress = 100.00%\n",
      "Epoch 3: Loss = 315.3018798828125\n"
     ]
    },
    {
     "data": {
      "text/plain": [
       "[tensor(345.3588), tensor(333.0091), tensor(315.3019)]"
      ]
     },
     "execution_count": 122,
     "metadata": {},
     "output_type": "execute_result"
    }
   ],
   "source": [
    "NUM_EPOCHS = 3\n",
    "\n",
    "model = Net().to(device)\n",
    "optimizer = optim.Adam(model.parameters(), lr=1e-4)\n",
    "criterion = torch.nn.CrossEntropyLoss()\n",
    "\n",
    "train(model=model,\n",
    "      train_loader=train_loader,\n",
    "      optimizer=optimizer,\n",
    "      criterion=criterion,\n",
    "      epochs=NUM_EPOCHS,\n",
    "      losses=[])"
   ]
  },
  {
   "cell_type": "code",
   "execution_count": 124,
   "id": "0c784c64",
   "metadata": {},
   "outputs": [
    {
     "name": "stdout",
     "output_type": "stream",
     "text": [
      "400 / 2000 : Progress = 20.00%\n",
      "800 / 2000 : Progress = 40.00%\n",
      "1200 / 2000 : Progress = 60.00%\n",
      "1600 / 2000 : Progress = 80.00%\n",
      "2000 / 2000 : Progress = 100.00%\n",
      "Epoch 1: Loss = 300.15301513671875\n",
      "400 / 2000 : Progress = 20.00%\n",
      "800 / 2000 : Progress = 40.00%\n",
      "1200 / 2000 : Progress = 60.00%\n",
      "1600 / 2000 : Progress = 80.00%\n",
      "2000 / 2000 : Progress = 100.00%\n",
      "Epoch 2: Loss = 288.0472106933594\n",
      "400 / 2000 : Progress = 20.00%\n",
      "800 / 2000 : Progress = 40.00%\n",
      "1200 / 2000 : Progress = 60.00%\n",
      "1600 / 2000 : Progress = 80.00%\n",
      "2000 / 2000 : Progress = 100.00%\n",
      "Epoch 3: Loss = 275.5261535644531\n",
      "400 / 2000 : Progress = 20.00%\n",
      "800 / 2000 : Progress = 40.00%\n",
      "1200 / 2000 : Progress = 60.00%\n",
      "1600 / 2000 : Progress = 80.00%\n",
      "2000 / 2000 : Progress = 100.00%\n",
      "Epoch 4: Loss = 267.97509765625\n",
      "400 / 2000 : Progress = 20.00%\n",
      "800 / 2000 : Progress = 40.00%\n",
      "1200 / 2000 : Progress = 60.00%\n",
      "1600 / 2000 : Progress = 80.00%\n",
      "2000 / 2000 : Progress = 100.00%\n",
      "Epoch 5: Loss = 258.7720947265625\n",
      "400 / 2000 : Progress = 20.00%\n",
      "800 / 2000 : Progress = 40.00%\n",
      "1200 / 2000 : Progress = 60.00%\n",
      "1600 / 2000 : Progress = 80.00%\n",
      "2000 / 2000 : Progress = 100.00%\n",
      "Epoch 6: Loss = 248.54673767089844\n",
      "400 / 2000 : Progress = 20.00%\n",
      "800 / 2000 : Progress = 40.00%\n",
      "1200 / 2000 : Progress = 60.00%\n",
      "1600 / 2000 : Progress = 80.00%\n",
      "2000 / 2000 : Progress = 100.00%\n",
      "Epoch 7: Loss = 242.37615966796875\n",
      "400 / 2000 : Progress = 20.00%\n",
      "800 / 2000 : Progress = 40.00%\n",
      "1200 / 2000 : Progress = 60.00%\n",
      "1600 / 2000 : Progress = 80.00%\n",
      "2000 / 2000 : Progress = 100.00%\n",
      "Epoch 8: Loss = 235.85748291015625\n",
      "400 / 2000 : Progress = 20.00%\n",
      "800 / 2000 : Progress = 40.00%\n",
      "1200 / 2000 : Progress = 60.00%\n",
      "1600 / 2000 : Progress = 80.00%\n",
      "2000 / 2000 : Progress = 100.00%\n",
      "Epoch 9: Loss = 227.11376953125\n",
      "400 / 2000 : Progress = 20.00%\n",
      "800 / 2000 : Progress = 40.00%\n",
      "1200 / 2000 : Progress = 60.00%\n",
      "1600 / 2000 : Progress = 80.00%\n",
      "2000 / 2000 : Progress = 100.00%\n",
      "Epoch 10: Loss = 222.00704956054688\n",
      "400 / 2000 : Progress = 20.00%\n",
      "800 / 2000 : Progress = 40.00%\n",
      "1200 / 2000 : Progress = 60.00%\n",
      "1600 / 2000 : Progress = 80.00%\n",
      "2000 / 2000 : Progress = 100.00%\n",
      "Epoch 11: Loss = 213.5230255126953\n",
      "400 / 2000 : Progress = 20.00%\n",
      "800 / 2000 : Progress = 40.00%\n",
      "1200 / 2000 : Progress = 60.00%\n",
      "1600 / 2000 : Progress = 80.00%\n",
      "2000 / 2000 : Progress = 100.00%\n",
      "Epoch 12: Loss = 209.29522705078125\n",
      "400 / 2000 : Progress = 20.00%\n",
      "800 / 2000 : Progress = 40.00%\n",
      "1200 / 2000 : Progress = 60.00%\n",
      "1600 / 2000 : Progress = 80.00%\n",
      "2000 / 2000 : Progress = 100.00%\n",
      "Epoch 13: Loss = 203.27395629882812\n",
      "400 / 2000 : Progress = 20.00%\n",
      "800 / 2000 : Progress = 40.00%\n",
      "1200 / 2000 : Progress = 60.00%\n",
      "1600 / 2000 : Progress = 80.00%\n",
      "2000 / 2000 : Progress = 100.00%\n",
      "Epoch 14: Loss = 200.3914031982422\n",
      "400 / 2000 : Progress = 20.00%\n",
      "800 / 2000 : Progress = 40.00%\n",
      "1200 / 2000 : Progress = 60.00%\n",
      "1600 / 2000 : Progress = 80.00%\n",
      "2000 / 2000 : Progress = 100.00%\n",
      "Epoch 15: Loss = 196.36097717285156\n",
      "400 / 2000 : Progress = 20.00%\n",
      "800 / 2000 : Progress = 40.00%\n",
      "1200 / 2000 : Progress = 60.00%\n",
      "1600 / 2000 : Progress = 80.00%\n",
      "2000 / 2000 : Progress = 100.00%\n",
      "Epoch 16: Loss = 195.09022521972656\n",
      "400 / 2000 : Progress = 20.00%\n",
      "800 / 2000 : Progress = 40.00%\n",
      "1200 / 2000 : Progress = 60.00%\n",
      "1600 / 2000 : Progress = 80.00%\n",
      "2000 / 2000 : Progress = 100.00%\n",
      "Epoch 17: Loss = 194.19476318359375\n"
     ]
    },
    {
     "data": {
      "text/plain": [
       "[tensor(300.1530),\n",
       " tensor(288.0472),\n",
       " tensor(275.5262),\n",
       " tensor(267.9751),\n",
       " tensor(258.7721),\n",
       " tensor(248.5467),\n",
       " tensor(242.3762),\n",
       " tensor(235.8575),\n",
       " tensor(227.1138),\n",
       " tensor(222.0070),\n",
       " tensor(213.5230),\n",
       " tensor(209.2952),\n",
       " tensor(203.2740),\n",
       " tensor(200.3914),\n",
       " tensor(196.3610),\n",
       " tensor(195.0902),\n",
       " tensor(194.1948)]"
      ]
     },
     "execution_count": 124,
     "metadata": {},
     "output_type": "execute_result"
    }
   ],
   "source": [
    "NUM_EPOCHS = 17\n",
    "\n",
    "train(model=model,\n",
    "      train_loader=train_loader,\n",
    "      optimizer=optimizer,\n",
    "      criterion=criterion,\n",
    "      epochs=NUM_EPOCHS,\n",
    "      losses=[])"
   ]
  },
  {
   "cell_type": "code",
   "execution_count": 126,
   "id": "988b46af",
   "metadata": {},
   "outputs": [
    {
     "data": {
      "image/png": "[encoded data removed]",
      "text/plain": [
       "<Figure size 640x480 with 2 Axes>"
      ]
     },
     "metadata": {},
     "output_type": "display_data"
    },
    {
     "name": "stdout",
     "output_type": "stream",
     "text": [
      "Accuracy Score on validation set: 71.50%\n"
     ]
    },
    {
     "data": {
      "text/plain": [
       "0.715"
      ]
     },
     "execution_count": 126,
     "metadata": {},
     "output_type": "execute_result"
    }
   ],
   "source": [
    "eval(model=model,\n",
    "     val_loader=val_loader)"
   ]
  },
  {
   "cell_type": "markdown",
   "id": "9c610bbc",
   "metadata": {},
   "source": [
    "## Question - 5"
   ]
  },
  {
   "cell_type": "markdown",
   "id": "a41d6aa1",
   "metadata": {},
   "source": [
    "### Early Stopping"
   ]
  },
  {
   "cell_type": "code",
   "execution_count": 134,
   "id": "b1784b57",
   "metadata": {},
   "outputs": [
    {
     "name": "stderr",
     "output_type": "stream",
     "text": [
      "Using cache found in /home/student/.cache/torch/hub/pytorch_vision_v0.10.0\n",
      "/home/student/Documents/220962262/DL_lab/dl_env/lib/python3.12/site-packages/torchvision/models/_utils.py:208: UserWarning: The parameter 'pretrained' is deprecated since 0.13 and may be removed in the future, please use 'weights' instead.\n",
      "  warnings.warn(\n",
      "/home/student/Documents/220962262/DL_lab/dl_env/lib/python3.12/site-packages/torchvision/models/_utils.py:223: UserWarning: Arguments other than a weight enum or `None` for 'weights' are deprecated since 0.13 and may be removed in the future. The current behavior is equivalent to passing `weights=AlexNet_Weights.IMAGENET1K_V1`. You can also use `weights=AlexNet_Weights.DEFAULT` to get the most up-to-date weights.\n",
      "  warnings.warn(msg)\n"
     ]
    },
    {
     "name": "stdout",
     "output_type": "stream",
     "text": [
      "400 / 2000 : Progress = 20.00%\n",
      "800 / 2000 : Progress = 40.00%\n",
      "1200 / 2000 : Progress = 60.00%\n",
      "1600 / 2000 : Progress = 80.00%\n",
      "2000 / 2000 : Progress = 100.00%\n",
      "Epoch 1: Loss = 196.6525421142578\n",
      "Accuracy Score on validation set: 95.80%\n",
      "400 / 2000 : Progress = 20.00%\n",
      "800 / 2000 : Progress = 40.00%\n",
      "1200 / 2000 : Progress = 60.00%\n",
      "1600 / 2000 : Progress = 80.00%\n",
      "2000 / 2000 : Progress = 100.00%\n",
      "Epoch 1: Loss = 177.33807373046875\n",
      "Accuracy Score on validation set: 95.80%\n",
      "400 / 2000 : Progress = 20.00%\n",
      "800 / 2000 : Progress = 40.00%\n",
      "1200 / 2000 : Progress = 60.00%\n",
      "1600 / 2000 : Progress = 80.00%\n",
      "2000 / 2000 : Progress = 100.00%\n",
      "Epoch 1: Loss = 173.30453491210938\n",
      "Accuracy Score on validation set: 96.10%\n",
      "400 / 2000 : Progress = 20.00%\n",
      "800 / 2000 : Progress = 40.00%\n",
      "1200 / 2000 : Progress = 60.00%\n",
      "1600 / 2000 : Progress = 80.00%\n",
      "2000 / 2000 : Progress = 100.00%\n",
      "Epoch 1: Loss = 168.92005920410156\n",
      "Accuracy Score on validation set: 96.30%\n",
      "400 / 2000 : Progress = 20.00%\n",
      "800 / 2000 : Progress = 40.00%\n",
      "1200 / 2000 : Progress = 60.00%\n",
      "1600 / 2000 : Progress = 80.00%\n",
      "2000 / 2000 : Progress = 100.00%\n",
      "Epoch 1: Loss = 167.93826293945312\n",
      "Accuracy Score on validation set: 96.40%\n",
      "400 / 2000 : Progress = 20.00%\n",
      "800 / 2000 : Progress = 40.00%\n",
      "1200 / 2000 : Progress = 60.00%\n",
      "1600 / 2000 : Progress = 80.00%\n",
      "2000 / 2000 : Progress = 100.00%\n",
      "Epoch 1: Loss = 166.11361694335938\n",
      "Accuracy Score on validation set: 96.70%\n",
      "400 / 2000 : Progress = 20.00%\n",
      "800 / 2000 : Progress = 40.00%\n",
      "1200 / 2000 : Progress = 60.00%\n",
      "1600 / 2000 : Progress = 80.00%\n",
      "2000 / 2000 : Progress = 100.00%\n",
      "Epoch 1: Loss = 165.17010498046875\n",
      "Accuracy Score on validation set: 95.50%\n",
      "400 / 2000 : Progress = 20.00%\n",
      "800 / 2000 : Progress = 40.00%\n",
      "1200 / 2000 : Progress = 60.00%\n",
      "1600 / 2000 : Progress = 80.00%\n",
      "2000 / 2000 : Progress = 100.00%\n",
      "Epoch 1: Loss = 163.83294677734375\n",
      "Accuracy Score on validation set: 96.50%\n",
      "400 / 2000 : Progress = 20.00%\n",
      "800 / 2000 : Progress = 40.00%\n",
      "1200 / 2000 : Progress = 60.00%\n",
      "1600 / 2000 : Progress = 80.00%\n",
      "2000 / 2000 : Progress = 100.00%\n",
      "Epoch 1: Loss = 162.06748962402344\n",
      "Accuracy Score on validation set: 97.00%\n",
      "400 / 2000 : Progress = 20.00%\n",
      "800 / 2000 : Progress = 40.00%\n",
      "1200 / 2000 : Progress = 60.00%\n",
      "1600 / 2000 : Progress = 80.00%\n",
      "2000 / 2000 : Progress = 100.00%\n",
      "Epoch 1: Loss = 162.739990234375\n",
      "Accuracy Score on validation set: 96.90%\n"
     ]
    }
   ],
   "source": [
    "from torchvision.models import AlexNet_Weights\n",
    "\n",
    "#model = torch.hub.load('pytorch/vision:v0.10.0', model='alexnet', weights=AlexNet_Weights.DEFAULT)\n",
    "model = torch.hub.load('pytorch/vision:v0.10.0', 'alexnet', pretrained=True)\n",
    "\n",
    "model.classifier[6] = torch.nn.Linear(in_features=4096, out_features=2)\n",
    "model = model.to(device)\n",
    "\n",
    "loss_fn = torch.nn.CrossEntropyLoss()\n",
    "\n",
    "optimizer = torch.optim.SGD(model.parameters(), lr=1e-3)\n",
    "\n",
    "NUM_EPOCHS = 10\n",
    "\n",
    "# Define early stopping parameters\n",
    "patience = 5\n",
    "best_validation_loss = float('inf')\n",
    "best_validation_acc = 0.0\n",
    "current_patience = 0\n",
    "\n",
    "# Training loop\n",
    "for epoch in range(1, NUM_EPOCHS+1):\n",
    "    print(f\"Epoch {epoch}:\")\n",
    "    train(model=model,\n",
    "          train_loader=train_loader,\n",
    "          optimizer=optimizer,\n",
    "          criterion=criterion,\n",
    "          epochs=1,\n",
    "          losses=[])\n",
    "    \n",
    "    # Validation step\n",
    "    validation_acc, validation_loss = eval(model=model,\n",
    "                         val_loader=val_loader,\n",
    "                         criterion=criterion,\n",
    "                         print_conf=False\n",
    "                        )\n",
    "    \n",
    "    printf(f\"Current validation loss: {validation_loss}, validation accuracy: {validation_acc:.2%}\")\n",
    "\n",
    "    # Check for improvement in validation loss\n",
    "    if validation_loss < best_validation_loss:\n",
    "        best_validation_loss = validation_loss\n",
    "        best_validation_acc = validation_acc\n",
    "        current_patience = 0\n",
    "\n",
    "        # Save the model if desired\n",
    "        torch.save(model.state_dict(), './Models/best_model.pth')\n",
    "    \n",
    "    else:\n",
    "        current_patience += 1\n",
    "        \n",
    "    # Check if early stopping criteria are met\n",
    "    if current_patience > patience:\n",
    "        print(\"Early stopping! No improvement for {} epochs.\".format(patience))\n",
    "        break"
   ]
  },
  {
   "cell_type": "code",
   "execution_count": 137,
   "id": "65613d81",
   "metadata": {},
   "outputs": [
    {
     "name": "stdout",
     "output_type": "stream",
     "text": [
      "Best validation loss with early stopiping algorithm: 85.78315323591232\n",
      "Best validation accuracy with early stopiping algorithm: 96.90%\n"
     ]
    }
   ],
   "source": [
    "print(f\"Best validation loss with early stopiping algorithm: {best_validation_loss}\")\n",
    "print(f\"Best validation accuracy with early stopiping algorithm: {best_validation_acc:.2%}\")"
   ]
  },
  {
   "cell_type": "code",
   "execution_count": null,
   "id": "d8eeb799",
   "metadata": {},
   "outputs": [],
   "source": []
  }
 ],
 "metadata": {
  "kernelspec": {
   "display_name": "Python (dl_env)",
   "language": "python",
   "name": "dl_env"
  },
  "language_info": {
   "codemirror_mode": {
    "name": "ipython",
    "version": 3
   },
   "file_extension": ".py",
   "mimetype": "text/x-python",
   "name": "python",
   "nbconvert_exporter": "python",
   "pygments_lexer": "ipython3",
   "version": "3.12.3"
  }
 },
 "nbformat": 4,
 "nbformat_minor": 5
}
