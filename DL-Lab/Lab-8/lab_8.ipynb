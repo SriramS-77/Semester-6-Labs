{
 "cells": [
  {
   "cell_type": "markdown",
   "id": "e24f787c",
   "metadata": {},
   "source": [
    "**Sriram Sunderrajan** <br>\n",
    "**220962444** <br>\n",
    "**Deep Learning Lab - Week 8** <br>\n",
    "**Recurrent Neural Network** <br>\n",
    "**CSE - AIML (A2 - 77)** <br>\n",
    "**18th March 2025** <br><br>"
   ]
  },
  {
   "cell_type": "code",
   "execution_count": 10,
   "id": "786528bc",
   "metadata": {},
   "outputs": [],
   "source": [
    "import torch\n",
    "import torch.nn as nn\n",
    "import torch.optim as optim\n",
    "from torch.utils.data import Dataset, DataLoader\n",
    "import numpy as np\n",
    "import pandas as pd\n",
    "import matplotlib.pyplot as plt\n",
    "from sklearn.metrics import accuracy_score\n",
    "from sklearn import metrics\n",
    "from sklearn.model_selection import train_test_split\n",
    "import torchvision\n",
    "from torchvision import transforms, datasets\n",
    "import torch.nn.functional as F\n",
    "import os\n",
    "from PIL import Image"
   ]
  },
  {
   "cell_type": "markdown",
   "id": "5ae8fa6d",
   "metadata": {},
   "source": [
    "## Question - 1"
   ]
  },
  {
   "cell_type": "code",
   "execution_count": null,
   "id": "cd9e9a9c",
   "metadata": {},
   "outputs": [],
   "source": [
    "import kagglehub\n",
    "\n",
    "# Download latest version\n",
    "path = kagglehub.dataset_download(\"joebeachcapital/natural-gas-prices\")\n",
    "\n",
    "print(\"Path to dataset files:\", path)"
   ]
  },
  {
   "cell_type": "code",
   "execution_count": 8,
   "id": "a99b9153",
   "metadata": {},
   "outputs": [],
   "source": [
    "csv_path = \"./Data/Natural Gas/daily_csv.csv\""
   ]
  },
  {
   "cell_type": "code",
   "execution_count": 19,
   "id": "13e78015",
   "metadata": {},
   "outputs": [],
   "source": [
    "device = 'cuda' if torch.cuda.is_available() else 'cpu'"
   ]
  },
  {
   "cell_type": "code",
   "execution_count": 20,
   "id": "8c481f96",
   "metadata": {},
   "outputs": [
    {
     "name": "stdout",
     "output_type": "stream",
     "text": [
      "5952\n",
      "1.05 18.48\n"
     ]
    }
   ],
   "source": [
    "df = pd.read_csv(csv_path)\n",
    "\n",
    "# Preprocess the data - Drop NA values in the dataset\n",
    "df = df.dropna()\n",
    "\n",
    "y = df['Price'].values\n",
    "x = np.arange(1, len(y), 1)\n",
    "\n",
    "print(len(y))\n",
    "\n",
    "# Normalize the input range between 0 and 1\n",
    "minm = y.min()\n",
    "maxm = y.max()\n",
    "print(minm, maxm)\n",
    "\n",
    "y = (y - minm) / (maxm - minm)\n",
    "\n",
    "Sequence_Length = 10\n",
    "X = []\n",
    "Y = []\n",
    "\n",
    "for i in range(0, 5900):\n",
    "    list1 = []\n",
    "    for j in range(i, i + Sequence_Length):\n",
    "        list1.append(y[j])\n",
    "        X.append(list1)\n",
    "        Y.append(y[j + 1])\n",
    "        \n",
    "#Convert from list to array\n",
    "X = np.array(X)\n",
    "Y = np.array(Y)\n",
    "\n",
    "#Split the data as the train and test set\n",
    "x_train, x_test, y_train, y_test = train_test_split(X, Y,\n",
    "test_size=0.10, random_state=42, shuffle=False, stratify=None)"
   ]
  },
  {
   "cell_type": "code",
   "execution_count": 21,
   "id": "acdc4ee4",
   "metadata": {},
   "outputs": [],
   "source": [
    "class NGT(Dataset):\n",
    "    def __init__(self, x, y):\n",
    "        self.x = torch.tensor(x, dtype=torch.float32)\n",
    "        self.y = torch.tensor(y, dtype=torch.float32)\n",
    "        self.len = x.shape[0]\n",
    "    \n",
    "    def __getitem__(self, idx):\n",
    "        return self.x[idx].to(device), self.y[idx].to(device)\n",
    "\n",
    "    def __len__(self):\n",
    "        return self.len\n",
    "\n",
    "dataset = NGT(x_train,y_train)\n",
    "\n",
    "from torch.utils.data import DataLoader\n",
    "\n",
    "train_loader = DataLoader(dataset, shuffle=True, batch_size=256)"
   ]
  },
  {
   "cell_type": "code",
   "execution_count": 22,
   "id": "6f9a00d8",
   "metadata": {},
   "outputs": [],
   "source": [
    "class RNNModel(nn.Module):\n",
    "    def __init__(self):\n",
    "        super(RNNModel,self).__init__()\n",
    "        self.rnn = nn.RNN(input_size=1, hidden_size=5, num_layers=1, batch_first=True)\n",
    "        self.fc1 = nn.Linear(in_features=5, out_features=1)\n",
    "    \n",
    "    def forward(self, x):\n",
    "        output, _status = self.rnn(x)\n",
    "        output = output[:,-1,:]\n",
    "        output = self.fc1(torch.relu(output))\n",
    "        return output"
   ]
  },
  {
   "cell_type": "code",
   "execution_count": 23,
   "id": "77ebe7b6",
   "metadata": {},
   "outputs": [
    {
     "name": "stdout",
     "output_type": "stream",
     "text": [
      "50 th iteration :  tensor(0.0012, device='cuda:0', grad_fn=<MseLossBackward0>)\n"
     ]
    },
    {
     "ename": "KeyboardInterrupt",
     "evalue": "",
     "output_type": "error",
     "traceback": [
      "\u001b[0;31m---------------------------------------------------------------------------\u001b[0m",
      "\u001b[0;31mKeyboardInterrupt\u001b[0m                         Traceback (most recent call last)",
      "Cell \u001b[0;32mIn[23], line 12\u001b[0m\n\u001b[1;32m     10\u001b[0m     y_pred \u001b[38;5;241m=\u001b[39m model(data[:][\u001b[38;5;241m0\u001b[39m]\u001b[38;5;241m.\u001b[39mview(\u001b[38;5;241m-\u001b[39m\u001b[38;5;241m1\u001b[39m, Sequence_Length, \u001b[38;5;241m1\u001b[39m))\u001b[38;5;241m.\u001b[39mreshape(\u001b[38;5;241m-\u001b[39m\u001b[38;5;241m1\u001b[39m)\n\u001b[1;32m     11\u001b[0m     loss \u001b[38;5;241m=\u001b[39m criterion(y_pred, data[:][\u001b[38;5;241m1\u001b[39m])\n\u001b[0;32m---> 12\u001b[0m     \u001b[43mloss\u001b[49m\u001b[38;5;241;43m.\u001b[39;49m\u001b[43mbackward\u001b[49m\u001b[43m(\u001b[49m\u001b[43m)\u001b[49m\n\u001b[1;32m     13\u001b[0m     optimizer\u001b[38;5;241m.\u001b[39mstep()\n\u001b[1;32m     14\u001b[0m \u001b[38;5;28;01mif\u001b[39;00m i \u001b[38;5;241m%\u001b[39m \u001b[38;5;241m50\u001b[39m \u001b[38;5;241m==\u001b[39m \u001b[38;5;241m0\u001b[39m:\n",
      "File \u001b[0;32m~/Documents/220962262/DL_lab/dl_env/lib/python3.12/site-packages/torch/_tensor.py:581\u001b[0m, in \u001b[0;36mTensor.backward\u001b[0;34m(self, gradient, retain_graph, create_graph, inputs)\u001b[0m\n\u001b[1;32m    571\u001b[0m \u001b[38;5;28;01mif\u001b[39;00m has_torch_function_unary(\u001b[38;5;28mself\u001b[39m):\n\u001b[1;32m    572\u001b[0m     \u001b[38;5;28;01mreturn\u001b[39;00m handle_torch_function(\n\u001b[1;32m    573\u001b[0m         Tensor\u001b[38;5;241m.\u001b[39mbackward,\n\u001b[1;32m    574\u001b[0m         (\u001b[38;5;28mself\u001b[39m,),\n\u001b[0;32m   (...)\u001b[0m\n\u001b[1;32m    579\u001b[0m         inputs\u001b[38;5;241m=\u001b[39minputs,\n\u001b[1;32m    580\u001b[0m     )\n\u001b[0;32m--> 581\u001b[0m \u001b[43mtorch\u001b[49m\u001b[38;5;241;43m.\u001b[39;49m\u001b[43mautograd\u001b[49m\u001b[38;5;241;43m.\u001b[39;49m\u001b[43mbackward\u001b[49m\u001b[43m(\u001b[49m\n\u001b[1;32m    582\u001b[0m \u001b[43m    \u001b[49m\u001b[38;5;28;43mself\u001b[39;49m\u001b[43m,\u001b[49m\u001b[43m \u001b[49m\u001b[43mgradient\u001b[49m\u001b[43m,\u001b[49m\u001b[43m \u001b[49m\u001b[43mretain_graph\u001b[49m\u001b[43m,\u001b[49m\u001b[43m \u001b[49m\u001b[43mcreate_graph\u001b[49m\u001b[43m,\u001b[49m\u001b[43m \u001b[49m\u001b[43minputs\u001b[49m\u001b[38;5;241;43m=\u001b[39;49m\u001b[43minputs\u001b[49m\n\u001b[1;32m    583\u001b[0m \u001b[43m\u001b[49m\u001b[43m)\u001b[49m\n",
      "File \u001b[0;32m~/Documents/220962262/DL_lab/dl_env/lib/python3.12/site-packages/torch/autograd/__init__.py:347\u001b[0m, in \u001b[0;36mbackward\u001b[0;34m(tensors, grad_tensors, retain_graph, create_graph, grad_variables, inputs)\u001b[0m\n\u001b[1;32m    342\u001b[0m     retain_graph \u001b[38;5;241m=\u001b[39m create_graph\n\u001b[1;32m    344\u001b[0m \u001b[38;5;66;03m# The reason we repeat the same comment below is that\u001b[39;00m\n\u001b[1;32m    345\u001b[0m \u001b[38;5;66;03m# some Python versions print out the first line of a multi-line function\u001b[39;00m\n\u001b[1;32m    346\u001b[0m \u001b[38;5;66;03m# calls in the traceback and some print out the last line\u001b[39;00m\n\u001b[0;32m--> 347\u001b[0m \u001b[43m_engine_run_backward\u001b[49m\u001b[43m(\u001b[49m\n\u001b[1;32m    348\u001b[0m \u001b[43m    \u001b[49m\u001b[43mtensors\u001b[49m\u001b[43m,\u001b[49m\n\u001b[1;32m    349\u001b[0m \u001b[43m    \u001b[49m\u001b[43mgrad_tensors_\u001b[49m\u001b[43m,\u001b[49m\n\u001b[1;32m    350\u001b[0m \u001b[43m    \u001b[49m\u001b[43mretain_graph\u001b[49m\u001b[43m,\u001b[49m\n\u001b[1;32m    351\u001b[0m \u001b[43m    \u001b[49m\u001b[43mcreate_graph\u001b[49m\u001b[43m,\u001b[49m\n\u001b[1;32m    352\u001b[0m \u001b[43m    \u001b[49m\u001b[43minputs\u001b[49m\u001b[43m,\u001b[49m\n\u001b[1;32m    353\u001b[0m \u001b[43m    \u001b[49m\u001b[43mallow_unreachable\u001b[49m\u001b[38;5;241;43m=\u001b[39;49m\u001b[38;5;28;43;01mTrue\u001b[39;49;00m\u001b[43m,\u001b[49m\n\u001b[1;32m    354\u001b[0m \u001b[43m    \u001b[49m\u001b[43maccumulate_grad\u001b[49m\u001b[38;5;241;43m=\u001b[39;49m\u001b[38;5;28;43;01mTrue\u001b[39;49;00m\u001b[43m,\u001b[49m\n\u001b[1;32m    355\u001b[0m \u001b[43m\u001b[49m\u001b[43m)\u001b[49m\n",
      "File \u001b[0;32m~/Documents/220962262/DL_lab/dl_env/lib/python3.12/site-packages/torch/autograd/graph.py:825\u001b[0m, in \u001b[0;36m_engine_run_backward\u001b[0;34m(t_outputs, *args, **kwargs)\u001b[0m\n\u001b[1;32m    823\u001b[0m     unregister_hooks \u001b[38;5;241m=\u001b[39m _register_logging_hooks_on_whole_graph(t_outputs)\n\u001b[1;32m    824\u001b[0m \u001b[38;5;28;01mtry\u001b[39;00m:\n\u001b[0;32m--> 825\u001b[0m     \u001b[38;5;28;01mreturn\u001b[39;00m \u001b[43mVariable\u001b[49m\u001b[38;5;241;43m.\u001b[39;49m\u001b[43m_execution_engine\u001b[49m\u001b[38;5;241;43m.\u001b[39;49m\u001b[43mrun_backward\u001b[49m\u001b[43m(\u001b[49m\u001b[43m  \u001b[49m\u001b[38;5;66;43;03m# Calls into the C++ engine to run the backward pass\u001b[39;49;00m\n\u001b[1;32m    826\u001b[0m \u001b[43m        \u001b[49m\u001b[43mt_outputs\u001b[49m\u001b[43m,\u001b[49m\u001b[43m \u001b[49m\u001b[38;5;241;43m*\u001b[39;49m\u001b[43margs\u001b[49m\u001b[43m,\u001b[49m\u001b[43m \u001b[49m\u001b[38;5;241;43m*\u001b[39;49m\u001b[38;5;241;43m*\u001b[39;49m\u001b[43mkwargs\u001b[49m\n\u001b[1;32m    827\u001b[0m \u001b[43m    \u001b[49m\u001b[43m)\u001b[49m  \u001b[38;5;66;03m# Calls into the C++ engine to run the backward pass\u001b[39;00m\n\u001b[1;32m    828\u001b[0m \u001b[38;5;28;01mfinally\u001b[39;00m:\n\u001b[1;32m    829\u001b[0m     \u001b[38;5;28;01mif\u001b[39;00m attach_logging_hooks:\n",
      "\u001b[0;31mKeyboardInterrupt\u001b[0m: "
     ]
    }
   ],
   "source": [
    "model = RNNModel().to(device)\n",
    "\n",
    "criterion = torch.nn.MSELoss()\n",
    "optimizer = torch.optim.Adam(model.parameters(), lr=0.0001)\n",
    "\n",
    "epochs = 1500\n",
    "\n",
    "for i in range(1, epochs+1):\n",
    "    for j, data in enumerate(train_loader):\n",
    "        y_pred = model(data[:][0].view(-1, Sequence_Length, 1)).reshape(-1)\n",
    "        loss = criterion(y_pred, data[:][1])\n",
    "        loss.backward()\n",
    "        optimizer.step()\n",
    "    if i % 50 == 0:\n",
    "        print(i, \"th iteration : \", loss)"
   ]
  },
  {
   "cell_type": "code",
   "execution_count": 31,
   "id": "87964244",
   "metadata": {},
   "outputs": [
    {
     "data": {
      "image/png": "[encoded data removed]",
      "text/plain": [
       "<Figure size 640x480 with 1 Axes>"
      ]
     },
     "metadata": {},
     "output_type": "display_data"
    },
    {
     "data": {
      "text/plain": [
       "'\\n#Undo normalization\\ny = y * (maxm - minm) + minm\\ny_pred = test_pred.detach().cpu().numpy() * (maxm - minm) + minm\\n\\nplt.plot(y)\\nplt.plot(range(len(y)-len(y_pred), len(y)), y_pred)\\nplt.show()\\n'"
      ]
     },
     "execution_count": 31,
     "metadata": {},
     "output_type": "execute_result"
    }
   ],
   "source": [
    "# Test actual vs predicted\n",
    "test_set = NGT(x_test,y_test)\n",
    "test_pred = model(test_set[:][0].view(-1,10,1)).view(-1)\n",
    "\n",
    "plt.title(\"Predicted vs Actual Prices\")\n",
    "plt.xlabel(\"Time\")\n",
    "plt.ylabel(\"Price of natural gas\")\n",
    "plt.plot(test_pred.detach().cpu().numpy(), label='predicted')\n",
    "plt.plot(test_set[:][1].view(-1).cpu(), label='original')\n",
    "plt.legend()\n",
    "plt.show()\n",
    "\n",
    "\n",
    "\"\"\"\n",
    "#Undo normalization\n",
    "y = y * (maxm - minm) + minm\n",
    "y_pred = test_pred.detach().cpu().numpy() * (maxm - minm) + minm\n",
    "\n",
    "plt.plot(y)\n",
    "plt.plot(range(len(y)-len(y_pred), len(y)), y_pred)\n",
    "plt.show()\n",
    "\"\"\""
   ]
  },
  {
   "cell_type": "markdown",
   "id": "c33d4fff",
   "metadata": {},
   "source": [
    "## Question - 2"
   ]
  },
  {
   "cell_type": "code",
   "execution_count": 158,
   "id": "05fbe8da",
   "metadata": {},
   "outputs": [],
   "source": [
    "from glob import glob\n",
    "import random\n",
    "import string\n",
    "\n",
    "names_dir_path = \"./Data/Names/data/names/\"\n",
    "\n",
    "class namesDataset(Dataset):\n",
    "    def __init__(self, dir, train_split=0.9, max_length=None):\n",
    "        super().__init__()\n",
    "        \n",
    "        self.train = True\n",
    "        self.data = []\n",
    "        \n",
    "        self.labelToLang = {}\n",
    "        \n",
    "        # Mapping of characters to integers\n",
    "        all_characters = string.ascii_lowercase\n",
    "        self.n_characters = len(all_characters)\n",
    "        self.char_to_index = {ch: i for i, ch in enumerate(all_characters)}\n",
    "        \n",
    "        file_names = glob(os.path.join(dir, \"*.txt\"))\n",
    "            \n",
    "        \n",
    "        for lang_idx, file_name in enumerate(file_names):\n",
    "            lang = file_name.split(\"/\")[-1][:-4]\n",
    "            self.labelToLang[lang_idx] = lang\n",
    "            \n",
    "            f = open(file_name, \"r\")\n",
    "            self.data += [([self.char_to_index.get(ch, 0) for ch in name[:-1].lower()], lang_idx) for name in f.readlines()]\n",
    "        \n",
    "        self.max_length = max_length\n",
    "        \n",
    "        if self.max_length is None:\n",
    "            self.max_length = max([len(data_point[0]) for data_point in self.data])\n",
    "        \n",
    "        random.shuffle(self.data)\n",
    "        # print(self.data)\n",
    "        \n",
    "        self.train_data, self.test_data = self.data[:int(len(self.data) * train_split)], self.data[int(len(self.data) * train_split):]\n",
    "        print(len(self.train_data), len(self.test_data))\n",
    "        print(self.test_data)\n",
    "    \n",
    "    def __len__(self):\n",
    "        return len(self.train_data) if self.train else len(self.test_data)\n",
    "    \n",
    "    def __getitem__(self, idx):\n",
    "        name, label = self.train_data[idx] if self.train else self.test_data[idx]\n",
    "        \n",
    "        # Pad name to have fixed length\n",
    "        name = name[:self.max_length] + [0] * (self.max_length - len(name))\n",
    "        \n",
    "        return torch.Tensor(name).to(device), torch.tensor(label).to(device)"
   ]
  },
  {
   "cell_type": "code",
   "execution_count": 159,
   "id": "82d0bc31",
   "metadata": {},
   "outputs": [
    {
     "name": "stdout",
     "output_type": "stream",
     "text": [
      "18066 2008\n",
      "[([11, 4, 13, 8, 7, 0, 13], 17), ([3, 0, 7, 4, 17], 5), ([6, 8, 13, 19, 24], 17), ([17, 14, 1, 0, 10, 8, 3, 25, 4], 1), ([7, 20, 1, 20, 19, 8, 24, 0], 1), ([9, 0, 2, 7, 13, 8, 10], 1), ([0, 19, 24, 0, 18, 14, 21], 1), ([11, 8, 13, 6], 3), ([12, 20, 25, 7, 25, 7, 0, 21, 11, 4, 21], 1), ([6, 0, 20, 17], 1), ([21, 8, 11, 24, 20, 13, 0, 18], 1), ([6, 7, 0, 13, 4, 12], 5), ([9, 8, 3, 10, 14, 21], 1), ([24, 0, 12, 0, 14, 10, 0], 7), ([11, 8, 2, 7, 10, 20, 13], 1), ([14, 18, 19, 11, 4, 17], 17), ([13, 14, 19, 14, 17, 8, 0, 13, 14], 14), ([24, 4, 19, 12, 0, 13], 17), ([1, 0, 25], 5), ([18, 0, 11, 8, 13, 0, 18], 11), ([0, 2, 16, 20, 0], 14), ([18, 8, 11, 21, 4, 18, 19, 17, 8], 14), ([17, 14, 12, 15, 0, 24, 4], 9), ([17, 14, 12, 0, 6, 13, 14, 11, 8], 14), ([18, 7, 0, 13, 0, 20, 17, 8, 13], 1), ([7, 0, 15, 24], 1), ([3, 14, 21, 4, 8, 10, 14], 1), ([5, 0, 10, 7, 14, 20, 17, 24], 5), ([18, 19, 0, 1, 8, 11, 4], 14), ([11, 24, 19, 10, 8, 13, 0], 1), ([24, 0, 13, 10, 8, 18], 1), ([15, 0, 24, 13, 4], 17), ([12, 8, 10, 7, 0, 8, 11, 24, 0, 13, 19, 18], 1), ([17, 4, 13, 3, 4, 17], 17), ([9, 0, 3, 14, 21], 1), ([21, 0, 10, 20, 11, 4, 13, 10, 14], 1), ([3, 4, 12, 8, 7, 14, 21], 1), ([18, 7, 0, 12, 17, 0, 8], 1), ([11, 4, 8, 1, 0], 1), ([0, 21, 8, 11, 10, 8, 13], 1), ([6, 20, 9, 14], 1), ([19, 17, 0, 21, 8, 11, 11], 17), ([7, 8, 11, 10, 14, 21], 1), ([5, 14, 12, 8, 13, 19, 18, 4, 21], 1), ([18, 0, 11, 8, 1, 0], 5), ([13, 8, 2, 14, 11], 17), ([18, 19, 0, 13, 19, 14, 13], 17), ([15, 4, 0, 19], 17), ([6, 20, 8, 17, 6, 20, 8, 18], 5), ([11, 4, 8, 25, 4, 17, 12, 0, 13], 1), ([2, 17, 14, 22, 19, 7, 4, 17], 17), ([1, 0, 1, 0], 5), ([0, 17, 19, 4, 13, 14, 21], 1), ([12, 0, 11, 14, 14, 5], 5), ([21, 8, 11, 0, 17, 0], 11), ([1, 0, 9, 4, 13, 14, 21], 1), ([0, 11, 1, 4, 17, 8, 2, 8], 14), ([24, 4, 0, 3, 14, 13], 17), ([18, 7, 0, 12, 20, 25, 0, 5, 0, 17, 14, 21], 1), ([0, 1, 17, 14, 18, 10, 8, 13], 1), ([18, 4, 11, 11, 0, 17, 18], 17), ([1, 0, 10, 11, 0, 13, 14, 21], 1), ([7, 11, 14, 15, 14, 19, 13, 24, 0], 1), ([17, 0, 14], 3), ([12, 8, 10, 7, 0, 8, 11, 24, 2, 7, 4, 21], 1), ([7, 0, 4, 13, 17, 0, 4, 19, 18], 9), ([10, 0, 18, 18, 8, 18], 5), ([17, 14, 18, 4], 17), ([18, 4, 14], 6), ([18, 7, 0, 10, 7, 20, 17, 14, 21], 1), ([21, 0, 10, 20, 11, 18, 10, 24], 1), ([19, 0, 13, 8], 7), ([15, 4, 2, 7, 20, 17, 10, 8, 13], 1), ([10, 20, 13, 3, 0], 7), ([19, 18, 4, 1, 14, 4, 21], 1), ([11, 8, 12, 0, 17, 14, 21], 1), ([12, 14, 11, 14, 3, 24, 7], 1), ([9, 4, 18, 18, 14, 15], 17), ([3, 25, 7, 0, 13, 0, 4, 21], 1), ([11, 8, 10, 7, 19, 4, 13, 19, 20, 11], 1), ([1, 0, 3, 0, 13, 8, 13], 1), ([19, 25, 4, 8, 3, 11, 4, 17], 1), ([7, 8, 18, 12, 0, 19, 20, 11, 11, 8, 13], 1), ([25, 8, 13, 10, 14, 21, 18, 10, 24], 1), ([0, 6, 0, 15, 8, 4, 21], 1), ([1, 4, 8, 3, 4, 17], 1), ([20, 1, 4, 17, 19, 8], 14), ([6, 4, 17, 6, 4, 18], 5), ([6, 8, 11, 10, 18], 17), ([22, 8, 13, 19, 7, 4, 17], 13), ([10, 0, 19, 25, 4, 21, 12, 0, 13], 1), ([3, 4, 11, 6, 0, 3, 14], 11), ([7, 0, 3, 3, 0, 3], 5), ([15, 20, 17, 18, 4], 17), ([7, 4, 24, 22, 14, 14, 3], 17), ([9, 0, 3, 0, 13, 14, 21, 18, 10, 24], 1), ([1, 0, 10, 17, 24, 12, 14, 5, 5], 1), ([3, 14, 3, 3, 18], 17), ([10, 0, 22, 0, 18, 0, 22, 0], 7), ([4, 8, 10, 7, 12, 0, 13, 18], 1), ([21, 4, 17, 18, 19, 0, 10, 14, 21], 1), ([19, 25, 0, 15, 0, 4, 21], 1), ([0, 20, 1, 4, 17, 19, 14, 13], 17), ([19, 0, 10, 4, 19, 14, 12, 14], 7), ([17, 7, 24, 18], 12), ([0, 22, 0, 3], 5), ([19, 20, 13, 8, 18, 14, 13], 9), ([17, 0, 8, 10, 7, 12, 0, 13], 1), ([21, 8, 11, 1, 20, 18, 7, 4, 21, 8, 2, 7], 1), ([12, 14, 11, 4, 21], 1), ([15, 4, 2, 7, 8, 13, 8, 13], 1), ([7, 0, 3, 0, 17, 19, 18, 4, 21], 1), ([17, 0, 21, 4, 13], 17), ([15, 4, 8, 18, 0, 17], 4), ([13, 0, 22, 0, 1, 4], 7), ([18, 19, 0, 21, 17, 14, 15, 14, 20, 11, 14, 18], 10), ([0, 17, 8, 22, 0, 17, 0], 7), ([2, 14, 18, 19, 0, 13, 19, 8, 13, 8], 14), ([18, 20, 0, 8, 17, 3], 12), ([6, 14, 17, 1, 20, 25, 4, 13, 10, 14], 1), ([11, 14, 21, 0, 19, 19], 17), ([1, 0, 6, 17, 14, 21], 1), ([12, 0, 11, 14, 20, 5], 5), ([18, 8, 11, 21, 4, 17, 18, 19, 4, 8, 13], 13), ([17, 0, 15, 14, 19, 0], 1), ([10, 0, 11, 1], 5), ([0, 6, 17, 0, 12, 14, 5, 5], 1), ([0, 22, 4, 17, 10, 8, 4, 5, 5], 1), ([12, 0, 13, 20, 18], 12), ([10, 14, 14], 3), ([10, 14, 20, 17, 14, 18], 10), ([10, 4, 18, 18, 4, 11], 4), ([22, 4, 8], 3), ([12, 14, 7, 13, 0, 19, 10, 8, 13], 1), ([5, 8, 13, 14, 18, 7, 8, 13], 1), ([18, 0, 13, 19, 8, 11, 11, 8, 0, 13], 11), ([4, 11, 0, 15, 14, 21], 1), ([2, 7, 8, 9, 4, 21, 18, 10, 24], 1), ([24, 0, 13, 8, 1, 4, 10, 14, 21], 1), ([18, 0, 11, 8, 1, 0], 5), ([0, 1, 4, 11, 12, 0, 25, 14, 21], 1), ([11, 14, 25, 1, 4, 13], 1), ([11, 4, 18, 19, 17, 0, 13, 6, 4], 0), ([19, 20, 1, 4, 11, 18, 10, 24], 1), ([1, 8, 18, 7, 0, 17, 0], 5), ([19, 20, 17, 12, 8, 11, 14, 21], 1), ([7, 8, 17, 0, 24, 0, 12, 0], 7), ([2, 7, 17, 14, 12, 24], 4), ([1, 0, 8, 10, 14, 21, 18, 10, 8], 1), ([2, 17, 0, 8, 6], 2), ([21, 24, 0, 10, 10, 4, 17, 4, 21], 1), ([13, 0, 10, 7, 8, 12, 14, 21], 1), ([18, 11, 14, 0, 13], 17), ([12, 8, 10, 7, 0, 11, 8, 19, 18, 8, 13], 1), ([11, 8, 10, 7, 14, 18, 7, 4, 17, 18, 19, 14, 21], 1), ([22, 0, 6, 18, 19, 0, 5, 5], 17), ([15, 8, 4, 17, 17, 4], 0), ([14, 13, 4, 8, 11], 17), ([17, 20, 8], 3), ([22, 4, 17, 13, 7, 4, 17], 13), ([4, 18, 18, 0], 5), ([12, 14, 9, 0, 17], 1), ([9, 8, 6, 0, 8, 11, 14], 1), ([7, 14, 12, 4, 13, 10, 14], 1), ([18, 20, 11, 0], 4), ([0, 22, 17, 0, 12, 19, 2, 7, 8, 10], 1), ([12, 14, 13, 4, 19, 19, 4], 0), ([12, 0, 0, 11, 14, 20, 5], 5), ([0, 3, 0, 12, 4, 13, 10, 14], 1), ([22, 7, 8, 19, 1, 24], 17), ([0, 21, 0, 10, 0, 24, 0, 13], 1), ([12, 0, 11, 14, 14, 5], 5), ([10, 0, 22, 0, 18, 7, 8, 12, 0], 7), ([17, 0, 22, 11, 8, 13, 6, 18], 17), ([22, 0, 11, 19, 7, 4, 17], 13), ([18, 7, 0, 12, 0, 7, 14, 21], 1), ([14, 13, 3, 17, 8, 10, 14, 21], 1), ([3, 17, 14, 9, 3, 8, 13], 1), ([1, 20, 10, 14, 22, 18, 10, 8], 15), ([6, 11, 0, 2, 10, 13, 4, 17], 13), ([9, 14, 11, 11, 24], 17), ([11, 8, 7, 14, 1, 0, 1, 0], 1), ([12, 0, 17, 19, 4, 11, 11], 13), ([17, 0, 7, 0, 11], 5), ([1, 20, 18, 7], 17), ([7, 0, 22, 10, 8, 13, 18], 17), ([18, 0, 11, 8, 1, 0], 5), ([17, 24, 25, 7, 0, 10], 1), ([11, 0, 20, 22, 4, 17, 18], 9), ([21, 0, 18, 18], 17), ([4, 8, 13, 6, 14, 17, 13], 1), ([0, 1, 3, 17, 0, 25, 0, 10, 14, 5, 5], 1), ([1, 0, 1, 20, 17, 8, 13], 1), ([5, 4, 18, 2, 7, 4, 13, 10, 14], 1), ([13, 0, 15, 15, 4, 17], 17), ([0, 17, 2, 7, 0, 12, 1, 0, 20, 11, 19], 0), ([25, 0, 18, 11, 20, 4, 21], 1), ([17, 0, 12, 0, 0, 10, 4, 17], 9), ([0, 21, 3, 4, 4, 21], 1), ([24, 0, 19, 18, 24, 10], 1), ([6, 17, 14, 3, 10, 14], 1), ([22, 0, 17, 4, 8, 13, 6], 17), ([6, 0, 18, 15, 8, 17, 14, 21, 8, 2, 7], 1), ([13, 0, 3, 4, 17], 5), ([10, 4, 17, 17, 8, 3, 6, 4], 17), ([12, 20, 1, 0, 17, 24, 0, 10, 14, 21], 1), ([21, 4, 17, 18, 19, 8, 13], 1), ([10, 17, 20, 6, 4, 17], 17), ([0, 3, 14, 10, 7, 8, 13], 1), ([0, 19, 8, 24, 4, 7], 5), ([11, 0, 12], 3), ([3, 8, 10, 14, 21, 18, 10, 24], 1), ([15, 14, 11, 8, 19, 4, 18], 10), ([11, 14, 7, 19, 8, 13], 1), ([17, 14, 12, 15, 20], 9), ([11, 4, 6, 6, 4], 17), ([3, 14, 21, 25, 7, 4, 13, 10, 14], 1), ([25, 7, 1, 0, 13, 10, 14, 21], 1), ([19, 0, 10, 4, 12, 0, 6, 14], 7), ([3, 9, 0, 12, 0, 11, 3, 8, 13, 14, 21], 1), ([19, 14, 15, 11, 4, 24], 17), ([3, 14, 21, 6, 14, 11, 4, 21, 18, 10, 24], 1), ([22, 0, 13, 6], 17), ([25, 7, 8, 19, 8, 13, 10, 8, 13], 1), ([12, 14, 3, 4, 11], 1), ([22, 7, 8, 19, 5, 8, 4, 11, 3], 17), ([4, 12, 12, 14, 13, 18], 17), ([1, 0, 25, 9, 8, 13], 1), ([10, 0, 19, 25, 4, 21], 1), ([10, 0, 15, 18, 8, 12, 0, 11, 11, 4, 18], 10), ([9, 0, 1, 17, 4, 21], 1), ([9, 0, 10, 7, 14, 13, 19, 14, 21], 1), ([6, 4, 19, 11, 8, 13, 6], 1), ([18, 0, 13, 19, 8, 0, 6, 14], 16), ([2, 14, 11, 11, 8, 13, 18], 17), ([21, 8, 10, 7, 8, 17, 4, 21], 1), ([7, 0, 6, 20, 17], 1), ([9, 0, 17, 8, 10, 14, 21], 1), ([2, 7, 14, 18, 7, 8], 7), ([17, 25, 7, 0, 21, 8, 13, 18, 10, 24], 1), ([9, 14, 7, 13, 18, 19, 14, 13, 4], 17), ([12, 14, 11, 11, 0, 4, 21], 1), ([18, 15, 0, 13, 0], 14), ([13, 4, 22, 1, 24], 17), ([13, 0, 18, 8, 10, 14, 21, 18, 10, 24], 1), ([5, 17, 8, 4, 11], 17), ([19, 2, 7, 4, 7], 1), ([18, 20, 13], 6), ([19, 20, 17, 19, 0], 1), ([8, 12, 13, 8, 0, 12, 8, 13, 14, 21], 1), ([9, 8, 0], 3), ([14, 11, 8, 21, 4, 17], 17), ([2, 20, 17, 22, 14, 14, 3], 17), ([18, 0, 1, 1, 0, 6], 5), ([7, 0, 3, 3, 4, 13], 17), ([15, 8, 17, 20, 18, 7, 10, 8, 13], 1), ([19, 18, 4, 11, 8, 14, 18], 10), ([6, 20, 0, 13, 6], 3), ([21, 0, 9, 13, 8, 2, 7, 24], 1), ([2, 4, 17, 13, 24], 4), ([3, 25, 7, 0, 13, 0, 18, 7, 8, 24, 0], 1), ([12, 8, 7, 11, 8, 13], 1), ([11, 8, 21, 13, 4, 21], 1), ([6, 17, 14, 20, 13, 3, 14, 13], 1), ([18, 7, 8, 12], 6), ([10, 7, 14, 20, 17, 8], 5), ([1, 0, 10, 7, 11, 0, 4, 21], 1), ([14, 17, 4, 8, 11, 11, 24], 17), ([6, 0, 12, 1, 11, 4], 17), ([0, 25, 7, 13, 8, 10, 14, 21], 1), ([18, 19, 0, 2, 4, 24], 17), ([3, 4, 4, 1], 5), ([19, 25, 0, 11, 10, 14], 1), ([9, 0, 19, 25, 10, 14, 21, 18, 10, 24], 1), ([21, 24, 18, 2, 7, 4, 15, 0, 13], 1), ([0, 6, 0, 1, 0, 1, 24, 0, 13], 1), ([14, 12, 0, 13], 17), ([18, 19, 17, 8, 11, 0, 10, 14, 18], 10), ([17, 9, 0, 21, 8, 13, 18, 10, 24], 1), ([20, 13, 6, 0, 17, 4, 19, 19, 8], 14), ([5, 20, 11, 10, 4, 17], 17), ([1, 17, 20, 13], 13), ([8, 11, 24, 20, 18, 7, 8, 13], 1), ([6, 4, 18, 18, 4], 1), ([25, 14, 6, 1, 24], 5), ([1, 4, 17, 6, 4, 17], 13), ([17, 14, 3, 3, 4, 13], 17), ([18, 7, 0, 13, 0, 13, 24, 10, 8, 13], 1), ([10, 0, 11, 4, 18, 13, 8, 10], 1), ([3, 14, 11, 4, 25, 0, 11], 4), ([18, 0, 8, 19, 14], 7), ([3, 25, 7, 0, 1, 17, 0, 8, 11, 14, 21], 1), ([24, 14, 10, 14, 24, 0, 12, 0], 7), ([14, 24, 0, 12, 0], 7), ([15, 17, 14, 12, 24, 18, 11, 14, 21], 1), ([12, 10, 17, 19, 20, 12, 14, 21], 1), ([3, 4, 17, 5, 4, 11], 1), ([15, 17, 14, 21, 4, 13, 25, 0], 14), ([25, 7, 4, 6, 20, 11, 8, 13], 1), ([21, 14, 17, 14, 19, 13, 8, 10, 14, 21], 1), ([19, 8, 11, 11], 4), ([0, 11, 1, 4, 17], 17), ([10, 0, 11, 0, 1, 20, 10, 7, 14, 21], 1), ([21, 4, 13, 19, 20, 17, 0], 11), ([0, 21, 0, 11, 24, 0, 13], 1), ([2, 7, 4, 17, 20, 10, 7, 8, 13], 1), ([19, 0, 1, 20, 2, 7, 8], 7), ([3, 9, 20, 17, 14], 1), ([5, 0, 10, 7, 14, 20, 17, 24], 5), ([6, 0, 6, 4, 12, 4, 8, 18, 19, 4, 17], 1), ([1, 4, 13, 4, 19, 19, 14, 13], 14), ([7, 0, 17, 15, 4, 17], 17), ([15, 14, 7, 8, 11, 4, 21, 8, 2, 7], 1), ([17, 20, 18, 13, 0, 10], 15), ([6, 17, 8, 1, 10, 14, 21], 1), ([17, 4, 1, 10, 0], 4), ([21, 0, 13, 18, 7, 4, 8, 3, 19], 1), ([10, 0, 11, 8, 19, 21, 8, 13], 1), ([21, 0, 11, 8, 18, 7, 8, 13], 1), ([12, 8, 10, 7, 11, 8, 13], 1), ([19, 8, 7, 12, 4, 13, 4, 21], 1), ([0, 21, 0, 13, 4, 18, 14, 21], 1), ([6, 14, 11, 14, 20, 18, 7, 4, 21], 1), ([11, 4, 4, 20, 22, 4, 13, 7, 14, 4, 10], 9), ([1, 14, 20, 19, 17, 14, 18], 5), ([7, 14, 17, 10, 8, 13], 1), ([17, 0, 10, 7, 8, 12, 14, 21], 1), ([0, 17, 8, 0, 13], 5), ([10, 0, 2, 7, 8, 13, 18, 10, 24], 1), ([6, 14, 11, 14, 1, 14, 17, 14, 3, 10, 14], 1), ([5, 0, 11, 10], 13), ([22, 14, 14, 3, 7, 0, 12, 18], 17), ([18, 4, 6, 17, 4, 19, 8], 14), ([22, 0, 10, 0, 19, 18, 20, 10, 8], 7), ([21, 24, 21, 14, 3, 19, 18, 4, 21], 1), ([12, 14, 17, 8, 19, 0], 7), ([19, 14, 17, 17, 4, 18], 16), ([17, 4, 24, 4, 18], 17), ([6, 14, 20, 6, 7], 17), ([0, 22, 7, 0, 3, 8, 4, 5, 5], 1), ([11, 4, 8, 10, 0, 12], 1), ([0, 6, 0, 15, 10, 8, 13], 1), ([7, 20, 13, 6], 6), ([10, 0, 2, 7, 11, 4, 17], 13), ([1, 20, 17, 6, 4], 17), ([15, 0, 3, 14, 21, 0, 13, 14], 14), ([13, 8, 0, 11, 11], 12), ([13, 8, 2, 10, 4, 11], 17), ([3, 0, 17, 24, 0, 11, 14, 21], 1), ([17, 4, 12, 4, 13, 13, 24], 1), ([0, 21, 3, 4, 4, 5, 5], 1), ([7, 14, 12, 24, 0, 10, 14, 21], 1), ([15, 14, 17, 19, 4, 17], 17), ([7, 8, 25, 7, 13, 24], 1), ([15, 14, 17, 5, 8, 17, 8, 4, 21], 1), ([20, 18, 8, 4, 21, 8, 2, 7], 1), ([18, 15, 8, 11, 11, 4, 17], 17), ([7, 0, 9, 8, 2, 4, 10], 4), ([6, 7, 0, 13, 4, 12], 5), ([2, 7, 4, 17, 14, 21], 1), ([15, 0, 13, 6], 3), ([6, 17, 0, 13, 10, 8, 13], 1), ([17, 14, 2, 7, 4, 6, 14, 21], 1), ([1, 14, 20, 11, 14, 18], 5), ([7, 0, 13, 19, 18, 4, 21], 1), ([3, 4, 0, 13, 4], 17), ([1, 0, 25, 25, 8], 5), ([18, 4, 6, 7, 4, 17, 18], 9), ([9, 20, 7, 19, 12, 0, 13], 1), ([8, 4, 24, 0, 18, 20], 7), ([19, 0, 13, 25, 4, 17], 13), ([0, 1, 0, 3, 8], 5), ([18, 8, 20], 3), ([3, 14, 21, 11, 0, 19, 14, 21], 1), ([19, 14, 21, 0, 17, 14, 21, 18, 10, 24], 1), ([11, 8, 6, 7, 19, 5, 14, 14, 19], 17), ([3, 8, 4, 5, 4, 13, 1, 0, 2, 7], 13), ([12, 14, 17, 4], 17), ([25, 4, 11, 4, 13, 18, 10, 24], 1), ([1, 0, 8, 19, 14, 5, 5], 1), ([15, 14, 22, 4, 17], 12), ([1, 0, 11, 0, 10, 8, 13], 1), ([19, 4, 17, 0, 9, 8, 12, 0], 7), ([0, 3, 14, 21], 1), ([11, 4, 1, 4, 0, 20], 0), ([12, 20, 17, 17, 0, 24], 17), ([18, 7, 0, 10, 7, 13, 0, 25, 0, 17, 24, 0, 13, 19, 18], 1), ([2, 7, 10, 7, 0, 17, 19, 8, 18, 7, 21, 8, 11, 8], 1), ([13, 4, 18, 10, 17, 4, 1, 8, 13], 1), ([18, 19, 17, 14, 13, 6], 17), ([7, 0, 5, 13, 4, 17], 13), ([1, 0, 17, 18, 4, 19, 19, 8], 14), ([24, 0, 10, 8, 12, 4, 19, 18], 1), ([0, 18, 6, 7, 0, 17], 5), ([18, 11, 0, 19, 4, 17], 17), ([14, 18, 1, 14, 17, 13], 17), ([12, 14, 18, 2, 14, 13, 8], 14), ([10, 14, 7, 11], 13), ([0, 1, 0, 13, 8, 13], 1), ([6, 8, 1, 1], 17), ([12, 20, 17, 0, 6, 20, 2, 7, 8], 7), ([2, 0, 15], 4), ([12, 0, 10, 8, 13], 17), ([0, 8, 10, 12, 0, 13], 17), ([2, 14, 6, 7, 11, 0, 13], 12), ([19, 14, 0, 19, 7, 4, 0, 5, 8, 17, 18, 19, 0, 15, 0, 6, 4], 1), ([17, 20, 25, 0, 8, 10, 8, 13], 1), ([13, 24, 20, 7, 0, 11, 14, 21], 1), ([5, 11, 0, 19, 4, 17], 13), ([0, 17, 0, 20, 11, 11, 14], 11), ([11, 14, 19, 12, 0, 13], 1), ([3, 9, 8, 6, 8, 19], 1), ([12, 8, 13, 10, 8, 13], 1), ([12, 8, 5, 18, 20, 3], 5), ([0, 17, 8, 0, 13], 5), ([2, 7, 20, 17, 2, 7], 17), ([5, 4, 17, 13], 17), ([21, 24, 18, 14, 10, 14, 18, 14, 21], 1), ([17, 8, 21, 4, 17, 18], 17), ([18, 7, 8, 17, 0, 8, 18, 7, 8], 7), ([7, 8, 13, 3, 18], 17), ([12, 2, 11, 0, 17, 4, 13], 17), ([19, 25, 4, 8, 12, 4, 13], 1), ([1, 4, 11, 14, 7, 21, 14, 18, 19, 8, 10, 14, 21], 1), ([1, 4, 13, 4, 13, 0, 19, 8], 14), ([12, 8, 13, 0, 12, 14, 19, 14], 7), ([7, 0, 8, 10], 5), ([17, 4, 8, 3], 2), ([11, 0, 13, 2, 0, 18, 19, 4, 17], 17), ([1, 0, 8, 18, 0, 17, 14, 21], 1), ([4, 18, 0, 10, 14, 21], 1), ([13, 14, 18, 10, 14, 21], 1), ([18, 19, 4, 22, 0, 17, 19], 2), ([13, 4, 12, 4, 2], 4), ([6, 8, 11, 11, 8, 4, 18], 17), ([18, 8, 13, 2, 11, 0, 8, 17], 17), ([25, 7, 20, 11, 8, 3, 14, 21], 1), ([14, 1, 14, 17, 10, 8, 13], 1), ([7, 4, 13, 3, 17, 24], 17), ([7, 0, 10, 8, 12, 8], 5), ([21, 0, 11, 19, 4, 17], 1), ([21, 0, 2, 0], 4), ([6, 4, 19, 0, 12, 0, 13], 1), ([3, 4, 12, 8, 3, 4, 13, 10, 14], 1), ([18, 0, 17, 19, 8, 13, 8], 14), ([2, 7, 14, 8], 6), ([18, 7, 8, 12, 0, 13, 14, 20, 2, 7, 8], 7), ([10, 4, 4, 5, 4], 12), ([25, 0, 18, 24, 0, 3, 0, 10, 14], 1), ([15, 20, 17, 10, 8, 18], 17), ([10, 14, 20, 17, 24], 5), ([6, 0, 17, 11, 0, 13, 3], 17), ([24, 0, 13, 3, 20, 19, 10, 8, 13], 1), ([9, 20, 10, 7, 12, 0], 1), ([1, 0, 1, 20, 10, 7, 8, 13], 1), ([0, 22, 18, 4, 13, 4, 5, 5], 1), ([3, 0, 6, 7, 4, 17], 5), ([11, 4, 14, 13, 4, 13, 10, 14], 1), ([12, 20, 18, 19, 0, 5, 0], 5), ([2, 7, 0, 12], 5), ([19, 0, 13], 3), ([2, 7, 4, 11, 11, 14, 18], 10), ([21, 14, 25, 3, 21, 8, 9, 4, 13, 18, 10, 24], 1), ([13, 4, 25, 13, 0, 12, 14, 21], 1), ([18, 7, 0, 3, 8, 3], 5), ([21, 8, 2, 10, 4, 17, 18], 17), ([7, 0, 17, 12, 18], 1), ([13, 0, 10, 7, 12, 0, 13, 14, 21, 8, 2, 7], 1), ([12, 0, 19, 25, 10, 4, 21, 8, 2, 7], 1), ([11, 14, 8, 10, 14], 1), ([19, 14, 20, 12, 0], 5), ([0, 1, 0, 10, 20, 12, 14, 21], 1), ([12, 14, 17, 17, 8, 18, 14, 13], 17), ([21, 0, 18, 24, 0, 4, 21], 1), ([9, 0, 19, 18, 20, 13, 14, 21], 1), ([2, 17, 14, 22, 11, 4, 24], 17), ([21, 0, 3, 8, 13], 1), ([18, 0, 17, 6, 4, 13, 19], 17), ([25, 7, 4, 21, 0, 10, 7, 14, 21], 1), ([21, 4, 17, 19, 4, 11, 10, 14], 1), ([1, 4, 11, 14, 18, 4, 11, 18, 10, 24], 1), ([14, 13, 24, 10, 24], 1), ([1, 8, 18, 7, 0, 17, 0], 5), ([7, 0, 4, 18, 7], 1), ([12, 0, 18, 14, 13, 8], 7), ([7, 14, 3, 14, 22, 0, 11], 4), ([8, 18, 18, 0], 5), ([13, 0, 3, 4, 17], 5), ([18, 0, 1, 1, 0, 6], 5), ([5, 0, 10, 7, 14, 20, 17, 24], 5), ([11, 4, 8, 19, 25], 13), ([0, 18, 19, 14, 13], 17), ([0, 13, 19, 0, 17], 5), ([9, 8, 20], 3), ([12, 8, 10, 7, 0, 11, 19, 18, 4, 21], 1), ([0, 19, 8, 24, 4, 7], 5), ([12, 8, 5, 18, 20, 3], 5), ([11, 8, 10, 7, 21, 0, 13, 19, 18, 4, 21], 1), ([12, 0, 19, 18, 20, 10, 8], 7), ([15, 17, 8, 6, 14, 25, 7, 8, 13], 1), ([0, 11, 1, 0, 13, 4, 18, 8], 14), ([6, 0, 6, 17, 8, 13], 1), ([18, 7, 0, 7, 11, 8, 13], 1), ([19, 7, 8, 0, 13], 3), ([10, 0, 18, 15, 17, 25, 0, 10], 15), ([23, 8, 4], 3), ([10, 14, 20, 17, 8], 5), ([1, 14, 21, 4], 14), ([2, 7, 4, 10, 12, 4, 13, 4, 21], 1), ([3, 8, 0, 17, 12, 0, 8, 3], 12), ([22, 0, 13], 3), ([1, 0], 5), ([3, 14, 22, 13, 18], 17), ([19, 20, 12, 14, 21], 1), ([8, 12, 0, 13, 14, 21], 1), ([15, 4, 13, 13, 4, 17, 18], 9), ([21, 0, 8, 19, 18, 4, 7, 14, 21, 18, 10, 24], 1), ([9, 0, 10, 14, 21], 1), ([9, 0, 13, 14, 21, 18, 10, 24], 1), ([25, 7, 8, 10, 14, 21], 1), ([3, 0, 21, 24, 3, 14, 21, 8, 2, 7], 1), ([18, 15, 0, 13, 13, 0, 6, 4, 11], 13), ([8, 18, 0, 13, 8, 13], 1), ([11, 20, 2], 8), ([7, 0, 8, 13, 4, 18], 17), ([6, 0, 2, 7, 4, 6, 14, 21], 1), ([1, 14, 20, 19, 17, 14, 18], 5), ([9, 0, 3, 17, 4, 13, 13, 8, 10, 14, 21], 1), ([2, 7, 0, 12], 5), ([9, 12, 8, 13, 10, 14], 1), ([1, 0, 1, 8, 4, 13, 10, 14], 1), ([2, 0, 17, 19, 22, 17, 8, 6, 7, 19], 17), ([8, 12, 4, 17, 11, 8, 18, 7, 21, 8, 11, 8], 1), ([5, 0, 21, 17, 4, 0, 20], 0), ([25, 7, 0, 17, 10, 8, 7], 1), ([18, 4, 13, 10, 14, 21], 1), ([13, 20, 17, 9, 0, 13, 14, 21], 1), ([1, 0, 3, 24, 20, 13, 14, 21], 1), ([19, 0, 10, 4, 18, 7, 8, 19, 0], 7), ([19, 14, 3, 14, 17, 14, 21], 1), ([10, 8, 18, 19, 13, 4, 17], 13), ([7, 8, 4, 17, 17, 14], 11), ([1, 17, 20, 13, 4, 19], 17), ([19, 14, 13], 8), ([12, 14, 6, 8, 11, 4, 21, 19, 18, 4, 21], 1), ([15, 14, 18, 7, 4, 7, 14, 13, 14, 21], 1), ([5, 11, 14, 17, 4, 18], 11), ([25, 8, 4, 12, 13, 8, 0, 10], 15), ([13, 4, 18, 11, 24, 20, 25, 14, 21], 1), ([9, 4, 12, 20, 10, 7, 14, 21], 1), ([10, 14, 2, 8], 4), ([19, 7, 4, 14, 5, 8, 11, 14, 15, 14, 20, 11, 14, 18], 10), ([1, 0, 7, 11, 0, 4, 21], 1), ([21, 8, 2, 10, 0, 17, 18], 17), ([12, 0, 17, 20, 18, 7, 10, 14], 1), ([1, 0, 19, 18, 0, 10, 8, 18], 10), ([1, 0, 7, 14, 21, 10, 8, 13], 1), ([7, 0, 24, 0, 12, 8], 7), ([18, 7, 0, 7, 14, 17, 8, 13], 1), ([0, 22, 0, 19, 24, 0, 13], 1), ([18, 13, 4, 11, 10, 4, 17], 4), ([9, 20, 17, 1, 4, 13, 10, 14], 1), ([21, 8, 13, 3, 12, 0, 13], 1), ([10, 0, 19, 19, 0, 13], 5), ([3, 0, 14, 13, 14, 5, 17, 8, 14], 14), ([3, 4, 0, 0, 19, 7], 17), ([11, 0, 21, 4, 17, 24], 17), ([10, 0, 11, 8, 13, 14, 2, 7, 10, 8, 13], 1), ([25, 8, 13, 2, 7, 4, 13, 10, 14], 1), ([12, 14, 6, 7, 0, 3, 0, 12], 5), ([21, 8, 7, 17, 14, 21], 1), ([9, 4, 17, 8, 10, 7, 8, 13], 1), ([0, 17, 0, 8], 7), ([9, 0, 19, 18, 10, 4, 21, 8, 2, 7], 1), ([2, 7, 20, 10, 7, 11, 14, 12, 18, 10, 24], 1), ([7, 14, 20, 19], 9), ([5, 0, 10, 7, 14, 20, 17, 24], 5), ([15, 14, 22, 4, 17], 17), ([9, 0, 12, 8, 11, 14, 21], 1), ([21, 0, 11, 11, 14, 17, 24], 17), ([5, 0, 10, 7, 14, 20, 17, 24], 5), ([25, 8, 12, 14, 13, 8, 13], 1), ([4, 19, 23, 4, 1, 0, 17, 17, 8, 0], 11), ([9, 0, 8, 10, 1, 0, 4, 21], 1), ([25, 7, 8, 13, 10, 8, 13], 1), ([17, 0], 14), ([6, 17, 14, 3, 4, 19, 18, 10, 24], 1), ([6, 4, 24, 4, 17], 17), ([12, 8, 13, 24, 0, 9, 4, 19, 3, 8, 13, 14, 21], 1), ([18, 7, 0, 11, 0, 8], 1), ([21, 0, 13, 19, 4, 13, 10, 14, 21], 1), ([1, 0, 4, 22, 18, 10, 24], 1), ([12, 0, 3, 4, 8, 17, 0], 16), ([2, 14, 2, 7, 17, 0, 13, 4], 17), ([21, 0, 11, 24, 20, 18, 7, 10, 8, 13], 1), ([15, 11, 8, 12, 0, 10], 1), ([15, 4, 19, 4, 17, 18], 17), ([22, 14, 14, 11, 13, 14, 20, 6, 7], 17), ([17, 8, 6, 4, 17, 19], 1), ([12, 0, 0, 11, 14, 20, 5], 5), ([0, 13, 19, 14, 20, 13], 5), ([13, 4, 17, 21, 8], 14), ([19, 18, 2, 7, 8, 3, 0], 13), ([18, 19, 4, 20, 1, 4, 13], 13), ([13, 4, 8, 18, 18, 4, 17], 4), ([6, 7, 0, 13, 13, 0, 12], 5), ([7, 0, 17, 1], 5), ([1, 0, 10, 7, 17, 0, 10, 7], 1), ([4, 13, 13, 18], 13), ([13, 4, 22, 7, 0, 12], 17), ([25, 0, 18, 20, 7, 0], 1), ([6, 20, 3, 4, 13, 10, 14], 1), ([14, 0, 2, 0, 11, 11, 0, 6, 7, 0, 13, 13], 12), ([14, 12, 4, 11, 8, 2, 7, 4, 21], 1), ([10, 4, 13, 13, 4, 3, 24], 2), ([19, 18, 4], 3), ([14, 19, 19, 4, 13], 9), ([7, 8, 17, 0, 6, 0], 7), ([0, 3, 11, 0, 12], 17), ([6, 4, 19, 8, 4], 1), ([1, 4, 25, 17, 20, 2, 7, 4, 13, 10, 14, 21], 1), ([9, 14, 7, 8, 13], 1), ([15, 4, 11, 19, 18, 12, 0, 13], 1), ([18, 7, 8, 1, 0, 18, 0, 22, 0], 7), ([13, 4, 18, 18], 17), ([0, 22, 4, 13, 0, 17, 8, 20, 18], 1), ([9, 8, 11, 10, 8, 13], 1), ([12, 0, 13, 18, 14, 20, 17], 5), ([9, 0, 6, 14, 3, 0], 15), ([25, 7, 3, 0, 13], 1), ([0, 1, 3, 20, 11, 11, 0, 3, 25, 7, 0, 13, 14, 21], 1), ([13, 0, 18, 18, 0, 17], 5), ([18, 7, 0, 13, 13, 14, 13], 12), ([15, 7, 8, 11, 8, 15, 18], 9), ([24, 0, 13, 4, 10], 1), ([24, 0, 11, 0, 12, 14, 21], 1), ([0, 18, 18, 0, 5], 5), ([10, 4, 5, 0, 11, 0, 18], 10), ([6, 0, 20, 13, 19, 11, 4, 19, 19], 17), ([3, 0, 8], 3), ([18, 0, 10, 20, 13], 1), ([5, 0, 4, 17, 1, 4, 17], 13), ([12, 4, 8, 13, 7, 0, 17, 3, 19], 13), ([0, 13, 3, 17, 4, 18], 13), ([12, 2, 13, 4, 8, 11, 11], 17), ([21, 0, 11, 8, 10, 7, 0, 13, 14, 21], 1), ([0, 1, 3, 20, 11, 1, 4, 10, 14, 21], 1), ([15, 0, 6, 0, 13, 8], 14), ([4, 3, 3, 11, 4, 18, 19, 14, 13], 17), ([25, 7, 12, 0, 10, 8, 13], 1), ([10, 0, 18, 18, 0, 1], 5), ([25, 7, 8, 6, 20, 11, 8, 13], 1), ([6, 8, 11, 11], 17), ([1, 0, 11, 0, 13, 3, 8, 13], 1), ([3, 4, 18, 24, 0, 19, 10, 14, 21], 1), ([0, 13, 3, 17, 20, 18, 8, 22], 1), ([12, 20, 11, 19, 0, 10, 7], 1), ([25, 14, 25, 20, 11, 24, 0], 1), ([6, 20, 8, 17, 6, 20, 8, 18], 5), ([10, 4, 13, 25, 4, 11], 4), ([7, 14, 17, 13], 17), ([4, 1, 18, 21, 14, 17, 19], 1), ([18, 7, 0, 13], 3), ([13, 0, 7, 0, 18], 5), ([0, 17, 13, 14, 19, 19], 17), ([8, 13, 6, 11, 4], 17), ([0, 3, 0, 12, 18, 14, 13], 1), ([8, 11, 24, 20, 7, 8, 13], 1), ([6, 14, 11, 14, 18, 14, 21, 10, 4, 17], 1), ([14, 18, 0, 17, 0, 6, 8], 7), ([13, 4, 25, 0, 1, 24, 19, 14, 21, 18, 10, 24], 1), ([12, 8, 18, 18, 8, 0, 10, 14, 18], 10), ([10, 14, 10, 0, 13], 7), ([8, 17, 8, 4], 7), ([0, 3, 4, 17, 8, 7, 8, 13], 1), ([21, 8, 11, 12], 1), ([0, 6, 0, 7, 0, 13, 24, 0, 13], 1), ([0, 7, 13], 6), ([0, 18, 18, 0, 5], 5), ([5, 0, 7, 24], 17), ([12, 0, 19, 25, 8, 6, 20, 17, 0], 1), ([13, 0, 18, 8, 1, 20, 11, 11, 0, 4, 21], 1), ([2, 17, 14, 18, 18], 17), ([15, 0, 18, 2, 0, 11], 0), ([12, 14, 14, 17, 4, 13], 9), ([12, 0, 13, 18, 14, 20, 17], 5), ([10, 14, 12, 20, 17, 0], 7), ([6, 7, 0, 13, 13, 0, 12], 5), ([13, 0, 18, 18, 0, 17], 5), ([19, 18, 0, 17, 0, 13], 1), ([25, 7, 20, 14], 3), ([14, 12, 20, 17, 0], 7), ([25, 14, 6, 1, 24], 5), ([24, 4, 14, 12, 0, 13], 17), ([9, 20, 0, 13], 3), ([18, 2, 7, 22, 0, 17, 25], 4), ([18, 0, 11, 12, 14, 13], 17), ([9, 0, 13, 14, 22, 18, 10, 8], 15), ([18, 4, 11, 21, 0, 6, 6, 8, 14], 14), ([10, 14, 20, 17, 24], 5), ([3, 0, 13, 8, 11, 19, 18, 4, 21], 1), ([21, 0, 24, 20, 17, 10, 14, 21], 1), ([1, 0, 18, 7, 10, 14, 21], 1), ([7, 0, 13, 0, 7, 20], 1), ([25, 14, 11, 14, 19, 4, 13, 10, 14, 21], 1), ([1, 4, 11, 6, 8, 1, 0, 4, 21], 1), ([11, 4, 1, 4, 3, 8, 13, 18, 10, 24], 1), ([25, 7, 4, 17, 8, 7, 8, 13], 1), ([17, 14, 6, 0, 18, 7, 10, 14, 21], 1), ([0, 1, 17, 0, 7, 0, 12], 0), ([6, 17, 8, 6, 14, 11, 24, 20, 10], 1), ([0, 11, 12, 0, 18, 8], 5), ([1, 0, 1, 4, 13, 10, 14], 1), ([15, 0, 19, 18], 1), ([6, 0, 1, 4, 17], 5), ([1, 20, 18, 19, 8, 11, 11, 14], 11), ([19, 0, 7, 0, 13], 5), ([10, 8, 4, 5, 4, 17], 13), ([0, 10, 8, 19, 0], 7), ([19, 25, 8, 15, 20, 18, 7, 19, 0, 13, 14, 21], 1), ([5, 0, 20, 18, 19], 17), ([14, 0, 13, 4, 8, 11, 11], 12), ([13, 14, 22, 0, 10], 15), ([24, 14, 17, 10, 4], 17), ([22, 4, 8, 13, 4, 17], 13), ([18, 0, 8, 3, 20, 11, 0, 4, 21], 1), ([15, 4, 24, 19, 14, 13], 17), ([6, 8, 1, 1, 14, 13, 18], 17), ([25, 7, 4, 11, 14, 7, 14, 21, 19, 18, 4, 21], 1), ([6, 4, 17, 18, 19], 13), ([12, 0, 7, 12, 20, 3, 14, 21], 1), ([1, 4, 25, 20, 1, 24, 0, 10], 1), ([0, 3, 0, 12, 18, 10, 8], 1), ([0, 6, 0, 15, 7, 14, 13, 14, 5, 5], 1), ([6, 17, 14, 19, 20, 18], 1), ([1, 4, 25, 20, 12, 14, 21], 1), ([7, 20, 1, 0, 4, 21], 1), ([1, 0, 1, 0, 10, 14, 21], 1), ([12, 8, 13, 13, 8, 10, 14, 21], 1), ([0, 17, 17, 8, 6, 7, 4, 19, 19, 8], 14), ([3, 25, 7, 0, 11, 3, 25, 7, 8, 17, 4, 4, 21], 1), ([7, 14, 11, 14, 15, 14, 21], 1), ([9, 8, 11, 24, 0, 10, 14, 21], 1), ([17, 7, 14, 3, 4, 18], 17), ([12, 0, 19, 18, 13, 4, 21], 1), ([7, 14, 13, 4, 13, 4, 21], 1), ([0, 9, 8, 6, 0, 13, 14, 5, 5], 1), ([7, 14, 19, 4, 19, 14, 21, 18, 10, 24], 1), ([7, 11, 14, 1, 24, 18, 19, 14, 21], 1), ([0, 1, 14, 11, 8, 10, 7, 8, 13], 1), ([3, 14, 1, 17, 14, 11, 24, 20, 1, 14, 21], 1), ([8, 12, 4, 17, 4, 19, 8, 13, 18, 10, 24], 1), ([12, 2, 5, 0, 17, 11, 0, 13, 4], 17), ([12, 8, 10, 7, 0, 8, 11], 5), ([18, 0, 12, 0, 7, 0], 5), ([13, 0, 18, 4, 17], 5), ([4, 13, 13, 8, 18], 17), ([1, 0, 10, 7, 17, 20, 18, 7, 8, 13], 1), ([25, 7, 8, 6, 0, 8, 11, 14, 21], 1), ([25, 7, 14, 7, 8, 13], 1), ([0, 1, 17, 0, 12, 8], 14), ([18, 7, 0, 12, 14, 13], 5), ([0, 17, 19, 4, 12, 4, 21], 1), ([3, 4, 4, 1], 5), ([6, 11, 20, 7, 8, 7], 1), ([6, 4, 4, 18, 14, 13], 17), ([12, 0, 17, 19, 25, 4, 13, 10, 14, 21], 1), ([1, 4, 17, 6, 0, 12, 0, 18, 2, 7, 8], 14), ([18, 4, 21, 17, 8, 4, 13, 18], 9), ([0, 20, 4, 17, 1, 0, 10, 7], 1), ([3, 14, 22, 11, 4, 17], 17), ([2, 0, 15, 8, 19, 0, 13, 8], 14), ([18, 4, 17, 4, 3, 10, 8, 13], 1), ([24, 14, 20, 13, 19], 0), ([5, 0, 17, 11, 4, 24], 17), ([14, 1, 24, 18, 14, 21], 1), ([16, 20, 0, 19, 19, 17, 14, 2, 2, 7, 8], 14), ([21, 0, 21, 20, 11, 8, 13], 1), ([14, 13, 14, 15, 17, 8, 4, 13, 10, 14], 1), ([6, 0, 5, 5, 13, 4, 24], 17), ([7, 0, 5, 8, 25, 14, 21], 1), ([0, 22, 3, 8, 24, 0, 13, 19, 18], 1), ([7, 14, 17, 14, 18, 7, 0, 21, 19, 18, 4, 21], 1), ([10, 0, 25, 8, 12, 14, 17], 4), ([3, 14, 13, 14, 7, 14, 4], 17), ([9, 14, 7, 13, 18, 19, 14, 13], 17), ([13, 0, 18, 4, 17], 5), ([2, 0, 18, 19, 8, 11, 11, 14], 11), ([24, 0, 10, 14, 21, 8, 2, 7, 4, 13, 10, 14], 1), ([1, 14, 19, 17, 14, 18], 5), ([1, 4, 17, 6], 13), ([0, 17, 19, 7, 20, 17], 0), ([1, 11, 0, 2, 10], 17), ([17, 4, 8, 11, 11, 24], 12), ([1, 0, 25, 25, 8], 5), ([11, 4, 8, 19, 2, 7], 17), ([1, 0, 6, 8, 12, 14, 5, 5], 1), ([7, 0, 11, 14], 1), ([20, 18, 19, 21, 14, 11, 18, 10, 24], 1), ([12, 4, 19, 17, 14, 5, 0, 13, 8, 18], 10), ([18, 4, 4, 0], 3), ([18, 13, 24, 3, 4, 17, 18], 9), ([5, 14, 18, 19, 4, 17], 17), ([6, 0, 6, 13, 4], 0), ([2, 7, 0, 3, 8, 13], 1), ([18, 7, 0, 11, 7, 14, 20, 1], 5), ([12, 0, 11, 14, 20, 5], 5), ([12, 2, 3, 14, 13, 0, 11, 3], 17), ([1, 0, 19, 0], 5), ([4, 18, 19, 11, 8, 2, 10], 17), ([25, 7, 20, 17, 10, 14, 21, 18, 10, 24], 1), ([0, 12, 0, 24, 0], 7), ([17, 0, 10, 7, 14, 21], 1), ([13, 0, 6, 0, 8], 7), ([12, 0, 17, 19, 14, 24, 0, 18], 1), ([19, 20, 12, 0, 13, 14, 21, 18, 10, 24], 1), ([2, 7, 17, 24, 18, 0, 13, 19, 7, 14, 15, 14, 20, 11, 14, 18], 10), ([1, 0, 8, 19, 8, 13], 1), ([3, 20, 21, 0, 11, 11], 17), ([21, 0, 25, 24, 0, 4, 21], 1), ([18, 0, 9, 8], 7), ([3, 4, 7, 12, 4, 11], 4), ([2, 20, 2, 8, 13, 14, 19, 19, 0], 14), ([21, 8, 11, 10, 14, 21], 1), ([25, 7, 0, 17, 8, 10, 14, 21], 1), ([6, 4, 13, 19, 8, 11, 4], 14), ([18, 7, 0, 10, 7, 11, 0, 12, 14, 21], 1), ([4, 18, 8, 15, 4, 13, 10, 14], 1), ([19, 25, 4, 8, 13, 4, 17], 1), ([9, 0, 10, 14, 21, 2, 7, 4, 13, 10, 14], 1), ([24, 20, 10, 7, 13, 4, 21], 1), ([7, 17, 20, 11, 0], 4), ([6, 14, 17, 2, 7, 10, 7, 0, 13, 14, 21], 1), ([19, 20, 12, 4, 13, 14, 21], 1), ([13, 0, 7, 0, 18], 5), ([21, 0, 10, 0, 13, 24, 0], 1), ([4, 0, 3, 8, 4], 17), ([0, 1, 0, 11, 8, 10, 7, 8, 13], 1), ([15, 0, 19, 25, 4, 21, 8, 2, 7], 1), ([19, 17, 20, 3, 20], 14), ([3, 14, 17, 0, 13], 17), ([13, 20, 13, 20, 4, 21], 1), ([0, 1, 0, 19, 0, 13, 19, 20, 14, 13, 14], 14), ([10, 24, 20, 1, 4, 8], 7), ([1, 0, 6, 0, 17, 24, 0, 10, 14, 5, 5], 1), ([1, 8, 13, 3, 24, 20, 10, 14, 21], 1), ([21, 8, 18, 11, 24], 1), ([5, 8, 11, 8, 15, 4, 13, 10, 14], 1), ([1, 0, 10, 7, 19, 8, 4, 21], 1), ([19, 14, 17, 8, 18, 4, 8], 7), ([3, 0, 7, 4, 17], 5), ([9, 0, 10, 20, 1, 14, 13, 8, 18], 1), ([1, 0, 1, 0, 7, 0, 13, 14, 21], 1), ([21, 8, 18, 10, 14, 21], 1), ([8, 17, 8, 24, 4], 7), ([18, 17, 14, 20, 17], 5), ([18, 2, 7, 4, 15, 4, 11, 4, 21], 1), ([17, 0, 11, 15, 7], 17), ([1, 14, 22, 11, 4, 18], 17), ([6, 17, 4, 4, 13, 7, 8, 11, 11], 17), ([6, 17, 0, 12, 4, 13, 8, 19, 18, 10, 24], 1), ([0, 18, 19, 17, 14, 21], 1), ([2, 7, 0, 13, 2, 7, 8, 10, 14, 21], 1), ([2, 14, 18, 6, 17, 14, 21, 4], 17), ([21, 24, 1, 14, 17, 13, 24], 1), ([18, 2, 7, 4, 19, 8, 13, 10, 8, 13], 1), ([18, 2, 7, 12, 8, 4, 3], 4), ([10, 0, 11, 0, 4, 21], 1), ([1, 0, 18, 18], 1), ([0, 12, 14, 18], 17), ([24, 0, 13, 8, 18, 7, 4, 21, 18, 10, 24], 1), ([15, 0, 17, 13, 4, 11, 11], 17), ([18, 17, 14, 20, 17], 5), ([5, 14, 17, 19, 20, 13, 0, 19, 14, 21], 1), ([0, 22, 0, 3], 5), ([7, 0, 3, 3, 0, 3], 5), ([6, 17, 8, 6, 14, 17, 8, 4, 21], 1), ([3, 20, 5, 5], 17), ([25, 8, 13, 14, 21, 8, 13], 1), ([21, 0, 17, 0, 13, 14], 14), ([10, 0, 11, 8, 13, 10, 14], 1), ([9, 8, 9, 2, 7, 4, 13, 10, 14], 1), ([8, 18, 7, 8, 24, 0, 12, 0], 7), ([0, 6, 4, 8, 2, 7, 8, 10], 1), ([18, 19, 0, 17, 24], 4), ([24, 8, 12], 3), ([1, 0, 8, 11, 4, 24], 17), ([10, 8, 13, 2, 7, 8, 13], 17), ([0, 11, 12, 0, 18, 8], 5), ([2, 0, 19, 0, 11, 0, 13, 14], 14), ([0, 3, 8, 4, 21], 1), ([17, 20, 8, 25], 11), ([17, 4, 13, 13, 0, 11, 11, 18], 17), ([12, 8, 13, 3, 17, 0], 1), ([24, 20, 18, 7, 12, 0, 13, 14, 21], 1), ([14, 21, 4, 17, 4, 19, 19], 17), ([3, 9, 0, 1, 17, 0, 8, 11, 14, 21], 1), ([19, 2, 7, 0, 17, 20, 10, 7, 8, 13], 1), ([19, 14, 12, 12, 8, 8], 7), ([2, 17, 14, 18, 1, 24], 17), ([12, 14, 11, 2, 7, 0, 13, 18, 10, 24], 1), ([12, 14, 9, 0, 8, 18, 10, 24], 1), ([12, 20, 18, 0, 11, 13, 8, 10, 14, 21], 1), ([18, 8, 12, 12, 14, 13, 3, 18], 17), ([1, 0, 25], 5), ([17, 0, 8, 19, 18, 4, 18], 1), ([5, 4, 8], 3), ([21, 8, 9, 14, 13, 18, 10, 24], 1), ([19, 18, 4, 11, 14, 1, 4, 13, 14, 10], 1), ([10, 0, 18, 18, 12, 4, 24, 4, 17], 13), ([11, 14, 6, 8, 13], 12), ([19, 0, 22, 0, 17, 0, 24, 0], 7), ([6, 14, 11, 14, 1, 14, 17, 14, 3, 14, 21], 1), ([25, 7, 8, 17, 13, 14, 21], 1), ([4, 11, 2, 14, 2, 10], 17), ([6, 11, 0, 3, 20, 13], 1), ([1, 8, 2, 10, 11, 4, 24], 17), ([7, 14, 17, 20, 25, 7, 4, 21], 1), ([5, 8, 11, 11, 8, 15, 14, 21, 0], 4), ([18, 7, 0, 8, 10, 4, 21, 8, 2, 7], 1), ([5, 14, 17, 18, 7], 1), ([0, 6, 0, 24, 0, 13, 19, 18], 1), ([18, 7, 0, 7, 6, 8, 11, 3, 24, 0, 13], 1), ([21, 24, 18, 14, 19, 18, 10, 24], 1), ([0, 19, 0, 17, 18, 10, 8, 7], 1), ([22, 8, 11, 18, 14, 13], 17), ([15, 14, 10, 7, 14, 3, 8, 13], 1), ([9, 20, 6, 0, 8], 1), ([4, 18, 8, 13], 1), ([0, 1, 4, 18, 0, 3, 25, 4], 1), ([0, 18, 7, 1, 17, 14, 14, 10], 17), ([9, 0, 3, 17, 14, 21], 1), ([5, 17, 14, 11, 0, 13, 3, 8, 13], 1), ([1, 4, 11, 13, 8, 10, 14, 21], 1), ([11, 8, 10, 7, 19, 4, 17, 12, 0, 13], 1), ([10, 14, 20, 12, 0, 13, 8, 3, 8, 18], 10), ([6, 20, 14], 3), ([19, 14, 21, 18, 19, 14, 11, 20, 9, 18, 10, 24], 1), ([25, 7, 8, 17, 24, 0, 10, 14, 21], 1), ([17, 0, 13, 18, 14, 12], 17), ([11, 4, 21, 8, 19, 8, 13], 1), ([5, 17, 0, 25, 4, 17], 17), ([0, 18, 7, 1, 17, 8, 3, 6, 4], 17), ([3, 9, 20, 13, 20, 18, 14, 21], 1), ([21, 0, 10, 20, 11, 8, 2, 7], 1), ([12, 8, 7, 0, 8, 11, 24, 2, 7, 4, 21], 1), ([0, 17, 8, 22, 0], 7), ([15, 4, 11, 11], 17), ([15, 14, 17, 19, 20, 6, 0, 11, 18, 10, 24], 1), ([1, 4, 17, 4, 25, 13, 8, 19, 25, 10, 24], 1), ([21, 8, 13, 4, 17], 17), ([12, 0, 19, 18, 14, 19, 18, 10, 24], 1), ([7, 14, 17, 13], 13), ([0, 17, 0, 19, 14], 7), ([18, 0, 1, 1, 0, 6, 7], 5), ([12, 14, 17, 3, 21, 8, 13], 1), ([1, 0, 18, 19, 11], 4), ([10, 7, 14, 20, 17, 24], 5), ([0, 3, 0, 12, 8, 3, 8, 18], 10), ([3, 20, 17, 0, 13, 19], 17), ([0, 1, 3, 20, 17, 0, 7, 12, 0, 13, 14, 5, 5], 1), ([12, 0, 17, 24, 20, 19, 8, 13], 1), ([9, 14, 7, 13, 18, 19, 14, 13, 4], 2), ([17, 24, 25, 7, 10, 14], 1), ([3, 0, 17, 0, 10, 14, 21], 1), ([3, 0, 13, 8, 11, 24, 20, 10], 1), ([1, 4, 11, 8, 2, 7, 4, 13, 10, 14], 1), ([17, 0, 8, 12, 14, 13, 3, 8], 14), ([18, 7, 20, 8], 3), ([3, 4, 4, 1], 5), ([19, 14, 0, 19, 7, 4, 0, 5, 8, 17, 18, 19, 0, 15, 0, 6, 4], 1), ([21, 0, 11, 18, 7, 8, 13], 1), ([0, 3, 8, 6, 0, 12, 14, 5, 5], 1), ([3, 9, 0, 13, 0, 4, 21], 1), ([2, 7, 20, 7, 14, 13, 19, 18, 4, 21], 1), ([1, 4, 11, 8, 13, 18, 10, 8, 9], 1), ([3, 4, 0, 5, 4, 11, 8, 2, 4], 14), ([0, 8, 25, 0, 22, 0], 7), ([7, 0, 8, 12, 8], 1), ([6, 14, 17, 4, 2, 10, 8], 15), ([0, 22, 4, 17, 10, 8, 13], 1), ([18, 7, 20, 0, 8], 3), ([13, 0, 9, 9, 0, 17], 5), ([8, 18, 0], 5), ([0, 13, 0, 10, 8, 13], 17), ([2, 17, 14, 5, 19, 18], 17), ([0, 3, 0, 11, 0, 17, 3, 8], 14), ([12, 14, 17, 4, 7, 8, 13], 1), ([3, 14, 3, 3], 17), ([1, 0, 11, 0, 25, 14, 21, 18, 10, 8], 1), ([15, 0, 25, 7, 20, 10, 14, 21], 1), ([10, 0, 11, 8, 13, 0], 1), ([3, 9, 8, 1, 20, 19, 8], 1), ([11, 8, 3, 21, 0, 11], 1), ([3, 9, 0, 13, 8, 1, 4, 10, 14, 21], 1), ([12, 20, 13, 8, 13], 1), ([10, 14, 20, 11, 0, 23, 8, 25, 8, 18], 10), ([7, 0, 10, 12, 0, 25, 0], 1), ([6, 0, 11, 11], 17), ([18, 8, 12, 14, 13], 0), ([12, 0, 19, 0, 18, 14, 5, 5], 1), ([17, 0, 8, 12, 14, 21], 1), ([3, 13, 8, 18, 7, 4, 21], 1), ([4, 6, 11, 4, 21, 18, 10, 24], 1), ([12, 20, 17, 15, 7, 24], 2), ([19, 0, 7, 0, 13], 5), ([3, 14, 22, 13, 19, 14, 13], 17), ([0, 18, 19, 17, 0, 7, 0, 13, 10, 8, 13], 1), ([9, 4, 21, 14, 13, 18], 17), ([1, 0, 11, 4], 17), ([8, 12, 0, 8], 7), ([0, 13, 19, 0, 17], 5), ([1, 17, 14, 3, 4, 20, 17], 0), ([7, 14, 12, 4, 13, 19, 14, 21, 18, 10, 24], 1), ([22, 0, 11, 11, 0, 2, 4], 17), ([5, 14, 7, 19], 1), ([22, 14, 13, 3, 17, 0, 2, 4, 10], 4), ([3, 12, 8, 19, 17, 14, 2, 7, 4, 13, 10, 14], 1), ([9, 0, 15, 0, 18, 10, 20, 17, 19], 1), ([2, 0, 18, 19, 4, 11, 11], 11), ([17, 14, 12, 8, 9, 13, 3, 4, 17, 18], 9), ([2, 7, 8, 25, 7, 8, 10], 1), ([1, 17, 14, 14, 10, 4], 17), ([11, 4, 1, 4, 3, 8, 13, 4, 19, 18], 1), ([18, 2, 7, 12, 8, 3, 19], 13), ([21, 4, 17, 14, 13, 0], 14), ([19, 14, 22, 13, 18, 11, 4, 24], 17), ([7, 14, 9, 14], 7), ([19, 4, 13, 18, 7, 8, 13], 7), ([6, 11, 0, 19, 19, 4, 17], 4), ([10, 4, 13, 13, 4, 5, 14, 17, 3], 17), ([19, 17, 8, 13, 7], 8), ([1, 8, 19, 0, 17], 5), ([7, 20, 17, 18, 19], 17), ([10, 20, 12, 0, 18, 0, 10, 0], 7), ([17, 4, 10, 8, 19, 0, 17], 1), ([19, 0, 7, 0, 13], 5), ([6, 4, 17, 6, 4, 18], 5), ([14, 11, 12, 14, 18], 11), ([3, 0, 10, 7, 13, 14], 1), ([12, 0, 17, 14, 20, 13], 5), ([1, 0, 7, 14, 17, 8, 13], 1), ([13, 0, 8, 5, 4, 7], 5), ([18, 7, 0, 10, 7, 12, 0, 19, 14, 21], 1), ([21, 8, 10, 20, 11, 8, 13], 1), ([18, 7, 0, 7, 1, 0, 13, 14, 21], 1), ([24, 0, 13, 6, 0, 17, 1, 4, 17], 1), ([3, 8, 25, 7, 8, 13], 1), ([21, 0, 13, 3, 0, 11, 10, 14, 21, 18, 10, 24], 1), ([13, 0, 10, 0, 13, 8, 18, 7, 8], 7), ([0, 16, 20, 0], 11), ([18, 8, 13], 6), ([21, 4, 18, 4, 11, 10, 14, 21], 1), ([24, 0, 8, 19, 18, 10, 24], 1), ([2, 11, 0, 13, 2, 24], 17), ([0, 18, 6, 7, 0, 17], 5), ([18, 19, 4, 13, 6, 4, 17], 13), ([21, 4, 17, 18, 19, 14, 21, 18, 10, 24], 1), ([22, 0, 19, 19], 17), ([18, 2, 7, 20, 11, 19, 25], 13), ([1, 14, 20, 11, 14, 18], 5), ([15, 17, 8, 10, 11, 14, 13, 18, 10, 24], 1), ([5, 4, 11, 11], 17), ([1, 4, 8, 11, 18, 7, 19, 4, 8, 13], 1), ([7, 14, 11, 14, 3, 13, 24], 1), ([1, 0, 18, 14, 21], 1), ([7, 20, 0], 3), ([18, 7, 0, 11, 8, 19, 10, 8, 13], 1), ([17, 4, 0, 3, 11, 4], 17), ([22, 8, 11, 4, 12, 0, 13], 17), ([13, 14, 17, 1, 20, 17, 24], 17), ([12, 14, 7, 13, 0, 2, 7, 4, 21], 1), ([18, 0, 11, 8, 1], 5), ([19, 25, 4, 11, 8, 10, 14, 21], 1), ([17, 14, 19, 12, 8, 18, 19, 17, 14, 21], 1), ([3, 14, 1, 17, 24, 18, 7, 4, 21], 1), ([0, 17, 8, 0, 13], 5), ([9, 0, 17, 18, 10, 24], 1), ([14, 2, 14, 13, 13, 14, 17], 17), ([18, 8, 13, 6, 7], 17), ([13, 0, 9, 9, 0, 17], 5), ([19, 0, 11, 12, 8, 13], 1), ([0, 3, 14, 3, 20, 17, 14, 5, 5], 1), ([13, 4, 22, 18, 14, 13], 17), ([6, 17, 8, 1, 0, 18, 7, 4, 21], 1), ([10, 7, 14, 20, 17, 8], 5), ([16, 20, 17, 0, 8, 18, 7, 8], 5), ([1, 0, 10, 8, 7, 0, 13, 14, 5, 5], 1), ([18, 8, 11, 21, 0], 17), ([8, 1, 0, 0, 4, 25], 11), ([2, 7, 4, 10, 7], 1), ([18, 0, 17, 13, 0], 4), ([12, 0, 10, 7, 0, 11, 14, 21], 1), ([0, 12, 14, 17], 17), ([15, 14, 7, 11, 4, 1, 0, 4, 21], 1), ([4, 13, 8, 10, 14, 11, 14, 15, 14, 21], 1), ([7, 0, 13, 3, 0, 11], 5), ([9, 20, 25, 21, 24, 20, 10], 1), ([7, 0, 17, 8, 13], 1), ([0, 12, 4, 11, 18, 21, 14, 14, 17, 19], 9), ([7, 0, 17, 1], 5), ([2, 14, 17, 13, 0], 14), ([12, 0, 19, 25, 4, 24, 14, 21, 18, 10, 24], 1), ([17, 8, 19, 2, 7, 8, 4], 17), ([15, 0, 20, 11, 8, 18], 13), ([10, 17, 4, 24, 11, 8, 13, 6], 17), ([17, 20, 18, 18, 14, 13], 17), ([18, 7, 4, 13], 1), ([2, 7, 20, 7, 11, 14, 12, 8, 13], 1), ([24, 0, 18, 20, 10, 0, 22, 0], 7), ([6, 17, 0, 13, 18, 10, 24], 1), ([24, 0, 10, 20, 19, 8, 13], 1), ([17, 0, 8, 7, 4, 17, 19], 1), ([1, 0, 9, 8, 13, 14, 5, 5], 1), ([9, 20, 11, 24, 0, 1, 8, 13], 1), ([19, 25, 4, 6, 14, 4, 21], 1), ([8, 18, 0], 5), ([19, 0, 12, 1, 4, 17], 17), ([18, 7, 8, 6, 8], 7), ([13, 0, 7, 0, 18], 5), ([12, 0, 17, 5, 20, 18, 0, 11, 14, 21], 1), ([18, 7, 0, 12, 18, 7, 20, 17, 8, 13], 1), ([7, 0, 17, 0, 3, 25, 4], 1), ([14, 13, 20, 5, 17, 8, 4, 13, 10, 14], 1), ([9, 8, 17, 13, 24, 0, 10, 14, 21], 1), ([12, 4, 17, 2, 10, 23], 9), ([0, 17, 8, 0, 13], 5), ([15, 14, 10, 7, 8, 11, 2, 7, 20, 10], 1), ([6, 0, 18, 15, 0, 17], 11), ([22, 7, 8, 19, 7, 0, 12], 17), ([2, 0, 8, 0, 25, 25, 14], 14), ([12, 14, 17, 8, 6, 20, 2, 7, 8], 7), ([3, 4, 21, 8, 13], 12), ([15, 8, 18, 0, 13, 8], 14), ([4, 18, 18, 0], 5), ([21, 0, 6, 8, 25, 14, 21], 1), ([6, 11, 4, 13, 13, 14, 13], 17), ([10, 14, 13, 18, 19, 0, 13, 19, 0, 19, 14, 18], 10), ([12, 20, 25, 0, 5, 0, 17, 14, 21], 1), ([2, 7, 20, 10, 7, 13, 14, 21], 1), ([21, 8, 13, 18, 6, 4, 8, 12], 1), ([19, 14, 18, 4, 11, 11, 8], 14), ([18, 8, 11, 21, 0], 11), ([19, 20, 17, 21, 4, 24], 17), ([3, 8, 10, 14, 11, 4, 13, 10, 14], 1), ([0, 6, 4, 8, 2, 7, 4, 21], 1), ([6, 4, 5, 19, 4, 17], 1), ([0, 11, 11, 12, 0, 13], 17), ([0, 13, 19, 8, 12, 8, 18, 8, 0, 17, 8, 18], 10), ([0, 21, 3, 24, 20, 10, 14, 21], 1), ([10, 0, 13, 0, 0, 13], 5), ([21, 24, 6, 17, 0, 13], 1), ([24, 0, 13], 1), ([10, 0, 13, 4], 17), ([10, 14, 20, 17, 24], 5), ([9, 0, 17, 17, 14, 11, 3], 17), ([10, 0, 24, 4, 18], 17), ([19, 7, 14, 12, 18, 14, 13], 17), ([15, 4, 2, 7, 4, 13, 8, 13], 1), ([6, 14, 12, 14, 11, 10, 0], 15), ([11, 8, 10, 20, 13, 14, 21], 1), ([1, 20, 17, 11, 0, 13, 3], 17), ([9, 4, 17, 0, 21, 8, 13], 1), ([9, 14, 11, 11, 4, 13, 1, 4, 2, 10], 13), ([0, 1, 11, 14, 21], 1), ([15, 0, 15, 0, 3, 4, 11, 8, 0, 18], 10), ([12, 0, 17, 19, 24, 20, 10], 1), ([17, 0, 3, 2, 11, 8, 5, 5, 4], 17), ([10, 0, 11, 8, 7, 12, 0, 13], 1), ([7, 0, 20, 19, 8, 4, 21], 1), ([24, 0, 12, 0, 10, 0, 6, 4], 7), ([1, 14, 20, 19, 17, 14, 18], 5), ([25, 7, 0, 17, 12, 20, 10, 7, 0, 12, 4, 3, 14, 21], 1), ([2, 14, 11, 11, 8, 13, 18, 14, 13], 17), ([3, 20, 17, 13, 14, 15, 4, 8, 10, 14], 1), ([0, 18, 10, 4, 17], 5), ([6, 20, 19, 4, 17, 12, 20, 19, 7], 13), ([21, 8, 18, 11, 14, 1, 14, 10, 14, 21], 1), ([21, 8, 7, 11, 24, 0, 4, 21], 1), ([18, 7, 8, 12, 0, 12, 20, 17, 0], 7), ([7, 0, 13, 3, 0, 11], 5), ([12, 8, 10, 18, 0, 19, 10, 14, 21, 0], 4), ([3, 0, 17, 4, 21, 18, 10, 24], 1), ([24, 0, 10, 8, 12, 14, 21], 1), ([3, 21, 14, 17, 0, 10], 4), ([25, 14, 11, 14, 19, 0, 17, 18, 10, 24], 1), ([3, 20, 17, 14, 13, 14, 21], 1), ([11, 24, 17, 18, 2, 7, 8, 10, 14, 21], 1), ([14, 11, 3, 17, 14, 24, 3], 17), ([22, 8, 2, 10, 7, 0, 12], 17), ([0, 22, 19, 20, 17, 10, 7, 0, 13, 14, 5, 5], 1), ([1, 4, 11, 8, 2, 7], 1), ([25, 7, 8, 6, 20, 11, 4, 13, 10, 14, 21], 1), ([6, 0, 13, 8, 12], 5), ([11, 4, 22, 8, 19, 2, 10, 24, 9], 1), ([12, 0, 19, 18, 10, 14, 21], 1), ([18, 7, 0, 3, 8, 3], 5), ([11, 8, 7, 19, 4, 13, 18, 7, 19, 4, 8, 13], 1), ([18, 7, 0, 12, 14, 20, 13], 5), ([24, 0, 13, 9, 20, 11], 1), ([6, 0, 11, 11], 1), ([10, 20, 18, 0, 10], 4), ([10, 4, 19, 19, 4, 17, 8, 13, 6, 7, 0, 12], 17), ([4, 8, 25, 4, 13], 1), ([17, 8, 0, 8, 13], 12), ([18, 7, 0, 10, 7, 11, 4, 21, 8, 2, 7], 1), ([18, 7, 0, 3, 18, 10, 24], 1), ([6, 0, 19, 4, 4, 21], 1), ([24, 0, 6, 14, 3, 13, 8, 10, 14, 21], 1), ([4, 12, 4, 11, 8, 13], 1), ([1, 14, 13, 3], 17), ([1, 17, 4, 4, 13], 17), ([5, 0, 17, 17, 8, 4, 17], 17), ([12, 14, 19, 19, 17, 0, 12], 17), ([2, 7, 0, 13, 14, 21], 1), ([12, 8, 0, 14], 3), ([10, 0, 18, 18, 8, 18], 5), ([7, 0, 3, 3, 0, 3], 5), ([12, 4, 4, 20, 22, 4, 18, 25, 4, 13], 9), ([0, 22, 19, 14, 10, 17, 0, 19, 14, 5, 5], 1), ([12, 4, 13, 3, 4, 11], 13), ([5, 17, 20, 12, 10, 8, 13], 1), ([2, 14, 20, 18, 8, 13, 18], 17), ([19, 0, 7, 0, 13], 5), ([2, 4, 0, 11, 11, 0, 2, 7], 12), ([19, 18, 20, 2, 7, 8, 4], 7), ([7, 17, 0, 12, 19, 18, 14, 21], 1), ([19, 18, 0, 13, 6, 0, 17, 8, 18], 10), ([6, 14, 11, 14, 18, 7, 14, 21], 1), ([11, 4, 6, 6, 4, 19, 19], 17), ([9, 4, 17, 4, 1, 8, 13], 1), ([0, 1, 0, 3, 8], 5), ([7, 0, 11, 5, 8, 13], 1), ([20, 10, 8, 24, 14], 7), ([2, 11, 14, 18, 4], 10), ([19, 17, 20, 10, 7, 0, 13, 14, 21], 1), ([2, 8, 13, 14], 14), ([21, 0, 11, 2, 7, 8, 19, 18, 10, 24], 1), ([1, 4, 10, 7, 12, 4, 19, 8, 4, 21], 1), ([8, 18, 7, 8, 7, 0, 17, 0], 7), ([18, 22, 0, 13, 18, 14, 13], 17), ([12, 8, 10, 7, 4, 11, 18], 1), ([1, 17, 8, 18, 8, 12, 8, 19, 25, 0, 10, 8, 18], 10), ([15, 0, 17, 4, 25], 11), ([10, 8, 19, 14, 0, 9, 8], 7), ([15, 14, 17, 20, 1, 11, 4, 21], 1), ([12, 20, 13, 2, 7, 0, 4, 21], 1), ([1, 14, 20, 19, 17, 14, 18], 5), ([8, 12, 18, 7, 4, 13, 4, 19, 18, 10, 24], 1), ([6, 17, 14, 25, 14, 21, 18, 10, 24], 1), ([19, 18, 4, 7, 0, 13, 14, 21, 8, 2, 7], 1), ([1, 4, 11, 24, 20, 18, 14, 21], 1), ([19, 20, 12, 8, 13], 1), ([0, 21, 17, 20, 18], 1), ([9, 0, 13, 8, 2, 10], 4), ([6, 0, 17, 3, 8, 13, 8, 4, 17], 0), ([7, 0, 11, 0, 3, 25, 7, 0, 13], 1), ([9, 0, 2, 10, 18], 17), ([11, 24, 14, 13], 0), ([3, 9, 8, 13, 3, 14], 1), ([0, 17, 8, 0, 13], 5), ([0, 19, 19, 8, 0], 5), ([13, 4, 4, 18, 14, 13], 17), ([15, 8, 0, 19, 4, 10], 15), ([15, 17, 8, 21, 0, 11, 8, 10, 7, 8, 13], 1), ([10, 8, 11, 12, 20, 17, 17, 24], 17), ([12, 8, 10, 7, 0, 8, 11], 5), ([17, 4, 12, 24, 0, 13, 13, 8, 10, 14, 21], 1), ([11, 4, 15, 4, 7, 8, 13], 1), ([1, 0, 10, 7, 11, 20, 11, 25, 0, 3, 4], 1), ([12, 4, 0, 17, 18], 17), ([2, 7, 17, 8, 18, 19, 14, 20], 10), ([15, 0, 17, 0, 18, 10, 20, 13], 1), ([21, 0, 13, 22, 4, 11, 11], 17), ([2, 14, 4, 11, 7, 14], 16), ([9, 8, 9, 8, 10, 8, 13], 1), ([12, 14, 17, 17, 8, 18], 17), ([2, 11, 0, 17, 10], 2), ([7, 4, 0, 11, 24], 17), ([24, 0, 10, 14, 21, 4, 19, 18], 1), ([6, 8, 11, 1, 4, 17, 19], 17), ([19, 14, 13, 10, 18], 17), ([12, 8, 13, 8, 7], 1), ([1, 4, 10, 14, 17, 24, 20, 10, 14, 21], 1), ([0, 1, 20, 10, 7, 14, 5, 5], 1), ([7, 0, 13, 3, 0, 11], 5), ([1, 8, 18, 7, 0, 17, 0], 5), ([3, 4, 4, 1], 5), ([10, 4, 13, 22, 14, 17, 19, 7, 24], 17), ([9, 20, 17, 14, 12, 18, 10, 24], 1), ([6, 20, 8, 17, 6, 20, 8, 18], 5), ([18, 0, 12, 12, 8, 24, 0], 7), ([18, 11, 4, 8, 12, 0, 13], 5), ([17, 20, 25, 0, 10, 14, 21], 1), ([21, 0, 11, 14, 21], 1), ([9, 0, 3, 8, 13], 1), ([6, 0, 11, 1, 17, 0, 8, 19, 7], 17), ([22, 14, 9, 4, 22, 0, 3, 25, 10, 8], 15), ([1, 0, 2, 7], 13), ([19, 17, 14, 8, 13, 8, 13], 1), ([6, 0, 13, 8, 12], 5), ([11, 0, 12, 14, 13], 14), ([6, 17, 0, 12, 12, 0, 19, 8, 10, 14, 21], 1), ([10, 0, 1, 0, 11, 10, 8, 13], 1), ([12, 8, 7, 0, 18, 4, 13, 10, 14], 1), ([25, 7, 8, 25, 7, 8, 10, 8, 13], 1), ([2, 7, 0, 20, 7, 0, 13], 17), ([15, 17, 8, 1, 24, 11, 14, 21, 18, 10, 24], 1), ([12, 0, 17, 19, 24, 18, 7, 10, 14], 1), ([18, 2, 7, 20, 2, 7, 4, 17, 19], 13), ([24, 20, 18, 7, 13, 4, 21, 18, 10, 24], 1), ([3, 0, 6, 7, 4, 17], 5), ([3, 25, 8, 4, 3, 25, 8, 2], 15), ([0, 1, 11, 4, 20, 7, 14, 5, 5], 1), ([3, 4, 17, 19, 8, 11, 8, 18], 10), ([15, 0, 25, 7, 8, 13, 18, 10, 24], 1), ([0, 18, 0, 8], 7), ([13, 0, 6, 20, 12, 14], 7), ([25, 4, 13, 6, 4, 17], 1), ([10, 17, 0, 19, 18, 2, 7, 12, 0, 17], 4), ([0, 1, 3, 20, 11, 11, 0, 4, 21], 1), ([21, 8, 11, 10, 14, 21, 18, 10, 24], 1), ([6, 14, 14, 3, 2, 7, 8, 11, 3], 17), ([5, 4, 17, 17, 24], 17), ([0, 21, 0, 10, 14, 5, 5], 1), ([4, 18, 18, 0], 5), ([13, 0, 8, 5, 4, 7], 5), ([17, 14, 18, 4], 13), ([6, 0, 24, 20, 11, 18, 10, 24], 1), ([22, 0, 11, 3, 17, 14, 13], 17), ([10, 11, 4, 8, 13], 9), ([9, 0, 11, 20, 13, 8, 13], 1), ([24, 0, 6, 20, 19, 24, 0, 13], 1), ([6, 0, 6, 8, 13], 1), ([3, 8, 0, 0, 13, 19, 14, 13, 8, 14], 14), ([22, 0, 11, 11], 17), ([17, 24, 25, 7, 8, 7], 1), ([3, 25, 7, 20, 17, 14, 12, 18, 10, 24], 1), ([17, 4, 0, 3, 4, 17], 17), ([0, 6, 0, 8, 6, 4, 11, 3, 8, 4, 21], 1), ([4, 17, 17, 8, 3, 6, 4], 17), ([0, 22, 19, 14, 12, 14, 21, 8, 2, 7], 1), ([10, 7, 14, 20, 17, 8], 5), ([6, 14, 17, 3, 4, 8, 2, 7, 8, 10], 1), ([18, 7, 0, 11, 0, 21, 8, 13], 1), ([8, 10, 4, 3, 0], 7), ([18, 0, 11, 14, 12, 14, 13], 13), ([11, 14, 22, 3, 14, 13], 17), ([18, 0, 24, 4, 6, 7], 5), ([22, 8, 11, 19, 18, 7, 8, 17, 4], 17), ([17, 8, 6, 0, 19, 14, 18], 10), ([20, 6, 0, 10, 8], 7), ([1, 0, 1, 8, 2, 7, 4, 21], 1), ([25, 7, 0, 21, 14, 17, 14, 13, 14, 10], 1), ([0, 21, 4, 17, 1, 20, 10, 7], 1), ([10, 0, 18, 18, 8, 18], 5), ([6, 17, 14, 7, 0, 17], 1), ([0, 17, 8, 19, 0], 7), ([7, 0, 3, 3, 0, 3], 5), ([1, 0, 1, 8, 19, 18, 10, 24], 1), ([17, 14, 20, 18, 18, 4, 19], 17), ([21, 24, 0, 25, 12, 8, 10, 8, 13], 1), ([19, 20, 6, 0, 13, 14, 21], 1), ([4, 6, 14, 5], 1), ([18, 7, 0, 22], 17), ([21, 8, 10, 7, 13, 14, 21, 8, 2, 7], 1), ([0, 3, 0, 12, 2, 25, 24, 10], 15), ([19, 0, 10, 0, 10, 8], 7), ([0, 1, 17, 0, 6, 0, 12, 18, 14, 13], 1), ([4, 18, 4, 13, 10, 14, 21], 1), ([21, 0, 8, 6, 0, 13, 19], 1), ([0, 1, 1, 14, 20, 3], 5), ([11, 4, 25, 7, 13, 4, 21], 1), ([13, 0, 8, 5, 4, 7], 5), ([2, 14, 11, 11, 8, 4, 17], 17), ([17, 25, 4, 7, 0, 10], 4), ([19, 14, 11, 14, 13, 8], 14), ([0, 6, 13, 8, 21, 19, 18, 4, 21], 1), ([7, 0, 10, 8, 12, 8], 5), ([11, 20, 10, 7, 12, 0, 13, 14, 21], 1), ([15, 0, 20, 11, 8, 18, 18, 4, 13], 9), ([9, 0, 10, 14, 21, 8, 2, 7, 4, 13, 10, 14], 1), ([20, 18, 19, 8, 12, 14, 21, 8, 2, 7], 1), ([21, 0, 8, 19, 18, 4, 10, 7, 14, 21, 18, 10, 24], 1), ([2, 14, 14, 10, 4], 17), ([2, 7, 0, 12], 5), ([12, 0, 17, 10, 7, 8, 13, 8, 13], 1), ([17, 8, 21, 0], 14), ([24, 0, 11, 11, 14, 15], 17), ([13, 20, 17, 4, 12, 1, 4, 17, 6], 13), ([19, 25, 0, 17, 4, 13, 10, 14, 21], 1), ([0, 21, 10, 18, 4, 13, 19, 8, 4, 21, 18, 10, 8], 1), ([2, 0, 21, 4, 24], 0), ([5, 14, 19, 8, 4, 21], 1), ([11, 24, 13, 2, 7], 17), ([10, 0, 17, 11], 9), ([7, 8, 14, 17, 21, 18, 19], 4), ([15, 17, 14, 2, 19, 4, 17], 17), ([12, 0, 19, 18, 10, 4, 21, 8, 2, 7], 1), ([13, 0, 19, 18, 20, 12, 4], 7), ([17, 4, 3, 8, 13], 17), ([17, 20, 25, 7, 8, 19, 18, 10, 24], 1), ([4, 8, 7, 4, 13, 1, 0, 20, 12], 1), ([21, 0, 11, 4, 13, 19, 8], 14), ([13, 4, 6, 17, 8, 13, 8], 14), ([9, 20, 15, 15], 17), ([1, 0, 6, 11, 0, 8], 1), ([6, 11, 0, 21, 0, 19, 18, 10, 24], 1), ([18, 2, 7, 4, 13, 10], 4), ([4, 11, 8, 0, 18, 14, 21], 1), ([12, 14, 17, 3, 1, 4, 17, 6], 1), ([2, 7, 4, 10, 7, 14, 21, 8, 2, 7], 1), ([4, 6, 6, 1, 24], 17), ([9, 0, 11, 14, 21, 4, 19, 18], 1), ([0, 25, 7, 8, 6, 0, 13, 14, 5, 5], 1), ([12, 14, 10, 17, 8, 19, 18, 10, 24], 1), ([7, 14, 17, 13, 4], 17), ([3, 4, 17, 24, 20, 9, 10, 14, 21], 1), ([12, 20, 18, 19, 0, 5, 0], 5), ([19, 8, 12, 18, 14, 13], 17), ([15, 14, 2, 7, 8, 13, 14, 10], 1), ([1, 11, 0, 2, 10, 12, 0, 13], 17), ([19, 14, 10, 14, 21, 14, 8], 1), ([3, 9, 20, 6, 0, 18, 7, 21, 8, 11, 8], 1), ([12, 0, 10, 20, 10, 7, 0], 1), ([6, 20, 10, 0, 18, 14, 21], 1), ([7, 0, 1, 8, 13], 1), ([24, 20, 7, 13, 4, 21], 1), ([21, 24, 0, 11, 10, 14, 21], 1), ([19, 8, 10, 7, 14, 21], 1), ([13, 0, 3, 4, 17], 5), ([10, 4, 18, 18, 11, 4, 17], 4), ([25, 7, 4, 25, 7, 4, 11], 1), ([24, 0, 13, 10, 14], 1), ([1, 0, 25, 24, 11, 13, 8, 10, 14, 21], 1), ([0, 12, 0, 17, 8], 5), ([15, 14, 18, 7, 4, 10, 7, 14, 13, 14, 21], 1), ([0, 1, 0, 11, 8, 7, 8, 13], 1), ([1, 11, 20, 12, 18, 19, 4, 8, 13], 13), ([14, 1, 24, 3, 4, 13, 13, 8, 10, 14, 21], 1), ([18, 7, 0, 12, 12, 0, 18], 5), ([25, 8, 12, 0, 10, 8, 13], 1), ([3, 20, 17, 0, 13, 19, 4], 11), ([10, 0, 20, 5, 4, 17], 13), ([1, 0, 2, 14, 13], 17), ([2, 7, 8, 11, 0, 17], 4), ([3, 20, 1, 8, 13], 1), ([1, 0, 10, 20, 17, 8, 13, 18, 10, 24], 1), ([6, 7, 0, 13, 13, 0, 12], 5), ([11, 20, 15, 0, 13], 1), ([21, 4, 18, 4, 11, 14, 21, 18, 10, 24], 1), ([24, 14, 20, 11, 3, 4, 13], 17), ([0, 1, 1, 0, 19, 4], 14), ([3, 4, 18, 24, 0, 19, 10, 8, 13], 1), ([6, 20, 19, 7, 17, 8, 4], 17), ([23, 24, 3, 8, 18], 10), ([11, 20, 3, 6, 17, 14, 21, 4], 17), ([19, 14, 10, 20, 13, 14, 21], 1), ([12, 14, 11, 14, 3, 19, 18, 14, 21], 1), ([17, 0, 3, 5, 14, 17, 3], 17), ([10, 20, 17, 14, 3, 0], 7), ([13, 14, 17, 21, 8, 11, 11, 4], 17), ([2, 14, 14, 12, 1, 4, 17], 17), ([1, 4, 10, 7, 19, 14, 11, 3], 1), ([25, 7, 21, 0, 13, 4, 19, 18, 10, 24], 1), ([10, 20, 22, 0, 1, 0, 17, 0], 7), ([3, 14, 17, 17, 8, 13, 6, 19, 14, 13], 17), ([16, 20, 17, 0, 8, 18, 7, 8], 5), ([15, 11, 0, 18, 19, 14, 22], 17), ([18, 15, 4, 2, 7, 19], 9), ([15, 4, 2, 7, 20, 4, 21], 1), ([21, 0, 20, 6, 7, 0, 13], 17), ([13, 8, 4, 11, 18, 4, 13], 17), ([12, 8, 11, 22, 0, 17, 3], 17), ([6, 20, 25, 0, 13, 14, 21], 1), ([5, 0, 10, 7, 14, 20, 17, 24], 5), ([5, 8, 13, 1, 14, 22], 17), ([1, 4, 17, 0, 17, 3, 8], 14), ([19, 25, 4, 8], 1), ([18, 7, 0, 3, 8, 3], 5), ([7, 8, 2, 10, 12, 0, 13], 17), ([12, 0, 6, 17, 14], 14), ([0, 21, 3, 14, 18, 7, 8, 13], 1), ([5, 4, 13, 18, 19, 4, 17, 12, 0, 2, 7, 4, 17], 13), ([11, 20, 10, 7, 14, 21, 8, 19, 18, 10, 24], 1), ([19, 20, 12, 0, 13, 14, 21], 1), ([1, 0, 7, 11, 20, 11, 25, 0, 3, 4], 1), ([12, 14, 7, 14, 18, 14, 4, 21], 1), ([12, 14, 12, 3, 9, 8], 1), ([19, 18, 21, 4, 19, 0, 4, 21], 1), ([4, 21, 4, 17, 18], 1), ([1, 8, 19, 0, 17], 5), ([0, 2, 2, 14, 17, 18, 14], 14), ([18, 7, 0, 12, 14, 14, 13], 5), ([0, 1, 0, 3, 8], 5), ([24, 0, 12, 20, 17, 0], 7), ([11, 4, 15, 8, 10, 7, 14, 21], 1), ([1, 0, 18, 18, 14], 14), ([12, 14, 6, 7, 0, 3, 0, 12], 5), ([3, 20, 1, 7, 0, 8, 13], 12), ([1, 0, 10, 20, 13, 19, 18], 1), ([0, 22, 11, 14, 5, 5], 1), ([19, 2, 7, 4, 7, 14, 21, 18, 10, 24], 1), ([22, 4, 18, 19, 14, 13], 17), ([12, 2, 13, 0, 1], 12), ([0, 1, 3, 20, 11, 10, 7, 0, 1, 8, 17, 14, 5, 5], 1), ([2, 4, 17, 13, 24], 4), ([14, 13, 20, 2, 7, 8, 13], 1), ([7, 0, 3, 0, 3], 5), ([6, 0, 11, 4, 15, 0], 1), ([13, 20, 8, 10, 8, 13], 1), ([18, 0, 13, 18, 14, 13, 4], 14), ([10, 7, 14, 20, 17, 24], 5), ([24, 20, 3, 8, 13], 1), ([7, 0, 13], 3), ([24, 20, 10, 7, 12, 0], 1), ([11, 8, 10, 8, 13], 1), ([9, 0, 1, 0], 1), ([21, 0, 11, 10, 14, 21, 14, 24], 1), ([2, 7, 11, 4, 1, 4, 10], 15), ([13, 14, 18, 10, 14, 21, 18, 10, 24], 1), ([7, 11, 6, 0, 19, 24, 0, 13], 1), ([10, 0, 11, 4, 10, 8, 13], 1), ([19, 25, 0, 15, 10, 14], 1), ([10, 4, 14, 6, 7], 17), ([19, 0, 11, 8, 4, 21], 1), ([21, 8, 11, 18, 14, 13], 1), ([8, 17, 21, 8, 13], 17), ([12, 14, 6, 20, 2, 7, 4, 21], 1), ([15, 24, 17, 2, 7, 4, 13, 10, 14], 1), ([5, 4, 17, 17, 8, 18], 17), ([21, 14, 11, 11, 0, 13, 18], 17), ([19, 2, 7, 0, 13, 19, 20, 17, 8, 0], 1), ([13, 0, 3, 4, 17], 5), ([15, 17, 4, 18, 2, 14, 19, 19], 17), ([12, 0, 17, 19, 24, 13, 24, 20, 10], 1), ([25, 7, 8, 21, 14, 3, 4, 17, 14, 21], 1), ([12, 14, 6, 7, 0, 3, 0, 12], 5), ([0, 13, 3, 17, 14, 13, 2, 7, 8, 10], 1), ([2, 14, 13, 13, 4, 11, 11, 24], 17), ([17, 0, 7, 0, 11], 5), ([2, 7, 20, 19, 0], 1), ([0, 13, 4, 3, 2, 7, 4, 13, 10, 14], 1), ([2, 7, 14, 20], 6), ([0, 21, 19, 14, 17, 7, 0, 13, 14, 21], 1), ([18, 0, 10, 14, 21], 1), ([12, 14, 7, 0, 12, 4, 3], 17), ([17, 8, 21, 4, 17, 14, 21], 1), ([19, 0, 11, 0, 11, 8, 7, 8, 13], 1), ([2, 7, 4, 10, 12, 4, 25, 14, 21], 1), ([0, 13, 19, 17, 0, 12], 17), ([17, 9, 4, 18, 7, 14, 19, 0, 17, 18, 10, 24], 1), ([21, 0, 8, 18, 4, 17, 12, 0, 13], 1), ([24, 0, 10, 20, 18, 7], 1), ([2, 7, 0, 12], 5), ([19, 0, 11, 0, 13, 14, 21], 1), ([18, 0, 10, 8, 24, 0, 4, 21], 1), ([2, 7, 4, 7, 0, 13, 14, 21], 1), ([0, 11, 11, 3, 17, 8, 19, 19], 17), ([4, 2, 2, 11, 4, 18, 19, 14, 13], 17), ([10, 4, 17, 17, 8, 6, 0, 13], 17), ([21, 4, 11, 8, 7, 14, 21], 1), ([12, 14, 13, 19, 4, 17, 14], 11), ([4, 11, 11, 4, 17, 18, 7, 0, 22], 17), ([20, 2, 2, 4, 11, 11, 14], 14), ([1, 0, 10, 7, 19, 20, 17, 8, 13], 1), ([12, 2, 6, 20, 8, 17, 4], 12), ([0, 11, 3, 17, 8, 3, 6, 4], 17), ([18, 7, 0, 7, 20, 17, 8, 13], 1), ([18, 8, 19, 25], 13), ([9, 4, 5, 5, 17, 4, 24, 18], 17), ([16, 20, 17, 0, 8, 18, 7, 8], 5), ([0, 1, 0, 3, 8], 5), ([1, 20, 19, 19, 14, 13], 17), ([12, 2, 10, 4, 4], 17), ([25, 7, 8, 17, 10, 14, 21], 1), ([18, 2, 7, 4, 1, 11, 24, 10, 8, 13], 1), ([0, 18, 6, 7, 0, 17], 5), ([1, 0, 7, 12, 4, 17], 13), ([21, 0, 11, 19, 2, 7, 8, 10, 14, 21, 18, 10, 24], 1), ([4, 8, 10, 7, 4, 13, 6, 14, 11, 19, 18], 1), ([0, 11, 21, 4, 18], 17), ([12, 0, 13, 18, 14, 20, 17], 5), ([12, 8, 7, 13, 4, 21], 1), ([15, 0, 17, 10, 8, 13, 18], 17), ([0, 13, 19, 14, 20, 13], 5), ([9, 4, 1, 14], 1), ([18, 0, 11, 8, 1, 0], 5), ([2, 7, 0, 6, 0, 13, 14, 21], 1), ([0, 11, 1, 4, 17, 6, 7, 8], 14), ([9, 0, 2, 14, 1], 17), ([19, 20, 6, 0, 13, 0, 4, 21], 1), ([21, 4, 3, 24, 0, 18, 7, 10, 8, 13], 1), ([6, 0, 18, 10, 14, 8, 13], 1), ([11, 24, 2, 7, 0, 10, 14, 21], 1), ([1, 0, 18, 24, 17, 14, 21], 1), ([15, 8, 18, 10, 14, 17, 18, 10, 24], 1), ([0, 11, 1, 4, 17, 19], 17), ([15, 14, 10, 7, 8, 11, 10, 14], 1), ([7, 0, 19, 0, 6, 14, 21], 1), ([0, 17, 4, 2, 7, 0, 21, 0, 11, 4, 19, 0], 11), ([12, 8, 10, 7, 0, 8, 11, 9, 0, 13, 19, 18], 1), ([11, 24, 13, 18, 12, 4, 8, 4, 17], 4), ([6, 17, 4, 4, 13, 18, 12, 8, 19, 7], 17), ([0, 22, 18, 4, 4, 13, 10, 14], 1), ([4, 17, 20, 25, 0, 11, 8, 12, 2, 7, 8, 10], 1), ([11, 4, 8, 10, 8, 13], 1), ([19, 0, 13, 13, 14, 20, 18], 5), ([13, 0, 12, 8, 10, 8], 7), ([7, 0, 7, 0, 11, 4, 21], 1), ([12, 8, 3, 3, 11, 4, 18, 22, 14, 17, 19, 7], 9), ([21, 24, 0, 19, 10, 14, 21, 18, 10, 24], 1), ([19, 20, 6, 14, 21], 1), ([7, 20, 17, 14, 18, 7, 21, 8, 11, 8], 1), ([17, 14, 21, 13, 24, 0, 13, 18, 10, 24], 1), ([1, 0], 5), ([17, 20, 25, 7, 4, 13, 19, 18, 14, 21], 1), ([15, 17, 14, 11, 20, 1, 13, 8, 10, 14, 21], 1), ([0, 20, 18, 19, 4, 13], 17), ([12, 14, 10, 7, 14, 18, 14, 4, 21], 1), ([21, 0, 11, 4, 13, 19, 18, 4, 21], 1), ([3, 8, 23, 14, 13], 17), ([18, 4, 17, 2, 7, 20, 10], 1), ([15, 0, 19, 18, 10, 4, 21, 8, 2, 7], 1), ([8, 18, 14, 3, 0], 7), ([15, 14, 2, 7, 20, 4, 21], 1), ([5, 0, 10, 7, 14, 20, 17, 24], 5), ([7, 0, 3, 3, 0, 3], 5), ([1, 17, 0, 13, 3, 19], 13), ([19, 17, 0, 2, 4, 24], 12), ([12, 14, 18, 7, 4, 19, 14, 21], 1), ([21, 4, 11, 14, 21, 18, 10, 24], 1), ([22, 0, 22, 17, 25, 0, 18, 25, 4, 10], 15), ([15, 14, 3, 18, 8, 25, 4, 17, 19, 18, 4, 21], 1), ([17, 0, 3, 4, 12, 0, 10, 4, 17], 13), ([0, 3, 24, 0, 13], 1), ([6, 14, 11, 14, 21, 0, 19, 14, 21], 1), ([1, 0, 3, 20, 10, 8, 13], 1), ([21, 0, 21, 8, 2, 7], 1), ([0, 11, 11, 4, 17], 9), ([0, 19, 19, 8, 0], 5), ([9, 14, 18, 18], 17), ([9, 4, 11, 14, 1, 8, 13, 18, 10, 24], 1), ([6, 4, 17, 6, 4, 18], 5), ([0, 11, 12, 0, 18, 8], 5), ([7, 4, 13, 3, 4, 17, 18, 14, 13], 17), ([0, 3, 17, 8, 0, 13, 10, 8, 13], 1), ([4, 3, 11, 8, 13, 6, 19, 14, 13], 17), ([3, 0, 21, 11, 4, 19, 18, 7, 8, 13], 1), ([11, 14, 13, 6, 7, 20, 17, 18, 19], 17), ([18, 15, 24, 17, 8, 3, 8, 18], 10), ([18, 20, 12], 3), ([2, 7, 4, 20, 13, 6], 3), ([9, 0, 7, 8, 12, 14, 21, 8, 2, 7], 1), ([4, 2, 10, 4, 17, 18, 0, 11, 11], 17), ([1, 17, 0, 12, 1, 8, 11, 11, 0], 14), ([16, 20, 8, 17, 10], 17), ([9, 4, 13, 0, 18], 17), ([19, 20, 12, 10, 14], 1), ([10, 0, 19, 18, 4, 15, 14, 21], 1), ([19, 2, 7, 0, 9, 4, 6, 14, 21], 1), ([18, 7, 0, 12, 12, 0, 18], 5), ([7, 0, 11, 10, 8, 14, 15, 14, 21], 1), ([9, 4, 11, 19, 24, 0, 13, 13, 8, 10, 14, 21], 1), ([11, 8], 6), ([12, 2, 2, 20, 11, 11, 14, 20, 6, 7], 17), ([7, 8, 18, 7, 8, 3, 0], 7), ([2, 0, 18, 4, 24], 17), ([18, 0, 24, 4, 6, 7], 5), ([12, 0, 17, 24, 4, 13, 10, 14], 1), ([10, 14], 6), ([3, 0, 13, 10, 18], 17), ([0, 13, 20, 17, 14, 21], 1), ([18, 0, 17, 10, 8, 18], 5), ([4, 6, 20, 2, 7, 8], 7), ([18, 7, 4, 13, 6, 4, 11, 8, 24, 0], 1), ([5, 0, 17, 17, 4, 11, 11], 17), ([19, 17, 0, 13, 6], 8), ([6, 17, 8, 21, 4, 19], 17), ([12, 14, 7, 17, 4, 13], 13), ([25, 7, 0, 13, 8, 12, 14, 21], 1), ([15, 14, 3, 18, 24, 0, 3, 11, 14], 1), ([5, 17, 24, 4, 17], 17), ([5, 17, 14, 11, 14, 21], 1), ([7, 0, 17, 2, 7, 4, 13, 10, 14], 1), ([0, 11, 12, 0, 18, 8], 5), ([11, 0, 8], 3), ([1, 8, 1, 8, 13], 1), ([0, 13, 19, 0, 17], 5), ([0, 1, 0, 3, 8], 5), ([12, 8, 7, 0, 8, 11, 14, 21, 18, 10, 24], 1), ([18, 0, 11, 0, 12, 0, 13, 2, 0], 11), ([0, 21, 4, 19, 24, 0, 13], 1), ([25, 7, 8, 12, 8, 11, 0], 1), ([12, 0, 11, 11, 4, 17], 13), ([13, 24, 0, 18, 7, 8, 13], 1), ([11, 8, 7], 1), ([7, 14, 17, 13], 9), ([6, 0, 12, 12, 4, 17], 17), ([20, 25, 0, 10, 14, 21], 1), ([21, 8, 11, 2, 7, 4, 15, 14, 11, 18, 10, 24], 1), ([0, 16, 20, 8, 11, 0], 14), ([2, 7, 0, 12], 5), ([25, 7, 8, 11, 8, 18], 1), ([10, 7, 14, 20, 17, 8], 5), ([0, 18, 24, 11, 12, 20, 17, 0, 19, 14, 21], 1), ([15, 0, 10, 7, 0, 11, 2, 7, 20, 10], 1), ([0, 6, 0, 12, 8, 17, 25, 24, 0, 13], 1), ([2, 7, 0, 11, 12, 4, 17, 18], 17), ([1, 0, 10, 11, 0, 13, 14, 5, 5], 1), ([1, 20, 10, 14, 18, 10, 8], 15), ([2, 20, 12, 12, 8, 13, 6, 18], 17), ([0, 1, 6, 0, 17, 24, 0, 13], 1), ([13, 0, 10, 7, 20, 18, 7, 4, 21], 1), ([7, 22, 0, 13, 6], 6), ([17, 14, 22, 11, 0, 13, 3, 18], 17), ([9, 8, 17, 14], 1), ([14, 19, 4, 11, 11, 8, 13], 1), ([24, 0, 13, 6], 3), ([1, 14, 19, 17, 14, 18], 5), ([19, 18, 0, 11, 0, 1, 0, 13], 1), ([7, 20, 17, 0, 13, 14, 21], 1), ([25, 7, 4, 13, 14, 21, 0, 2, 7], 1), ([2, 7, 8, 1, 0], 7), ([7, 0, 8, 17, 4, 19, 3, 8, 13, 14, 21], 1), ([21, 0, 13, 4], 17), ([12, 0, 2, 10, 8, 4], 17), ([1, 20, 19, 2, 7, 4, 17], 17), ([15, 8, 19, 19], 17), ([2, 14, 11, 4], 17), ([12, 2, 13, 20, 11, 19, 24], 17), ([13, 14, 18, 10, 8, 13], 1), ([12, 0, 19, 25, 10, 14, 21], 1), ([4, 21, 4, 17, 4, 19, 19], 17), ([18, 7, 4], 3), ([22, 17, 8, 6, 7, 19], 17), ([12, 14, 3, 4, 17, 0, 7], 1), ([12, 14, 6, 7, 0, 3, 0, 12], 5), ([9, 20, 6, 8, 13], 1), ([9, 14, 17, 13, 24, 0, 10], 1), ([1, 20, 17, 13, 18], 2), ([5, 11, 4, 12, 8, 13, 6], 2), ([4, 23, 11, 4, 24], 17), ([12, 14, 2, 7, 0, 11, 24, 6, 8, 13], 1), ([0, 22, 0, 3], 5), ([9, 0, 2, 7, 8, 10, 14, 21], 1), ([20, 7, 0, 1, 8, 13], 1), ([19, 17, 8, 13, 3, 4, 17], 17), ([3, 20, 1, 17, 14, 22, 18, 10, 8], 1), ([14, 13, 8, 18, 2, 7, 4, 13, 10, 14], 1), ([16, 20, 17, 0, 8, 18, 7, 8], 5), ([19, 20, 17, 0, 13, 14, 21], 1), ([0, 18, 19, 17, 0, 10, 7, 0, 13, 19, 18, 4, 21], 1), ([22, 0, 18, 4, 12], 5), ([9, 4, 5, 5, 4, 17, 8, 4, 18], 17), ([10, 0, 18, 18, 0, 1], 5), ([21, 8, 17, 21, 8, 19, 18, 8, 14, 19, 19, 8], 1), ([18, 7, 0, 10, 7, 0, 13, 14, 21], 1), ([3, 4, 0, 18, 0, 20, 21, 4, 19, 4, 17, 17, 4], 0), ([0, 18, 7, 4], 17), ([18, 2, 7, 8, 19, 18, 24, 13], 1), ([15, 0, 15, 4], 0), ([15, 5, 4, 8, 5, 4, 17], 4), ([15, 4, 11, 24, 20, 18, 7, 4, 13, 10, 14], 1), ([6, 11, 4, 25, 4, 17, 12, 0, 13], 1), ([10, 14, 20, 2, 7, 4, 18], 10), ([13, 4, 22, 1, 4, 17, 17, 24], 17), ([13, 0, 18, 19, 14, 24, 0, 18, 2, 7, 24], 1), ([17, 4, 24], 0), ([6, 0, 13, 8, 12], 5), ([0, 1, 0, 25, 0], 1), ([2, 0, 13, 19, 20], 14), ([9, 11, 14, 1, 0], 1), ([18, 0, 11, 8, 1, 0], 5), ([3, 25, 7, 8, 1, 11, 0, 3, 25, 4], 1), ([5, 17, 14, 24], 17), ([0, 1, 20, 6, 14, 21], 1), ([0, 1, 3, 17, 0, 10, 7, 12, 0, 13, 14, 21], 1), ([1, 11, 0, 25, 4, 9, 14, 21, 18, 10, 24], 4), ([17, 4, 18, 4, 0, 17, 2, 7, 4, 17], 1), ([7, 0, 13, 0, 13, 8, 0], 5), ([9, 0, 12, 1, 20, 17, 6], 1), ([2, 7, 8, 3, 11, 14, 22], 17), ([0, 12, 4, 19, 0, 7, 0, 13], 1), ([6, 17, 4, 4, 13, 22, 14, 14, 3], 17), ([22, 8, 13, 14, 6, 17, 14, 3, 25, 10, 8], 15), ([0, 18, 22, 0, 3], 5), ([15, 7, 8, 11, 8, 15, 18], 17), ([12, 0, 17, 10, 7, 0, 12], 17), ([12, 20, 18, 0, 10, 14, 21], 1), ([11, 0, 3, 24, 25, 7, 4, 19, 18], 1), ([18, 7, 0, 12, 14, 13], 5), ([15, 4, 4, 1, 11, 4, 18], 17), ([7, 0, 24, 0, 18, 7, 8, 3, 0], 7), ([0, 11, 15, 7, 4, 13], 9), ([12, 14, 6, 8, 11, 13, 8, 10, 14, 21], 1), ([2, 14, 17, 4], 17), ([18, 0, 10, 14, 21, 8, 2, 7], 1), ([5, 0, 11, 10], 17), ([0, 6, 0, 19, 14, 5, 5], 1), ([1, 4, 11, 19, 18, 14, 21], 1), ([12, 8, 13, 0, 1, 20, 2, 7, 8], 7), ([9, 0, 12, 1, 0, 4, 21], 1), ([1, 4, 11, 11, 14, 13, 8], 14), ([21, 0, 13, 24, 20, 10, 14, 21], 1), ([5, 17, 4, 20, 3], 13), ([15, 14, 17, 10, 7, 20, 13], 1), ([17, 14, 20, 23], 0), ([18, 19, 14, 13, 4], 17), ([17, 0, 8, 13, 5, 14, 17, 3], 17), ([7, 20, 17, 0, 12, 18, 7, 8, 13], 1), ([19, 14, 0, 19, 7, 4, 0, 5, 8, 17, 18, 19, 0, 15, 0, 6, 4], 1), ([11, 0, 3, 24, 9, 4, 13, 18, 10, 24], 1), ([13, 4, 0, 11, 4], 17), ([10, 0, 11, 1], 13), ([10, 0, 11, 0, 13, 3, 8, 13, 18, 10, 24], 1), ([1, 4, 4, 10], 9), ([12, 8, 7, 4, 11, 18], 1), ([0, 19, 19, 8, 0], 5), ([3, 14, 1, 11, 4], 17), ([5, 8, 18, 2, 7, 4, 17], 13), ([0, 12, 0, 17, 8], 5), ([2, 7, 20, 21, 0, 11, 3, 8, 13], 1), ([9, 0, 10, 20, 19, 10, 8, 13], 1), ([13, 8, 5, 19, 17, 8, 10], 9), ([21, 4, 18, 13, 8, 10], 1), ([3, 14, 1, 1, 8, 13], 17), ([2, 14, 19, 19, 17, 4, 11, 11], 17), ([11, 8, 10, 7, 14, 21], 1), ([22, 4, 4, 1, 4, 17], 13), ([6, 17, 8, 1, 14, 21, 18, 10, 24], 1), ([11, 4, 8, 21, 8, 12, 0, 13], 1), ([25, 7, 4, 12, 2, 7, 20, 9, 13, 8, 10, 14, 21], 1), ([0, 12, 0, 6, 0, 22, 0], 7), ([6, 17, 14, 25, 0], 1), ([1, 0, 18, 0, 17, 0], 5), ([7, 0, 18, 12, 8, 13, 18, 10, 24], 1), ([12, 0, 19, 18, 20, 12, 14, 19, 14], 7), ([1, 0, 17, 0, 10, 8, 13], 1), ([2, 7, 4, 17, 19, 14, 10], 1), ([15, 14, 3, 18, 4, 21, 0, 11, 14, 21], 1), ([21, 14, 17, 14, 19, 13, 8, 10, 14, 21], 1), ([21, 0, 17, 0, 10, 20, 19, 0], 1), ([10, 20, 0, 13, 6], 3), ([19, 20, 17, 8, 18, 2, 7, 4, 21], 1), ([0, 1, 17, 0, 12, 2, 7, 8, 10, 14, 5, 5], 1), ([18, 0, 11, 8, 1, 0], 5), ([15, 17, 8, 6, 14, 25, 7, 24], 1), ([25, 7, 12, 4, 11, 10, 14, 21], 1), ([10, 14, 6, 0, 17, 0], 7), ([11, 14, 25, 14, 21, 14, 24], 1), ([18, 19, 14, 2, 10, 4, 17], 17), ([17, 14, 14, 12, 4], 17), ([7, 8, 9, 13, 24, 0, 10], 1), ([4, 0, 11, 7, 0, 12], 17), ([9, 4, 11, 19, 20, 7, 8, 13], 1), ([17, 4, 1, 8, 13, 3, 4, 17], 1), ([12, 14, 9, 0, 8, 10, 8, 13], 1), ([18, 0, 17, 17, 0, 5], 5), ([6, 17, 0, 13, 8, 13], 1), ([20, 18, 0, 12, 8], 7), ([13, 0, 18, 18, 0, 17], 5), ([2, 4, 17, 12, 0, 10], 4), ([5, 20, 17, 11, 14, 13, 6], 17), ([12, 24, 0, 19, 19], 17), ([18, 4, 3, 12, 8, 10, 14, 21, 0], 4), ([8, 18, 0], 5), ([15, 24, 11, 4, 21], 1), ([11, 0, 22, 19, 14, 13], 17), ([21, 24, 11, 10, 14, 21], 1), ([1, 8, 11, 24, 0, 4, 21], 1), ([13, 0, 10, 0, 4], 7), ([0, 18, 18, 0, 5], 5), ([8, 18, 7, 8, 10, 0, 22, 0], 7), ([19, 20, 13, 13, 8, 10, 14, 21], 1), ([16, 20, 17, 0, 8, 18, 7, 8], 5), ([10, 0, 17, 0, 12, 14, 17, 8, 19, 0], 7), ([1, 0, 25, 24, 11, 4, 21], 1), ([9, 0, 6, 20, 19, 24, 0, 13], 1), ([10, 0, 1, 0, 8, 3, 25, 4], 1), ([9, 8, 6, 20, 11, 18, 10, 24], 1), ([2, 4, 0, 11, 11, 0, 2, 7, 0, 13], 12), ([13, 14, 1, 1, 18], 17), ([11, 8, 2, 7, 13, 14, 21], 1), ([11, 0, 20, 17, 4, 13, 19], 0), ([5, 4, 0, 17, 14, 13], 17), ([7, 14, 5, 12, 4, 8, 18, 19, 4, 17], 13), ([4, 21, 4, 17, 19], 1), ([24, 0, 10, 20, 1], 1), ([14, 22, 8, 13, 6, 18], 17), ([12, 14, 6, 8, 11, 13, 8, 2, 7, 4, 13, 10, 14], 1), ([10, 0, 17, 19, 20, 18, 7, 8, 13], 1), ([19, 25, 4, 1, 14, 4, 21], 1), ([19, 2, 7, 0, 25, 14, 21], 1), ([5, 8, 19, 25, 15, 0, 19, 17, 8, 2, 10], 17), ([11, 24, 25, 11, 14, 21], 1), ([19, 4, 13, 13, 0, 13, 19], 17), ([22, 8, 17, 19], 13), ([12, 0, 6, 0, 11, 7, 0, 4, 18], 16), ([6, 4, 17, 0, 18, 8, 12, 14, 21], 1), ([1, 0, 11, 0, 1, 0, 4, 21], 1), ([17, 24, 25, 7, 24], 1), ([22, 0, 2, 11, 0, 20, 18, 10, 0], 4), ([1, 14, 17, 2, 7, 0, 17, 3], 13), ([1, 14, 19, 17, 14, 18], 5), ([17, 8, 2, 7, 0, 17, 3], 9), ([15, 14, 17, 19, 24, 0, 13, 10, 8, 13], 1), ([19, 4, 11, 11, 8, 18], 17), ([21, 14, 25, 12, 8, 19, 4, 11], 1), ([0, 21, 4, 17, 24, 0, 13, 14, 21], 1), ([12, 2, 2, 0, 11, 11], 17), ([4, 6, 8, 3, 4, 18], 1), ([17, 24, 9, 8, 10, 14, 21], 1), ([6, 0, 17, 14, 5, 0, 11, 8, 18], 10), ([2, 7, 20, 10, 7, 17, 0, 4, 21], 1), ([12, 0, 17, 19, 8, 17, 14, 18, 14, 21], 1), ([11, 0, 22, 0, 11], 17), ([11, 0, 3, 24, 9, 4, 19, 18], 1), ([9, 8, 17, 10, 4, 21, 8, 2, 7], 1), ([24, 20, 25, 7, 0, 10, 14, 21], 1), ([24, 0, 13, 25, 8, 13, 14, 21], 1), ([7, 0, 8, 10], 5), ([12, 0, 11, 14, 20, 5], 5), ([12, 14, 17, 9, 8, 19, 18, 10, 24], 1), ([24, 0, 12, 1, 20, 17, 6], 1), ([10, 0, 13, 0, 0, 13], 5), ([7, 20, 13, 19, 4, 17], 2), ([4, 11, 0, 13, 8, 13], 1), ([25, 8, 13, 4, 21, 8, 2, 7], 1), ([13, 20, 17, 8, 18, 11, 0, 12, 14, 21], 1), ([21, 24, 18, 7, 4, 18, 11, 0, 21, 19, 18, 4, 21], 1), ([19, 14, 18, 4, 11, 11], 11), ([24, 0, 2, 7, 12, 4, 13, 4, 21], 1), ([11, 4, 19, 18, 14, 18], 10), ([22, 4, 19, 19, 4, 17, 12, 0, 13], 13), ([25, 7, 4, 11, 4, 25, 14, 21], 1), ([11, 14, 10, 7, 0, 13, 14, 21], 1), ([17, 0, 8, 13, 14, 21], 1), ([19, 0, 10, 0, 6, 8], 7), ([0, 18, 19, 17, 0, 10, 7, 0, 13, 10, 8, 13], 1), ([0, 6, 0, 17, 8, 13], 1), ([10, 17, 0, 20, 18, 4], 13), ([4, 18, 15, 8, 13, 14, 25, 0], 11), ([12, 17, 0, 21, 8, 13, 18, 10, 24], 1), ([0, 3, 4, 11, 5, 8, 13, 18, 10, 8], 1), ([7, 20, 12, 12, 4, 11], 13), ([4, 19, 18, 20, 10, 14], 7), ([7, 20, 13, 19, 4, 17], 17), ([25, 14, 6, 1, 24], 5), ([17, 0, 10, 7, 12, 0, 13, 8, 13, 14, 21], 1), ([1, 8, 18, 7, 0, 17, 0], 5), ([7, 0, 11, 4, 15, 18, 10, 24], 1), ([21, 24, 17, 20, 1, 14, 21], 1), ([5, 0, 17, 6, 4], 17), ([9, 20, 12, 4, 13, 10, 14], 1), ([17, 7, 24, 18], 17), ([1, 14, 4, 17, 8, 14], 14), ([17, 20, 18, 11, 0, 13, 14, 21], 1), ([7, 20, 0, 9, 4, 21], 1), ([1, 0, 10, 8, 19, 18, 10, 24], 1), ([21, 8, 13, 4, 18], 17), ([12, 2, 2, 0, 13, 13], 17), ([3, 20, 1, 8, 19, 18, 10, 24], 1), ([6, 14, 11, 14, 18, 2, 7, 4, 10, 8, 13], 1), ([8, 18, 13, 0, 17, 3], 17), ([11, 20, 19, 7, 4, 17], 13), ([0, 1, 1, 14, 20, 3], 5), ([6, 11, 20, 7, 14, 13, 10, 14, 21], 1), ([7, 20, 3, 24, 0, 10, 14, 21], 1), ([5, 0, 24, 4], 17), ([8, 18, 10, 0, 13, 3, 0, 17, 14, 21], 1), ([17, 8, 3, 6, 4], 17), ([17, 24, 20, 18, 0, 10, 8], 7), ([6, 4, 14, 17, 6, 4, 0, 10, 14, 15, 14, 20, 11, 14, 18], 10), ([12, 14, 14, 3, 24], 17), ([19, 17, 14, 8, 13, 8, 19, 18, 10, 24], 1), ([5, 14, 18, 19, 14, 13], 17), ([1, 0, 3, 24, 8, 13], 1), ([3, 20, 13, 2, 0, 13], 17), ([21, 4, 17, 1, 4, 13, 10, 14], 1), ([9, 4, 18, 19, 14, 21, 18, 10, 24], 1), ([12, 0, 10, 18, 8, 12, 24, 20, 10], 1), ([1, 0, 18, 0, 17, 0], 5), ([12, 0, 17, 18, 7, 0, 11, 11], 2), ([19, 20, 11, 4, 1, 0, 4, 21], 1), ([7, 0, 3, 0, 3], 5), ([18, 0, 13, 2, 7, 4, 25], 17), ([2, 17, 8, 15, 15, 18], 17), ([15, 4, 17, 17, 8, 13, 18], 17), ([3, 0, 21, 8, 3, 2, 7, 20, 10], 1), ([0, 1, 4, 11, 4, 21], 1), ([19, 14, 22, 4, 11, 11], 17), ([1, 14, 20, 11, 14, 18], 5), ([24, 0, 6, 4, 11, 11, 14], 1), ([3, 9, 0, 7, 0, 24, 0], 1), ([13, 0, 17, 3, 14, 21, 8, 13, 14], 14), ([0, 11, 3, 17, 4, 13], 17), ([3, 14, 11, 9, 18], 4), ([4, 18, 12, 0, 13, 18, 10, 24], 1), ([11, 0, 15, 8, 19, 18, 10, 24], 1), ([12, 8, 13, 18, 10, 14, 8], 1), ([25, 7, 4, 8, 12, 14], 1), ([10, 0, 13, 0, 0, 13], 5), ([21, 0, 13, 10, 14, 21], 1), ([0, 6, 11, 8, 13, 18, 10, 0, 18], 1), ([5, 17, 14, 13, 19, 14, 21], 1), ([21, 0, 11, 19, 18], 1), ([0, 18, 6, 7, 0, 17], 5)]\n"
     ]
    }
   ],
   "source": [
    "dataset = namesDataset(names_dir_path)"
   ]
  },
  {
   "cell_type": "code",
   "execution_count": 199,
   "id": "702db8bd",
   "metadata": {},
   "outputs": [],
   "source": [
    "train_loader = DataLoader(dataset, shuffle=False, batch_size=32)\n",
    "test_loader = DataLoader(dataset, shuffle=True, batch_size=16)"
   ]
  },
  {
   "cell_type": "code",
   "execution_count": 200,
   "id": "9a55624c",
   "metadata": {},
   "outputs": [
    {
     "data": {
      "text/plain": [
       "'abcdefghijklmnopqrstuvwxyz'"
      ]
     },
     "execution_count": 200,
     "metadata": {},
     "output_type": "execute_result"
    }
   ],
   "source": [
    "string.ascii_lowercase"
   ]
  },
  {
   "cell_type": "code",
   "execution_count": 201,
   "id": "ffe0ec32",
   "metadata": {},
   "outputs": [
    {
     "data": {
      "text/plain": [
       "'jarman'"
      ]
     },
     "execution_count": 201,
     "metadata": {},
     "output_type": "execute_result"
    }
   ],
   "source": [
    "name = [9, 0, 17, 12, 0, 13]\n",
    "\n",
    "dct = {}\n",
    "dct_ = dataset.char_to_index\n",
    "for i in dct_:\n",
    "    dct[dct_[i]] = i\n",
    "\n",
    "\"\".join([dct[i] for i in name])"
   ]
  },
  {
   "cell_type": "code",
   "execution_count": 202,
   "id": "e94c84cb",
   "metadata": {},
   "outputs": [
    {
     "data": {
      "text/plain": [
       "{0: 'French',\n",
       " 1: 'Russian',\n",
       " 2: 'Scottish',\n",
       " 3: 'Chinese',\n",
       " 4: 'Czech',\n",
       " 5: 'Arabic',\n",
       " 6: 'Korean',\n",
       " 7: 'Japanese',\n",
       " 8: 'Vietnamese',\n",
       " 9: 'Dutch',\n",
       " 10: 'Greek',\n",
       " 11: 'Spanish',\n",
       " 12: 'Irish',\n",
       " 13: 'German',\n",
       " 14: 'Italian',\n",
       " 15: 'Polish',\n",
       " 16: 'Portuguese',\n",
       " 17: 'English'}"
      ]
     },
     "execution_count": 202,
     "metadata": {},
     "output_type": "execute_result"
    }
   ],
   "source": [
    "dataset.labelToLang"
   ]
  },
  {
   "cell_type": "code",
   "execution_count": 203,
   "id": "adb35dfb",
   "metadata": {},
   "outputs": [
    {
     "data": {
      "text/plain": [
       "(26, 18)"
      ]
     },
     "execution_count": 203,
     "metadata": {},
     "output_type": "execute_result"
    }
   ],
   "source": [
    "n_characters = dataset.n_characters\n",
    "n_languages = len(dataset.labelToLang)\n",
    "\n",
    "n_characters, n_languages"
   ]
  },
  {
   "cell_type": "code",
   "execution_count": 204,
   "id": "cd507633",
   "metadata": {},
   "outputs": [],
   "source": [
    "class LanguageModel(nn.Module):\n",
    "    def __init__(self, n_characters=n_characters, n_languages=n_languages, hidden_size=5):\n",
    "        super(LanguageModel, self).__init__()\n",
    "        self.embedding = nn.Embedding(n_characters, hidden_size)\n",
    "        self.rnn = nn.RNN(input_size=1, hidden_size=hidden_size, num_layers=5, batch_first=True)\n",
    "        self.fc = nn.Linear(hidden_size, n_languages)\n",
    "\n",
    "    def forward(self, x):\n",
    "        # x = self.embedding(x)  # [batch_size, seq_len, hidden_size]\n",
    "        out, _ = self.rnn(x)  # Get the RNN output\n",
    "        # print(out.size(), out)\n",
    "        out = out[:, -1, :]  # Take the output of the last time step\n",
    "        # print(out.size(), out)\n",
    "        out = self.fc(out)  # Final linear layer for classification\n",
    "        return out"
   ]
  },
  {
   "cell_type": "code",
   "execution_count": 205,
   "id": "489cc230",
   "metadata": {},
   "outputs": [],
   "source": [
    "# Initialize the model, loss function, and optimizer\n",
    "\n",
    "learning_rate = 1e-2\n",
    "\n",
    "model = LanguageModel(n_characters=n_characters, n_languages=n_languages).to(device)\n",
    "criterion = nn.CrossEntropyLoss()\n",
    "optimizer = optim.Adam(model.parameters(), lr=learning_rate)"
   ]
  },
  {
   "cell_type": "code",
   "execution_count": 206,
   "id": "6ea7a4d9",
   "metadata": {},
   "outputs": [
    {
     "name": "stdout",
     "output_type": "stream",
     "text": [
      "Epoch [1/10], Loss: 1.8757, Accuracy: 46.80%\n",
      "Epoch [2/10], Loss: 1.8524, Accuracy: 46.80%\n",
      "Epoch [3/10], Loss: 1.8525, Accuracy: 46.80%\n",
      "Epoch [4/10], Loss: 1.8525, Accuracy: 46.80%\n",
      "Epoch [5/10], Loss: 1.8525, Accuracy: 46.80%\n",
      "Epoch [6/10], Loss: 1.8526, Accuracy: 46.80%\n",
      "Epoch [7/10], Loss: 1.8526, Accuracy: 46.80%\n",
      "Epoch [8/10], Loss: 1.8525, Accuracy: 46.80%\n",
      "Epoch [9/10], Loss: 1.8525, Accuracy: 46.80%\n",
      "Epoch [10/10], Loss: 1.8522, Accuracy: 46.80%\n"
     ]
    }
   ],
   "source": [
    "# Training loop\n",
    "dataset.train = True\n",
    "num_epochs = 10\n",
    "\n",
    "for epoch in range(num_epochs):\n",
    "    model.train()\n",
    "    running_loss = 0.0\n",
    "    correct = 0\n",
    "    total = 0\n",
    "    \n",
    "    for names, labels in train_loader:\n",
    "        # Zero gradients\n",
    "        optimizer.zero_grad()\n",
    "        \n",
    "        names = names.unsqueeze(2)\n",
    "        # labels = labels.unsqueeze(0)\n",
    "        \n",
    "        # Forward pass\n",
    "        outputs = model(names)\n",
    "        \n",
    "        # print(labels.size(), outputs.size())\n",
    "        # outputs = nn.functional.softmax(outputs, dim=1)\n",
    "        \n",
    "        # Compute loss\n",
    "        loss = criterion(outputs, labels)\n",
    "        running_loss += loss.item()\n",
    "        \n",
    "        # Backward pass and optimization\n",
    "        loss.backward()\n",
    "        optimizer.step()\n",
    "        \n",
    "        # Track accuracy\n",
    "        _, predicted = torch.max(y_pred, 1)\n",
    "        total += labels.size(0)\n",
    "        correct += (predicted == labels).sum().item()\n",
    "        \n",
    "        # print(predicted, labels)\n",
    "    \n",
    "    epoch_loss = running_loss / len(train_loader)\n",
    "    accuracy = correct / total * 100\n",
    "    print(f\"Epoch [{epoch+1}/{num_epochs}], Loss: {epoch_loss:.4f}, Accuracy: {accuracy:.2f}%\")"
   ]
  },
  {
   "cell_type": "code",
   "execution_count": 208,
   "id": "b2cf9b5d",
   "metadata": {},
   "outputs": [
    {
     "name": "stdout",
     "output_type": "stream",
     "text": [
      "Validation Accuracy: 47.51%\n"
     ]
    }
   ],
   "source": [
    "dataset.train = False\n",
    "\n",
    "model.eval()\n",
    "correct = 0\n",
    "total = 0\n",
    "\n",
    "with torch.no_grad():\n",
    "    for names, labels in test_loader:\n",
    "        names = names.unsqueeze(2)\n",
    "        outputs = model(names)\n",
    "        _, predicted = torch.max(outputs, 1)\n",
    "        total += labels.size(0)\n",
    "        correct += (predicted == labels).sum().item()\n",
    "\n",
    "accuracy = correct / total * 100\n",
    "print(f\"Validation Accuracy: {accuracy:.2f}%\")"
   ]
  },
  {
   "cell_type": "code",
   "execution_count": 214,
   "id": "c4442d18",
   "metadata": {},
   "outputs": [
    {
     "name": "stdout",
     "output_type": "stream",
     "text": [
      "Actual: English\n",
      "Predicted: Russian\n",
      "\n",
      "Actual: Arabic\n",
      "Predicted: Russian\n",
      "\n",
      "Actual: English\n",
      "Predicted: Russian\n",
      "\n",
      "Actual: Russian\n",
      "Predicted: Russian\n",
      "\n",
      "Actual: Russian\n",
      "Predicted: Russian\n",
      "\n",
      "Actual: Russian\n",
      "Predicted: Russian\n",
      "\n",
      "Actual: Russian\n",
      "Predicted: Russian\n",
      "\n",
      "Actual: Chinese\n",
      "Predicted: Russian\n",
      "\n",
      "Actual: Russian\n",
      "Predicted: Russian\n",
      "\n",
      "Actual: Russian\n",
      "Predicted: Russian\n",
      "\n",
      "Actual: Russian\n",
      "Predicted: Russian\n",
      "\n",
      "Actual: Arabic\n",
      "Predicted: Russian\n",
      "\n",
      "Actual: Russian\n",
      "Predicted: Russian\n",
      "\n",
      "Actual: Japanese\n",
      "Predicted: Russian\n",
      "\n",
      "Actual: Russian\n",
      "Predicted: Russian\n",
      "\n",
      "Actual: English\n",
      "Predicted: Russian\n",
      "\n",
      "Actual: Italian\n",
      "Predicted: Russian\n",
      "\n",
      "Actual: English\n",
      "Predicted: Russian\n",
      "\n",
      "Actual: Arabic\n",
      "Predicted: Russian\n",
      "\n",
      "Actual: Spanish\n",
      "Predicted: Russian\n",
      "\n",
      "Actual: Italian\n",
      "Predicted: Russian\n",
      "\n",
      "Actual: Italian\n",
      "Predicted: Russian\n",
      "\n",
      "Actual: Dutch\n",
      "Predicted: Russian\n",
      "\n",
      "Actual: Italian\n",
      "Predicted: Russian\n",
      "\n",
      "Actual: Russian\n",
      "Predicted: Russian\n",
      "\n",
      "Actual: Russian\n",
      "Predicted: Russian\n",
      "\n",
      "Actual: Russian\n",
      "Predicted: Russian\n",
      "\n",
      "Actual: Arabic\n",
      "Predicted: Russian\n",
      "\n",
      "Actual: Italian\n",
      "Predicted: Russian\n",
      "\n",
      "Actual: Russian\n",
      "Predicted: Russian\n",
      "\n",
      "Actual: Russian\n",
      "Predicted: Russian\n",
      "\n",
      "Actual: English\n",
      "Predicted: Russian\n",
      "\n",
      "Actual: Russian\n",
      "Predicted: Russian\n",
      "\n",
      "Actual: English\n",
      "Predicted: Russian\n",
      "\n",
      "Actual: Russian\n",
      "Predicted: Russian\n",
      "\n",
      "Actual: Russian\n",
      "Predicted: Russian\n",
      "\n",
      "Actual: Russian\n",
      "Predicted: Russian\n",
      "\n",
      "Actual: Russian\n",
      "Predicted: Russian\n",
      "\n",
      "Actual: Russian\n",
      "Predicted: Russian\n",
      "\n",
      "Actual: Russian\n",
      "Predicted: Russian\n",
      "\n",
      "Actual: Russian\n",
      "Predicted: Russian\n",
      "\n",
      "Actual: English\n",
      "Predicted: Russian\n",
      "\n",
      "Actual: Russian\n",
      "Predicted: Russian\n",
      "\n",
      "Actual: Russian\n",
      "Predicted: Russian\n",
      "\n",
      "Actual: Arabic\n",
      "Predicted: Russian\n",
      "\n",
      "Actual: English\n",
      "Predicted: Russian\n",
      "\n",
      "Actual: English\n",
      "Predicted: Russian\n",
      "\n",
      "Actual: English\n",
      "Predicted: Russian\n",
      "\n",
      "Actual: Arabic\n",
      "Predicted: Russian\n",
      "\n",
      "Actual: Russian\n",
      "Predicted: Russian\n",
      "\n"
     ]
    }
   ],
   "source": [
    "with torch.no_grad():\n",
    "    for i in range(50):\n",
    "        name, label = dataset[i]\n",
    "        name, label = torch.unsqueeze(name, 0), torch.unsqueeze(label, 0)\n",
    "        name = name.unsqueeze(2)\n",
    "        #print(name, label)\n",
    "        outputs = model(name)\n",
    "        _, predicted = torch.max(outputs, 1)\n",
    "        # print(predicted)\n",
    "\n",
    "        print(\"Actual:\", dataset.labelToLang[label.detach().cpu().item()])\n",
    "        print(\"Predicted:\", dataset.labelToLang[predicted.detach().cpu().item()])\n",
    "        print()"
   ]
  },
  {
   "cell_type": "markdown",
   "id": "153a2ce2",
   "metadata": {},
   "source": [
    "## Question - 3"
   ]
  },
  {
   "cell_type": "code",
   "execution_count": 218,
   "id": "48393c1d",
   "metadata": {},
   "outputs": [
    {
     "name": "stdout",
     "output_type": "stream",
     "text": [
      "Epoch [10/100], Loss: 2.8010\n",
      "Epoch [20/100], Loss: 2.6842\n",
      "Epoch [30/100], Loss: 2.5588\n",
      "Epoch [40/100], Loss: 2.2465\n",
      "Epoch [50/100], Loss: 1.6524\n",
      "Epoch [60/100], Loss: 1.0660\n",
      "Epoch [70/100], Loss: 0.6249\n",
      "Epoch [80/100], Loss: 0.3383\n",
      "Epoch [90/100], Loss: 0.1764\n",
      "Epoch [100/100], Loss: 0.0979\n",
      "Input text: \"Hello, this is a \" -> Predicted next character: \"s\"\n"
     ]
    }
   ],
   "source": [
    "import torch\n",
    "import torch.nn as nn\n",
    "import torch.optim as optim\n",
    "import numpy as np\n",
    "import string\n",
    "\n",
    "# Step 1: Prepare the data\n",
    "text = \"Hello, this is a simple next character predictor. Try it out!\"\n",
    "\n",
    "# Create a set of all unique characters in the text\n",
    "chars = sorted(set(text))\n",
    "vocab_size = len(chars)\n",
    "char_to_index = {ch: i for i, ch in enumerate(chars)}\n",
    "index_to_char = {i: ch for i, ch in enumerate(chars)}\n",
    "\n",
    "# Convert the text into numerical indices\n",
    "encoded_text = [char_to_index[ch] for ch in text]\n",
    "\n",
    "# Define sequence length (how many characters to look back to predict the next)\n",
    "sequence_length = 10\n",
    "\n",
    "# Prepare input-output pairs for training (X, y)\n",
    "X = []\n",
    "y = []\n",
    "\n",
    "for i in range(len(encoded_text) - sequence_length):\n",
    "    X.append(encoded_text[i:i + sequence_length])\n",
    "    y.append(encoded_text[i + sequence_length])\n",
    "\n",
    "X = torch.tensor(X)\n",
    "y = torch.tensor(y)\n",
    "\n",
    "# Step 2: Define the RNN model\n",
    "class NextCharacterRNN(nn.Module):\n",
    "    def __init__(self, input_size, hidden_size, output_size):\n",
    "        super(NextCharacterRNN, self).__init__()\n",
    "        self.hidden_size = hidden_size\n",
    "        self.rnn = nn.RNN(input_size, hidden_size, batch_first=True)\n",
    "        self.fc = nn.Linear(hidden_size, output_size)\n",
    "    \n",
    "    def forward(self, x):\n",
    "        # Initialize hidden state\n",
    "        h0 = torch.zeros(1, x.size(0), self.hidden_size).to(x.device)\n",
    "        \n",
    "        # Pass input through RNN layer\n",
    "        out, hn = self.rnn(x, h0)\n",
    "        \n",
    "        # Get the output from the last time step\n",
    "        out = self.fc(out[:, -1, :])\n",
    "        \n",
    "        return out\n",
    "\n",
    "# Hyperparameters\n",
    "input_size = vocab_size  # One-hot encoding of each character\n",
    "hidden_size = 128  # Number of RNN hidden units\n",
    "output_size = vocab_size  # Predict next character\n",
    "learning_rate = 0.001\n",
    "epochs = 100\n",
    "\n",
    "# Model initialization\n",
    "model = NextCharacterRNN(input_size, hidden_size, output_size)\n",
    "\n",
    "# Loss and optimizer\n",
    "criterion = nn.CrossEntropyLoss()\n",
    "optimizer = optim.Adam(model.parameters(), lr=learning_rate)\n",
    "\n",
    "# Step 3: Train the model\n",
    "# Convert input sequences to one-hot encoding\n",
    "X_onehot = torch.zeros(X.size(0), X.size(1), vocab_size)\n",
    "\n",
    "for i in range(X.size(0)):\n",
    "    for j in range(X.size(1)):\n",
    "        X_onehot[i, j, X[i, j]] = 1\n",
    "\n",
    "# Training loop\n",
    "for epoch in range(epochs):\n",
    "    model.train()\n",
    "    \n",
    "    # Forward pass\n",
    "    outputs = model(X_onehot)\n",
    "    \n",
    "    # Compute loss\n",
    "    loss = criterion(outputs, y)\n",
    "    \n",
    "    # Backpropagation\n",
    "    optimizer.zero_grad()\n",
    "    loss.backward()\n",
    "    optimizer.step()\n",
    "\n",
    "    if (epoch + 1) % 10 == 0:\n",
    "        print(f'Epoch [{epoch+1}/{epochs}], Loss: {loss.item():.4f}')\n",
    "\n",
    "# Step 4: Predict next character\n",
    "def predict_next_char(model, input_text, char_to_index, index_to_char, sequence_length=10):\n",
    "    model.eval()\n",
    "\n",
    "    # Prepare the input sequence\n",
    "    input_indices = [char_to_index[ch] for ch in input_text[-sequence_length:]]\n",
    "    input_tensor = torch.zeros(1, sequence_length, vocab_size)\n",
    "\n",
    "    for i in range(sequence_length):\n",
    "        input_tensor[0, i, input_indices[i]] = 1\n",
    "\n",
    "    # Make prediction\n",
    "    with torch.no_grad():\n",
    "        output = model(input_tensor)\n",
    "        predicted_index = torch.argmax(output, dim=1).item()\n",
    "    \n",
    "    return index_to_char[predicted_index]\n",
    "\n",
    "# Test the model with a sequence of characters\n",
    "input_text = \"Hello, this is a \"\n",
    "predicted_char = predict_next_char(model, input_text, char_to_index, index_to_char)\n",
    "print(f'Input text: \"{input_text}\" -> Predicted next character: \"{predicted_char}\"')\n"
   ]
  },
  {
   "cell_type": "code",
   "execution_count": 221,
   "id": "cdbcf80a",
   "metadata": {},
   "outputs": [
    {
     "name": "stdout",
     "output_type": "stream",
     "text": [
      "Input text: \"Hello, this is a \" -> Predicted next character: \"s\"\n",
      "Input text: \"Hello, this is a s\" -> Predicted next character: \"i\"\n",
      "Input text: \"Hello, this is a si\" -> Predicted next character: \"m\"\n",
      "Input text: \"Hello, this is a sim\" -> Predicted next character: \"p\"\n",
      "Input text: \"Hello, this is a simp\" -> Predicted next character: \"l\"\n",
      "Input text: \"Hello, this is a simpl\" -> Predicted next character: \"e\"\n",
      "Input text: \"Hello, this is a simple\" -> Predicted next character: \" \"\n",
      "Input text: \"Hello, this is a simple \" -> Predicted next character: \"n\"\n",
      "Input text: \"Hello, this is a simple n\" -> Predicted next character: \"e\"\n",
      "Input text: \"Hello, this is a simple ne\" -> Predicted next character: \"x\"\n",
      "Input text: \"Hello, this is a simple nex\" -> Predicted next character: \"t\"\n",
      "Input text: \"Hello, this is a simple next\" -> Predicted next character: \" \"\n",
      "Input text: \"Hello, this is a simple next \" -> Predicted next character: \"c\"\n",
      "Input text: \"Hello, this is a simple next c\" -> Predicted next character: \"h\"\n",
      "Input text: \"Hello, this is a simple next ch\" -> Predicted next character: \"a\"\n",
      "Input text: \"Hello, this is a simple next cha\" -> Predicted next character: \"r\"\n",
      "Input text: \"Hello, this is a simple next char\" -> Predicted next character: \"a\"\n",
      "Input text: \"Hello, this is a simple next chara\" -> Predicted next character: \"c\"\n",
      "Input text: \"Hello, this is a simple next charac\" -> Predicted next character: \"t\"\n",
      "Input text: \"Hello, this is a simple next charact\" -> Predicted next character: \"e\"\n",
      "Input text: \"Hello, this is a simple next characte\" -> Predicted next character: \"r\"\n",
      "Input text: \"Hello, this is a simple next character\" -> Predicted next character: \" \"\n",
      "Input text: \"Hello, this is a simple next character \" -> Predicted next character: \"p\"\n",
      "Input text: \"Hello, this is a simple next character p\" -> Predicted next character: \"r\"\n",
      "Input text: \"Hello, this is a simple next character pr\" -> Predicted next character: \"e\"\n",
      "Input text: \"Hello, this is a simple next character pre\" -> Predicted next character: \"d\"\n",
      "Input text: \"Hello, this is a simple next character pred\" -> Predicted next character: \"i\"\n",
      "Input text: \"Hello, this is a simple next character predi\" -> Predicted next character: \"c\"\n",
      "Input text: \"Hello, this is a simple next character predic\" -> Predicted next character: \"t\"\n",
      "Input text: \"Hello, this is a simple next character predict\" -> Predicted next character: \"o\"\n",
      "Input text: \"Hello, this is a simple next character predicto\" -> Predicted next character: \"r\"\n",
      "Input text: \"Hello, this is a simple next character predictor\" -> Predicted next character: \".\"\n",
      "Input text: \"Hello, this is a simple next character predictor.\" -> Predicted next character: \" \"\n",
      "Input text: \"Hello, this is a simple next character predictor. \" -> Predicted next character: \"T\"\n",
      "Input text: \"Hello, this is a simple next character predictor. T\" -> Predicted next character: \"r\"\n",
      "Input text: \"Hello, this is a simple next character predictor. Tr\" -> Predicted next character: \"y\"\n",
      "Input text: \"Hello, this is a simple next character predictor. Try\" -> Predicted next character: \" \"\n",
      "Input text: \"Hello, this is a simple next character predictor. Try \" -> Predicted next character: \"i\"\n",
      "Input text: \"Hello, this is a simple next character predictor. Try i\" -> Predicted next character: \"t\"\n",
      "Input text: \"Hello, this is a simple next character predictor. Try it\" -> Predicted next character: \" \"\n",
      "Input text: \"Hello, this is a simple next character predictor. Try it \" -> Predicted next character: \"o\"\n",
      "Input text: \"Hello, this is a simple next character predictor. Try it o\" -> Predicted next character: \"u\"\n",
      "Input text: \"Hello, this is a simple next character predictor. Try it ou\" -> Predicted next character: \"t\"\n",
      "Input text: \"Hello, this is a simple next character predictor. Try it out\" -> Predicted next character: \"!\"\n",
      "Input text: \"Hello, this is a simple next character predictor. Try it out!\" -> Predicted next character: \"a\"\n",
      "Input text: \"Hello, this is a simple next character predictor. Try it out!a\" -> Predicted next character: \"c\"\n",
      "Input text: \"Hello, this is a simple next character predictor. Try it out!ac\" -> Predicted next character: \"t\"\n",
      "Input text: \"Hello, this is a simple next character predictor. Try it out!act\" -> Predicted next character: \"e\"\n",
      "Input text: \"Hello, this is a simple next character predictor. Try it out!acte\" -> Predicted next character: \"r\"\n",
      "Input text: \"Hello, this is a simple next character predictor. Try it out!acter\" -> Predicted next character: \" \"\n"
     ]
    }
   ],
   "source": [
    "# Test the model with a sequence of characters\n",
    "input_text = \"Hello, this is a \"\n",
    "\n",
    "for i in range(50):\n",
    "    predicted_char = predict_next_char(model, input_text, char_to_index, index_to_char)\n",
    "    print(f'Input text: \"{input_text}\" -> Predicted next character: \"{predicted_char}\"')\n",
    "    input_text += predicted_char"
   ]
  },
  {
   "cell_type": "code",
   "execution_count": null,
   "id": "3629a0c5",
   "metadata": {},
   "outputs": [],
   "source": []
  }
 ],
 "metadata": {
  "kernelspec": {
   "display_name": "Python (dl_env)",
   "language": "python",
   "name": "dl_env"
  },
  "language_info": {
   "codemirror_mode": {
    "name": "ipython",
    "version": 3
   },
   "file_extension": ".py",
   "mimetype": "text/x-python",
   "name": "python",
   "nbconvert_exporter": "python",
   "pygments_lexer": "ipython3",
   "version": "3.12.3"
  }
 },
 "nbformat": 4,
 "nbformat_minor": 5
}
