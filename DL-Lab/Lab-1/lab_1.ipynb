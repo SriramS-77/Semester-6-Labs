{
 "cells": [
  {
   "cell_type": "code",
   "execution_count": 2,
   "id": "e72416d4",
   "metadata": {},
   "outputs": [
    {
     "name": "stdout",
     "output_type": "stream",
     "text": [
      "Python 3.12.3\r\n"
     ]
    }
   ],
   "source": [
    "!python3 -V"
   ]
  },
  {
   "cell_type": "code",
   "execution_count": 4,
   "id": "46d9b5e5",
   "metadata": {},
   "outputs": [],
   "source": [
    "!python3 -m venv ./env"
   ]
  },
  {
   "cell_type": "code",
   "execution_count": 9,
   "id": "acb19b0c",
   "metadata": {},
   "outputs": [
    {
     "name": "stdout",
     "output_type": "stream",
     "text": [
      "/bin/sh: 1: source: not found\r\n"
     ]
    }
   ],
   "source": [
    "!source ../env/bin/activate"
   ]
  },
  {
   "cell_type": "markdown",
   "id": "9d24f1d0",
   "metadata": {},
   "source": [
    "## Practice"
   ]
  },
  {
   "cell_type": "code",
   "execution_count": 1,
   "id": "be2b3bac",
   "metadata": {},
   "outputs": [],
   "source": [
    "import torch\n",
    "import torchvision\n",
    "import torchaudio"
   ]
  },
  {
   "cell_type": "code",
   "execution_count": 5,
   "id": "20fb9572",
   "metadata": {},
   "outputs": [
    {
     "data": {
      "text/plain": [
       "'2.5.1+cu124'"
      ]
     },
     "execution_count": 5,
     "metadata": {},
     "output_type": "execute_result"
    }
   ],
   "source": [
    "torch.__version__"
   ]
  },
  {
   "cell_type": "code",
   "execution_count": 4,
   "id": "37079da1",
   "metadata": {},
   "outputs": [
    {
     "data": {
      "text/plain": [
       "7"
      ]
     },
     "execution_count": 4,
     "metadata": {},
     "output_type": "execute_result"
    }
   ],
   "source": [
    "scalar = torch.tensor(7)\n",
    "scalar.item()"
   ]
  },
  {
   "cell_type": "code",
   "execution_count": 6,
   "id": "268b7dba",
   "metadata": {},
   "outputs": [
    {
     "data": {
      "text/plain": [
       "torch.Size([])"
      ]
     },
     "execution_count": 6,
     "metadata": {},
     "output_type": "execute_result"
    }
   ],
   "source": [
    "scalar.shape"
   ]
  },
  {
   "cell_type": "code",
   "execution_count": 7,
   "id": "ce0f19bc",
   "metadata": {},
   "outputs": [
    {
     "data": {
      "text/plain": [
       "0"
      ]
     },
     "execution_count": 7,
     "metadata": {},
     "output_type": "execute_result"
    }
   ],
   "source": [
    "scalar.ndim"
   ]
  },
  {
   "cell_type": "code",
   "execution_count": 13,
   "id": "00c061ca",
   "metadata": {},
   "outputs": [
    {
     "data": {
      "text/plain": [
       "2"
      ]
     },
     "execution_count": 13,
     "metadata": {},
     "output_type": "execute_result"
    }
   ],
   "source": [
    "s = torch.tensor([2])\n",
    "s.item()"
   ]
  },
  {
   "cell_type": "code",
   "execution_count": 14,
   "id": "cdd84dd8",
   "metadata": {},
   "outputs": [
    {
     "data": {
      "text/plain": [
       "tensor([[0.4063, 0.6300, 0.3166, 0.2628],\n",
       "        [0.2206, 0.5456, 0.9109, 0.5065],\n",
       "        [0.6960, 0.9453, 0.2638, 0.5156]])"
      ]
     },
     "execution_count": 14,
     "metadata": {},
     "output_type": "execute_result"
    }
   ],
   "source": [
    "rand = torch.rand((3, 4))\n",
    "rand"
   ]
  },
  {
   "cell_type": "code",
   "execution_count": 17,
   "id": "ca36f295",
   "metadata": {},
   "outputs": [
    {
     "name": "stdout",
     "output_type": "stream",
     "text": [
      "1\n",
      "True\n"
     ]
    },
    {
     "data": {
      "text/plain": [
       "'cuda'"
      ]
     },
     "execution_count": 17,
     "metadata": {},
     "output_type": "execute_result"
    }
   ],
   "source": [
    "print(torch.cuda.device_count())\n",
    "print(torch.cuda.is_available())\n",
    "device = 'cuda' if torch.cuda.is_available() else 'cpu'\n",
    "device"
   ]
  },
  {
   "cell_type": "code",
   "execution_count": 18,
   "id": "8b1f1493",
   "metadata": {},
   "outputs": [
    {
     "name": "stdout",
     "output_type": "stream",
     "text": [
      "tensor([[1, 2],\n",
      "        [3, 4]]) cpu\n",
      "tensor([[1, 2],\n",
      "        [3, 4]], device='cuda:0') cuda:0\n"
     ]
    }
   ],
   "source": [
    "tensor = torch.tensor([[1, 2],\n",
    "                       [3, 4]])\n",
    "print(tensor, tensor.device)\n",
    "\n",
    "tensor = tensor.to(device)\n",
    "print(tensor, tensor.device)"
   ]
  },
  {
   "cell_type": "code",
   "execution_count": 19,
   "id": "b13fdb76",
   "metadata": {},
   "outputs": [
    {
     "ename": "TypeError",
     "evalue": "can't convert cuda:0 device type tensor to numpy. Use Tensor.cpu() to copy the tensor to host memory first.",
     "output_type": "error",
     "traceback": [
      "\u001b[0;31m---------------------------------------------------------------------------\u001b[0m",
      "\u001b[0;31mTypeError\u001b[0m                                 Traceback (most recent call last)",
      "Cell \u001b[0;32mIn[19], line 1\u001b[0m\n\u001b[0;32m----> 1\u001b[0m \u001b[43mtensor\u001b[49m\u001b[38;5;241;43m.\u001b[39;49m\u001b[43mnumpy\u001b[49m\u001b[43m(\u001b[49m\u001b[43m)\u001b[49m\n",
      "\u001b[0;31mTypeError\u001b[0m: can't convert cuda:0 device type tensor to numpy. Use Tensor.cpu() to copy the tensor to host memory first."
     ]
    }
   ],
   "source": [
    "tensor.numpy()"
   ]
  },
  {
   "cell_type": "code",
   "execution_count": 20,
   "id": "d7ec9796",
   "metadata": {},
   "outputs": [
    {
     "data": {
      "text/plain": [
       "array([[1, 2],\n",
       "       [3, 4]])"
      ]
     },
     "execution_count": 20,
     "metadata": {},
     "output_type": "execute_result"
    }
   ],
   "source": [
    "tensor.cpu().numpy()"
   ]
  },
  {
   "cell_type": "markdown",
   "id": "dd22d21b",
   "metadata": {},
   "source": [
    "## Questions"
   ]
  },
  {
   "cell_type": "markdown",
   "id": "fbeebdd7",
   "metadata": {},
   "source": [
    "### Question - 1"
   ]
  },
  {
   "cell_type": "code",
   "execution_count": 109,
   "id": "b3060c2e",
   "metadata": {},
   "outputs": [],
   "source": [
    "import torch\n",
    "import numpy "
   ]
  },
  {
   "cell_type": "code",
   "execution_count": 66,
   "id": "5f5550ca",
   "metadata": {},
   "outputs": [
    {
     "name": "stdout",
     "output_type": "stream",
     "text": [
      "tensor([[[1, 2],\n",
      "         [3, 4]],\n",
      "\n",
      "        [[5, 6],\n",
      "         [7, 8]]]) torch.Size([2, 2, 2])\n",
      "tensor([[1, 2, 3, 4, 5, 6, 7, 8]]) torch.Size([1, 8])\n"
     ]
    }
   ],
   "source": [
    "a = torch.tensor([[[1,2],\n",
    "                   [3,4]],\n",
    "                  [[5,6],\n",
    "                   [7,8]]])\n",
    "print(a, a.shape)\n",
    "\n",
    "a = a.reshape((1, 8))\n",
    "print(a, a.shape)"
   ]
  },
  {
   "cell_type": "code",
   "execution_count": 63,
   "id": "ae8e81a9",
   "metadata": {},
   "outputs": [
    {
     "name": "stdout",
     "output_type": "stream",
     "text": [
      "torch.Size([2, 2, 2])\n",
      "torch.Size([2, 4])\n"
     ]
    }
   ],
   "source": [
    "a = torch.tensor([[[1,2],\n",
    "                   [3,4]],\n",
    "                  [[5,6],\n",
    "                   [7,8]]])\n",
    "print(a.shape)\n",
    "print(a.view((2, 4)).shape)"
   ]
  },
  {
   "cell_type": "code",
   "execution_count": 82,
   "id": "6ef9d477",
   "metadata": {},
   "outputs": [
    {
     "name": "stdout",
     "output_type": "stream",
     "text": [
      "torch.Size([2, 1, 2, 1, 2])\n",
      "torch.Size([2, 2, 2])\n"
     ]
    },
    {
     "data": {
      "text/plain": [
       "torch.Size([2, 1, 2, 2])"
      ]
     },
     "execution_count": 82,
     "metadata": {},
     "output_type": "execute_result"
    }
   ],
   "source": [
    "x = torch.zeros(2, 1, 2, 1, 2)\n",
    "print(x.size())\n",
    "\n",
    "x = x.squeeze()\n",
    "print(x.size())\n",
    "\n",
    "x = x.unsqueeze(dim=1)\n",
    "x.size()"
   ]
  },
  {
   "cell_type": "code",
   "execution_count": 39,
   "id": "d9e3840a",
   "metadata": {},
   "outputs": [
    {
     "name": "stdout",
     "output_type": "stream",
     "text": [
      "a:  tensor([[1, 2],\n",
      "        [3, 4]]) \n",
      "b:  tensor([[5, 6],\n",
      "        [7, 8]]) \n",
      "\n",
      "tensor([[[1, 2],\n",
      "         [3, 4]],\n",
      "\n",
      "        [[5, 6],\n",
      "         [7, 8]]]) \n",
      "\n",
      "tensor([[[1, 2],\n",
      "         [5, 6]],\n",
      "\n",
      "        [[3, 4],\n",
      "         [7, 8]]]) \n",
      "\n",
      "tensor([[[1, 5],\n",
      "         [2, 6]],\n",
      "\n",
      "        [[3, 7],\n",
      "         [4, 8]]]) \n",
      "\n"
     ]
    }
   ],
   "source": [
    "a = torch.tensor([[1,2],\n",
    "                  [3,4]])\n",
    "b = torch.tensor([[5,6],\n",
    "                  [7,8]])\n",
    "print('a: ', a, '\\nb: ', b, '\\n')\n",
    "\n",
    "print(torch.stack([a, b], dim=0), '\\n')\n",
    "\n",
    "print(torch.stack([a, b], dim=1), '\\n')\n",
    "\n",
    "print(torch.stack([a, b], dim=2), '\\n')"
   ]
  },
  {
   "cell_type": "code",
   "execution_count": 111,
   "id": "3b91e249",
   "metadata": {},
   "outputs": [
    {
     "name": "stdout",
     "output_type": "stream",
     "text": [
      "a:  tensor([[1, 2],\n",
      "        [3, 4]]) \n",
      "b:  tensor([[5, 6],\n",
      "        [7, 8]]) \n",
      "\n",
      "tensor([[1, 2],\n",
      "        [3, 4],\n",
      "        [5, 6],\n",
      "        [7, 8]]) \n",
      "\n",
      "tensor([[1, 2, 5, 6],\n",
      "        [3, 4, 7, 8]]) \n",
      "\n",
      "Below error is because cat only uses existing dimensions, whereas stack creates a new dimension.\n"
     ]
    },
    {
     "ename": "IndexError",
     "evalue": "Dimension out of range (expected to be in range of [-2, 1], but got 2)",
     "output_type": "error",
     "traceback": [
      "\u001b[0;31m---------------------------------------------------------------------------\u001b[0m",
      "\u001b[0;31mIndexError\u001b[0m                                Traceback (most recent call last)",
      "Cell \u001b[0;32mIn[111], line 12\u001b[0m\n\u001b[1;32m      9\u001b[0m \u001b[38;5;28mprint\u001b[39m(torch\u001b[38;5;241m.\u001b[39mcat([a, b], dim\u001b[38;5;241m=\u001b[39m\u001b[38;5;241m1\u001b[39m), \u001b[38;5;124m'\u001b[39m\u001b[38;5;130;01m\\n\u001b[39;00m\u001b[38;5;124m'\u001b[39m)\n\u001b[1;32m     11\u001b[0m \u001b[38;5;28mprint\u001b[39m(\u001b[38;5;124m\"\u001b[39m\u001b[38;5;124mBelow error is because cat only uses existing dimensions, whereas stack creates a new dimension.\u001b[39m\u001b[38;5;124m\"\u001b[39m)\n\u001b[0;32m---> 12\u001b[0m \u001b[38;5;28mprint\u001b[39m(\u001b[43mtorch\u001b[49m\u001b[38;5;241;43m.\u001b[39;49m\u001b[43mcat\u001b[49m\u001b[43m(\u001b[49m\u001b[43m[\u001b[49m\u001b[43ma\u001b[49m\u001b[43m,\u001b[49m\u001b[43m \u001b[49m\u001b[43mb\u001b[49m\u001b[43m]\u001b[49m\u001b[43m,\u001b[49m\u001b[43m \u001b[49m\u001b[43mdim\u001b[49m\u001b[38;5;241;43m=\u001b[39;49m\u001b[38;5;241;43m2\u001b[39;49m\u001b[43m)\u001b[49m, \u001b[38;5;124m'\u001b[39m\u001b[38;5;130;01m\\n\u001b[39;00m\u001b[38;5;124m'\u001b[39m)\n",
      "\u001b[0;31mIndexError\u001b[0m: Dimension out of range (expected to be in range of [-2, 1], but got 2)"
     ]
    }
   ],
   "source": [
    "a = torch.tensor([[1,2],\n",
    "                  [3,4]])\n",
    "b = torch.tensor([[5,6],\n",
    "                  [7,8]])\n",
    "print('a: ', a, '\\nb: ', b, '\\n')\n",
    "\n",
    "print(torch.cat([a, b], dim=0), '\\n')\n",
    "\n",
    "print(torch.cat([a, b], dim=1), '\\n')\n",
    "\n",
    "print(\"Below error is because cat only uses existing dimensions, whereas stack creates a new dimension.\")\n",
    "print(torch.cat([a, b], dim=2), '\\n')"
   ]
  },
  {
   "cell_type": "markdown",
   "id": "bd98ca8e",
   "metadata": {},
   "source": [
    "### Question - 2"
   ]
  },
  {
   "cell_type": "code",
   "execution_count": 56,
   "id": "ad5772e4",
   "metadata": {},
   "outputs": [
    {
     "name": "stdout",
     "output_type": "stream",
     "text": [
      "tensor([[[1, 2],\n",
      "         [3, 4]],\n",
      "\n",
      "        [[5, 6],\n",
      "         [7, 8]]])\n"
     ]
    },
    {
     "data": {
      "text/plain": [
       "tensor([[[1, 2],\n",
       "         [5, 6]],\n",
       "\n",
       "        [[3, 4],\n",
       "         [7, 8]]])"
      ]
     },
     "execution_count": 56,
     "metadata": {},
     "output_type": "execute_result"
    }
   ],
   "source": [
    "a = torch.tensor([[[1,2],\n",
    "                   [3,4]],\n",
    "                  [[5,6],\n",
    "                   [7,8]]])\n",
    "print(a)\n",
    "a.permute(dims=(1, 0, 2))"
   ]
  },
  {
   "cell_type": "code",
   "execution_count": 58,
   "id": "ddebeb7e",
   "metadata": {},
   "outputs": [
    {
     "name": "stdout",
     "output_type": "stream",
     "text": [
      "torch.Size([2, 3, 5])\n",
      "torch.Size([5, 2, 3])\n"
     ]
    }
   ],
   "source": [
    "x = torch.randn(2, 3, 5)\n",
    "print(x.size())\n",
    "print(torch.permute(x, (2, 0, 1)).size())"
   ]
  },
  {
   "cell_type": "markdown",
   "id": "aeae1c0c",
   "metadata": {},
   "source": [
    "### Question - 3"
   ]
  },
  {
   "cell_type": "code",
   "execution_count": 88,
   "id": "031c19e1",
   "metadata": {},
   "outputs": [
    {
     "data": {
      "text/plain": [
       "tensor(7)"
      ]
     },
     "execution_count": 88,
     "metadata": {},
     "output_type": "execute_result"
    }
   ],
   "source": [
    "a = torch.tensor([[[1,2],\n",
    "                   [3,4]],\n",
    "                  [[5,6],\n",
    "                   [7,8]]])\n",
    "a[1, 1, 0]"
   ]
  },
  {
   "cell_type": "markdown",
   "id": "01512f17",
   "metadata": {},
   "source": [
    "### Question - 4"
   ]
  },
  {
   "cell_type": "code",
   "execution_count": 23,
   "id": "8f7f40f1",
   "metadata": {},
   "outputs": [
    {
     "name": "stdout",
     "output_type": "stream",
     "text": [
      "[1 2 3]\n",
      "tensor([1, 2, 3])\n",
      "[1 2 3]\n"
     ]
    }
   ],
   "source": [
    "import numpy as np\n",
    "arr = np.array([1, 2, 3])\n",
    "print(arr)\n",
    "\n",
    "tensor = torch.tensor(arr)\n",
    "print(tensor)\n",
    "\n",
    "arr = tensor.numpy()\n",
    "print(arr)"
   ]
  },
  {
   "cell_type": "markdown",
   "id": "4cf38585",
   "metadata": {},
   "source": [
    "### Question - 5"
   ]
  },
  {
   "cell_type": "code",
   "execution_count": 95,
   "id": "6aaa43cc",
   "metadata": {},
   "outputs": [
    {
     "data": {
      "text/plain": [
       "(tensor([[0.7574, 0.1196, 0.9840, 0.7984, 0.5040, 0.7022, 0.3512],\n",
       "         [0.4204, 0.5641, 0.5446, 0.2947, 0.6954, 0.9367, 0.3253],\n",
       "         [0.9952, 0.6627, 0.4953, 0.8281, 0.5989, 0.6021, 0.9675],\n",
       "         [0.6458, 0.6529, 0.9242, 0.3216, 0.5808, 0.8255, 0.7844],\n",
       "         [0.4870, 0.9821, 0.4089, 0.6696, 0.3977, 0.3235, 0.1164],\n",
       "         [0.8459, 0.4397, 0.0656, 0.7068, 0.6545, 0.8021, 0.7125],\n",
       "         [0.3435, 0.0650, 0.1429, 0.0552, 0.8913, 0.6286, 0.3326]]),\n",
       " torch.Size([7, 7]))"
      ]
     },
     "execution_count": 95,
     "metadata": {},
     "output_type": "execute_result"
    }
   ],
   "source": [
    "rand = torch.rand((7,7))\n",
    "rand, rand.size()"
   ]
  },
  {
   "cell_type": "markdown",
   "id": "80dfd38a",
   "metadata": {},
   "source": [
    "### Question - 6"
   ]
  },
  {
   "cell_type": "code",
   "execution_count": 96,
   "id": "634e0d8c",
   "metadata": {},
   "outputs": [
    {
     "data": {
      "text/plain": [
       "(tensor([[1.3748],\n",
       "         [1.4235],\n",
       "         [1.8917],\n",
       "         [1.7718],\n",
       "         [1.1055],\n",
       "         [1.6721],\n",
       "         [0.8888]]),\n",
       " torch.Size([7, 1]))"
      ]
     },
     "execution_count": 96,
     "metadata": {},
     "output_type": "execute_result"
    }
   ],
   "source": [
    "rand2 = torch.rand((1, 7))\n",
    "result = rand @ rand2.view((7, 1))\n",
    "result, result.size()"
   ]
  },
  {
   "cell_type": "markdown",
   "id": "3c5d8df2",
   "metadata": {},
   "source": [
    "### Question - 7"
   ]
  },
  {
   "cell_type": "code",
   "execution_count": 97,
   "id": "d5b7cb63",
   "metadata": {},
   "outputs": [
    {
     "name": "stdout",
     "output_type": "stream",
     "text": [
      "tensor([[0.5104, 0.0122, 0.9317],\n",
      "        [0.1460, 0.9159, 0.0127]], device='cuda:0') cuda:0\n",
      "tensor([[0.7312, 0.4531, 0.0250],\n",
      "        [0.3671, 0.0736, 0.3916]], device='cuda:0') cuda:0\n"
     ]
    }
   ],
   "source": [
    "a = torch.rand((2, 3))\n",
    "b = torch.rand((2, 3))\n",
    "\n",
    "a = a.to(device)\n",
    "b = b.to(device)\n",
    "\n",
    "print(a, a.device)\n",
    "print(b, b.device)"
   ]
  },
  {
   "cell_type": "markdown",
   "id": "1e5e9d30",
   "metadata": {},
   "source": [
    "### Question - 8"
   ]
  },
  {
   "cell_type": "code",
   "execution_count": 98,
   "id": "60ecf02b",
   "metadata": {},
   "outputs": [
    {
     "name": "stdout",
     "output_type": "stream",
     "text": [
      "tensor([[0.4421, 0.6005],\n",
      "        [0.1306, 0.4074]], device='cuda:0') torch.Size([2, 2])\n"
     ]
    }
   ],
   "source": [
    "c = a @ b.view((3, 2))\n",
    "print(c, c.size())"
   ]
  },
  {
   "cell_type": "markdown",
   "id": "8f478d5a",
   "metadata": {},
   "source": [
    "### Question - 9"
   ]
  },
  {
   "cell_type": "code",
   "execution_count": 113,
   "id": "b40d2556",
   "metadata": {},
   "outputs": [
    {
     "name": "stdout",
     "output_type": "stream",
     "text": [
      "tensor([[0.4421, 0.6005],\n",
      "        [0.1306, 0.4074]], device='cuda:0')\n",
      "tensor(0.1306, device='cuda:0') tensor(0.6005, device='cuda:0')\n"
     ]
    }
   ],
   "source": [
    "print(c)\n",
    "\n",
    "print(c.min(), c.max())"
   ]
  },
  {
   "cell_type": "markdown",
   "id": "6121266e",
   "metadata": {},
   "source": [
    "### Question - 10"
   ]
  },
  {
   "cell_type": "code",
   "execution_count": 106,
   "id": "3303916e",
   "metadata": {},
   "outputs": [
    {
     "name": "stdout",
     "output_type": "stream",
     "text": [
      "tensor([[0.4421, 0.6005],\n",
      "        [0.1306, 0.4074]], device='cuda:0')\n"
     ]
    },
    {
     "data": {
      "text/plain": [
       "(tensor(2, device='cuda:0'), tensor(1, device='cuda:0'))"
      ]
     },
     "execution_count": 106,
     "metadata": {},
     "output_type": "execute_result"
    }
   ],
   "source": [
    "print(c)\n",
    "\n",
    "c.argmin(), c.argmax()"
   ]
  },
  {
   "cell_type": "markdown",
   "id": "6141cf18",
   "metadata": {},
   "source": [
    "### Question - 11"
   ]
  },
  {
   "cell_type": "code",
   "execution_count": 116,
   "id": "305508d0",
   "metadata": {},
   "outputs": [
    {
     "name": "stdout",
     "output_type": "stream",
     "text": [
      "tensor([[[[0.3391, 0.9511, 0.4698, 0.2057, 0.2057, 0.5141, 0.3187, 0.9428,\n",
      "           0.3312, 0.4732]]]]) torch.Size([1, 1, 1, 10])\n",
      "tensor([0.3391, 0.9511, 0.4698, 0.2057, 0.2057, 0.5141, 0.3187, 0.9428, 0.3312,\n",
      "        0.4732]) torch.Size([10])\n"
     ]
    }
   ],
   "source": [
    "rand = torch.rand(size=(1,1,1,10))\n",
    "print(rand, rand.shape)\n",
    "\n",
    "rand1 = rand.reshape(-1,)\n",
    "print(rand1, rand1.shape)"
   ]
  },
  {
   "cell_type": "code",
   "execution_count": 118,
   "id": "9c94ef9e",
   "metadata": {},
   "outputs": [
    {
     "name": "stdout",
     "output_type": "stream",
     "text": [
      "tensor([0.3391, 0.9511, 0.4698, 0.2057, 0.2057, 0.5141, 0.3187, 0.9428, 0.3312,\n",
      "        0.4732])\n"
     ]
    },
    {
     "data": {
      "text/plain": [
       "torch.Size([10])"
      ]
     },
     "execution_count": 118,
     "metadata": {},
     "output_type": "execute_result"
    }
   ],
   "source": [
    "rand2 = rand.squeeze()\n",
    "print(rand2)\n",
    "rand2.shape"
   ]
  }
 ],
 "metadata": {
  "kernelspec": {
   "display_name": "Python (dl_env)",
   "language": "python",
   "name": "dl_env"
  },
  "language_info": {
   "codemirror_mode": {
    "name": "ipython",
    "version": 3
   },
   "file_extension": ".py",
   "mimetype": "text/x-python",
   "name": "python",
   "nbconvert_exporter": "python",
   "pygments_lexer": "ipython3",
   "version": "3.12.3"
  }
 },
 "nbformat": 4,
 "nbformat_minor": 5
}
