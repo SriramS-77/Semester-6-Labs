{
 "cells": [
  {
   "cell_type": "code",
   "execution_count": 1,
   "id": "c6dff1bb",
   "metadata": {},
   "outputs": [],
   "source": [
    "import torch\n",
    "import math"
   ]
  },
  {
   "cell_type": "markdown",
   "id": "567d9a0e",
   "metadata": {},
   "source": [
    "## Question - 1"
   ]
  },
  {
   "cell_type": "code",
   "execution_count": 8,
   "id": "7f326fa7",
   "metadata": {},
   "outputs": [
    {
     "name": "stdout",
     "output_type": "stream",
     "text": [
      "Program: 64.0\n",
      "Analytical: 64.0\n"
     ]
    }
   ],
   "source": [
    "a = torch.tensor(2., requires_grad=True)\n",
    "b = 3\n",
    "\n",
    "x = 2*a + 3*b\n",
    "y = 5*a**2 + 3*b**3\n",
    "z = 2*x + 3*y\n",
    "\n",
    "z.backward()\n",
    "print(\"Program:\", a.grad.item())\n",
    "\n",
    "grad_z = 2*2 + 3*(10*a)\n",
    "print(\"Analytical:\", grad_z.item())"
   ]
  },
  {
   "cell_type": "markdown",
   "id": "c80ab5ed",
   "metadata": {},
   "source": [
    "## Question - 2"
   ]
  },
  {
   "cell_type": "code",
   "execution_count": 9,
   "id": "25926dfa",
   "metadata": {},
   "outputs": [
    {
     "name": "stdout",
     "output_type": "stream",
     "text": [
      "Program: (3.0, 1.0)\n",
      "Analytical: (3, 1)\n"
     ]
    }
   ],
   "source": [
    "w = torch.tensor(1., requires_grad=True)\n",
    "b = torch.tensor(2., requires_grad=True)\n",
    "x = 3\n",
    "\n",
    "u = w*x\n",
    "v = u + b\n",
    "a = v if v >= 0 else 0\n",
    "\n",
    "a.backward()\n",
    "\n",
    "grad_w = 1 * 1 * x\n",
    "grad_b = 1 * 1\n",
    "\n",
    "print(\"Program:\", (w.grad.item(), b.grad.item()))\n",
    "print(\"Analytical:\", (grad_w, grad_b))"
   ]
  },
  {
   "cell_type": "markdown",
   "id": "7a7625e4",
   "metadata": {},
   "source": [
    "## Question - 3"
   ]
  },
  {
   "cell_type": "code",
   "execution_count": 2,
   "id": "e1535fef",
   "metadata": {},
   "outputs": [],
   "source": [
    "def sigmoid(z):\n",
    "    return 1 / (1 + math.e ** (-z))"
   ]
  },
  {
   "cell_type": "code",
   "execution_count": 11,
   "id": "14e6e83c",
   "metadata": {},
   "outputs": [
    {
     "name": "stdout",
     "output_type": "stream",
     "text": [
      "Program: (0.019944097846746445, 0.0066480329260230064)\n",
      "Analytical: (0.019944097846746445, 0.0066480329260230064)\n"
     ]
    }
   ],
   "source": [
    "w = torch.tensor(1., requires_grad=True)\n",
    "b = torch.tensor(2., requires_grad=True)\n",
    "x = 3\n",
    "\n",
    "u = w*x\n",
    "v = u + b\n",
    "a = torch.sigmoid(v) #sigmoid(v)\n",
    "\n",
    "a.backward()\n",
    "\n",
    "grad_w = a * (1-a) * 1 * x\n",
    "grad_b = a * (1-a) * 1\n",
    "\n",
    "print(\"Program:\", (w.grad.item(), b.grad.item()))\n",
    "print(\"Analytical:\", (grad_w.item(), grad_b.item()))"
   ]
  },
  {
   "cell_type": "markdown",
   "id": "951c1d66",
   "metadata": {},
   "source": [
    "## Question - 4"
   ]
  },
  {
   "cell_type": "code",
   "execution_count": 12,
   "id": "fae13f30",
   "metadata": {},
   "outputs": [
    {
     "name": "stdout",
     "output_type": "stream",
     "text": [
      "Program: -2.0205823573018512e-14\n",
      "Analytical: -2.0205823573018512e-14\n"
     ]
    }
   ],
   "source": [
    "x = torch.tensor(5., requires_grad=True)\n",
    "\n",
    "f = math.e ** (-(x**2) - 2*x - torch.sin(x))\n",
    "f.backward()\n",
    "\n",
    "grad_f = -1 * math.e**(-(x**2+2*x+torch.sin(x))) * (2*x + 2 + torch.cos(x))\n",
    "\n",
    "print(\"Program:\", x.grad.item())\n",
    "print(\"Analytical:\", grad_f.item())"
   ]
  },
  {
   "cell_type": "markdown",
   "id": "467efb64",
   "metadata": {},
   "source": [
    "## Question - 5"
   ]
  },
  {
   "cell_type": "code",
   "execution_count": 14,
   "id": "3a62e6f4",
   "metadata": {},
   "outputs": [
    {
     "name": "stdout",
     "output_type": "stream",
     "text": [
      "Program: 326.0\n",
      "Analytical: 326.0\n"
     ]
    }
   ],
   "source": [
    "x = torch.tensor(2., requires_grad=True)\n",
    "y = 8*x**4 + 3*x**3 + 7*x**2 + 6*x + 3\n",
    "y.backward()\n",
    "\n",
    "grad_y = 32*x**3 + 9*x**2 + 14*x + 6\n",
    "\n",
    "print(\"Program:\", x.grad.item())\n",
    "print(\"Analytical:\", grad_y.item())"
   ]
  },
  {
   "cell_type": "markdown",
   "id": "c981347b",
   "metadata": {},
   "source": [
    "## Question - 6"
   ]
  },
  {
   "cell_type": "code",
   "execution_count": 28,
   "id": "a5d20fb2",
   "metadata": {},
   "outputs": [
    {
     "name": "stdout",
     "output_type": "stream",
     "text": [
      "Gradient of x: 9.747624426381662e-05\n",
      "Gradient of y: 0.0013676409143954515\n",
      "Gradient of z: 3.899049625033513e-05\n",
      "\n",
      "Gradient of a: 4.873812213190831e-05\n",
      "Gradient of b: -0.001381465932354331\n",
      "Gradient of c: 6.877923624415416e-06\n",
      "Gradient of d: 1.3755847021457157e-06\n",
      "Gradient of e: 0.00019632806652225554\n"
     ]
    }
   ],
   "source": [
    "x = torch.tensor(2., requires_grad=True)\n",
    "y = torch.tensor(3., requires_grad=True)\n",
    "z = torch.tensor(5., requires_grad=True)\n",
    "\n",
    "a = 2*x\n",
    "b = torch.sin(y)\n",
    "c = a/b\n",
    "d = c*z\n",
    "e = torch.log(d+1)\n",
    "f = torch.tanh(e) #2 * sigmoid(2*e) - 1\n",
    "\n",
    "a.retain_grad(), b.retain_grad(), c.retain_grad(), d.retain_grad(), e.retain_grad()\n",
    "\n",
    "f.backward()\n",
    "print(\"Gradient of x:\", x.grad.item())\n",
    "print(\"Gradient of y:\", y.grad.item())\n",
    "print(\"Gradient of z:\", z.grad.item())\n",
    "print()\n",
    "print(\"Gradient of a:\", a.grad.item())\n",
    "print(\"Gradient of b:\", b.grad.item())\n",
    "print(\"Gradient of c:\", c.grad.item())\n",
    "print(\"Gradient of d:\", d.grad.item())\n",
    "print(\"Gradient of e:\", e.grad.item())"
   ]
  }
 ],
 "metadata": {
  "kernelspec": {
   "display_name": "Python (dl_env)",
   "language": "python",
   "name": "dl_env"
  },
  "language_info": {
   "codemirror_mode": {
    "name": "ipython",
    "version": 3
   },
   "file_extension": ".py",
   "mimetype": "text/x-python",
   "name": "python",
   "nbconvert_exporter": "python",
   "pygments_lexer": "ipython3",
   "version": "3.12.3"
  }
 },
 "nbformat": 4,
 "nbformat_minor": 5
}
