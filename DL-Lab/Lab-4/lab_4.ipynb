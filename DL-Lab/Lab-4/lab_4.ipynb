{
 "cells": [
  {
   "cell_type": "markdown",
   "id": "72b2e072",
   "metadata": {},
   "source": [
    "### Sriram Sunderrajan\n",
    "### 220962444\n",
    "### DL Lab - 4\n",
    "### AIML - A2 (77)\n",
    "### 28th January 2025\n",
    "<br>"
   ]
  },
  {
   "cell_type": "code",
   "execution_count": 1,
   "id": "c6db2943",
   "metadata": {},
   "outputs": [],
   "source": [
    "import torch\n",
    "import torch.nn as nn\n",
    "import torch.optim as optim\n",
    "from torch.utils.data import Dataset, DataLoader\n",
    "import numpy as np\n",
    "import matplotlib.pyplot as plt"
   ]
  },
  {
   "cell_type": "code",
   "execution_count": 3,
   "id": "992f61ad",
   "metadata": {},
   "outputs": [],
   "source": [
    "from sklearn.metrics import accuracy_score"
   ]
  },
  {
   "cell_type": "code",
   "execution_count": 2,
   "id": "00b35c5e",
   "metadata": {},
   "outputs": [
    {
     "data": {
      "text/plain": [
       "'cuda'"
      ]
     },
     "execution_count": 2,
     "metadata": {},
     "output_type": "execute_result"
    }
   ],
   "source": [
    "device = 'cuda' if torch.cuda.is_available() else 'cpu'\n",
    "device"
   ]
  },
  {
   "cell_type": "markdown",
   "id": "650ecf54",
   "metadata": {},
   "source": [
    "## Question - 1"
   ]
  },
  {
   "cell_type": "code",
   "execution_count": 4,
   "id": "3c36bdb0",
   "metadata": {},
   "outputs": [
    {
     "name": "stdout",
     "output_type": "stream",
     "text": [
      "Epoch 1000: Loss = 0.3469488024711609 | Accuracy = 75.0%\n",
      "Epoch 2000: Loss = 0.3466601073741913 | Accuracy = 75.0%\n",
      "Epoch 3000: Loss = 0.34662312269210815 | Accuracy = 75.0%\n",
      "Epoch 4000: Loss = 0.3466220200061798 | Accuracy = 75.0%\n",
      "Epoch 5000: Loss = 0.34660667181015015 | Accuracy = 75.0%\n",
      "Epoch 6000: Loss = 0.346598744392395 | Accuracy = 75.0%\n",
      "Epoch 7000: Loss = 0.34659379720687866 | Accuracy = 75.0%\n",
      "Epoch 8000: Loss = 0.3466055393218994 | Accuracy = 75.0%\n",
      "Epoch 9000: Loss = 0.34659451246261597 | Accuracy = 75.0%\n",
      "Epoch 10000: Loss = 0.34658941626548767 | Accuracy = 75.0%\n",
      "tensor([[5.0000e-01],\n",
      "        [5.0000e-01],\n",
      "        [9.9997e-01],\n",
      "        [3.3872e-05]], device='cuda:0', grad_fn=<ViewBackward0>) tensor([[0.],\n",
      "        [1.],\n",
      "        [1.],\n",
      "        [0.]], device='cuda:0')\n"
     ]
    }
   ],
   "source": [
    "x = [[0,0], [0,1], [1,0], [1,1]]\n",
    "y = [0, 1, 1, 0]\n",
    "\n",
    "x = torch.tensor(x, dtype=torch.float)\n",
    "y = torch.tensor(y, dtype=torch.float)\n",
    "\n",
    "class Network(nn.Module):\n",
    "    def __init__(self):\n",
    "        super(Network, self).__init__()\n",
    "        self.fc1 = nn.Linear(2, 2, bias=True)\n",
    "        self.relu = nn.ReLU()\n",
    "        self.fc2 = nn.Linear(2, 1, bias=True)\n",
    "        self.sigmoid = nn.Sigmoid()\n",
    "        \n",
    "    def forward(self, x):\n",
    "        x = self.fc1(x)\n",
    "        x = self.relu(x)\n",
    "        x = self.fc2(x)\n",
    "        x = self.sigmoid(x)\n",
    "        return x\n",
    "    \n",
    "    \n",
    "class MyDataset(Dataset):\n",
    "    def __init__(self, x, y):\n",
    "        self.x = x\n",
    "        self.y = y\n",
    "    \n",
    "    def __len__(self):\n",
    "        return len(self.x)\n",
    "    \n",
    "    def __getitem__(self, idx):\n",
    "        return self.x[idx].to(device), self.y[idx].to(device)\n",
    "    \n",
    "mydata = MyDataset(x, y)\n",
    "mydataloader = DataLoader(mydata, batch_size=4, shuffle=True)\n",
    "\n",
    "model = Network().to(device)\n",
    "model.train(True)\n",
    "\n",
    "criterion = nn.BCELoss()\n",
    "optimizer = optim.SGD(model.parameters(), lr=1)\n",
    "num_epochs = 10000\n",
    "\n",
    "losses = []\n",
    "\n",
    "for epoch in range(1, num_epochs+1):\n",
    "    epoch_loss = 0\n",
    "    for x_batch, y_batch in mydataloader:\n",
    "        batch_size = len(x_batch)\n",
    "        y_pred = model(x_batch)\n",
    "        y_pred, y_batch = y_pred.reshape(batch_size,-1), y_batch.reshape(batch_size,-1)\n",
    "\n",
    "        loss = criterion(y_pred, y_batch)\n",
    "        loss.backward()\n",
    "        optimizer.step()\n",
    "        optimizer.zero_grad()\n",
    "        \n",
    "        epoch_loss += loss\n",
    "                \n",
    "    if epoch%1000 == 0:\n",
    "        losses.append(epoch_loss.detach().cpu())\n",
    "        accuracy = accuracy_score(y_batch.detach().cpu().numpy(), np.where(y_pred.detach().cpu().numpy() > 0.5, 1, 0))\n",
    "        print(f\"Epoch {epoch}: Loss = {loss} | Accuracy = {accuracy * 100}%\")\n",
    "        \n",
    "print(y_pred, y_batch)"
   ]
  },
  {
   "cell_type": "code",
   "execution_count": 5,
   "id": "321273f2",
   "metadata": {},
   "outputs": [
    {
     "data": {
      "image/png": "[encoded data removed]",
      "text/plain": [
       "<Figure size 640x480 with 1 Axes>"
      ]
     },
     "metadata": {},
     "output_type": "display_data"
    }
   ],
   "source": [
    "plt.plot(np.linspace(1, num_epochs, len(losses)), losses)\n",
    "plt.xlabel(\"Epoch\")\n",
    "plt.ylabel(\"Loss\")\n",
    "plt.show()"
   ]
  },
  {
   "cell_type": "markdown",
   "id": "1af1f5f2",
   "metadata": {},
   "source": [
    "## Questoin - 2"
   ]
  },
  {
   "cell_type": "code",
   "execution_count": 4,
   "id": "5d2c01a7",
   "metadata": {},
   "outputs": [
    {
     "name": "stdout",
     "output_type": "stream",
     "text": [
      "Epoch 1000: Loss = 50.0 | Accuracy = 50.0%\n",
      "Epoch 2000: Loss = 50.0 | Accuracy = 50.0%\n",
      "Epoch 3000: Loss = 50.0 | Accuracy = 50.0%\n",
      "Epoch 4000: Loss = 50.0 | Accuracy = 50.0%\n",
      "Epoch 5000: Loss = 50.0 | Accuracy = 50.0%\n",
      "Epoch 6000: Loss = 50.0 | Accuracy = 50.0%\n",
      "Epoch 7000: Loss = 50.0 | Accuracy = 50.0%\n",
      "Epoch 8000: Loss = 50.0 | Accuracy = 50.0%\n",
      "Epoch 9000: Loss = 50.0 | Accuracy = 50.0%\n",
      "Epoch 10000: Loss = 50.0 | Accuracy = 50.0%\n",
      "tensor([[0.],\n",
      "        [0.],\n",
      "        [0.],\n",
      "        [0.]], device='cuda:0', grad_fn=<ViewBackward0>) tensor([[0.],\n",
      "        [1.],\n",
      "        [1.],\n",
      "        [0.]], device='cuda:0')\n"
     ]
    }
   ],
   "source": [
    "x = [[0,0], [0,1], [1,0], [1,1]]\n",
    "y = [0, 1, 1, 0]\n",
    "\n",
    "x = torch.tensor(x, dtype=torch.float)\n",
    "y = torch.tensor(y, dtype=torch.float)\n",
    "\n",
    "class Network(nn.Module):\n",
    "    def __init__(self):\n",
    "        super(Network, self).__init__()\n",
    "        self.fc1 = nn.Linear(2, 2, bias=True)\n",
    "        self.relu = nn.ReLU()\n",
    "        self.fc2 = nn.Linear(2, 1, bias=True)\n",
    "        self.sigmoid = nn.Sigmoid()\n",
    "        \n",
    "    def forward(self, x):\n",
    "        x = self.fc1(x)\n",
    "        x = self.sigmoid(x)\n",
    "        x = self.fc2(x)\n",
    "        x = self.relu(x)\n",
    "        return x\n",
    "    \n",
    "    \n",
    "class MyDataset(Dataset):\n",
    "    def __init__(self, x, y):\n",
    "        self.x = x\n",
    "        self.y = y\n",
    "    \n",
    "    def __len__(self):\n",
    "        return len(self.x)\n",
    "    \n",
    "    def __getitem__(self, idx):\n",
    "        return self.x[idx].to(device), self.y[idx].to(device)\n",
    "    \n",
    "mydata = MyDataset(x, y)\n",
    "mydataloader = DataLoader(mydata, batch_size=4, shuffle=True)\n",
    "\n",
    "model = Network().to(device)\n",
    "model.train(True)\n",
    "\n",
    "criterion = nn.BCELoss()\n",
    "optimizer = optim.SGD(model.parameters(), lr=1)\n",
    "num_epochs = 10000\n",
    "\n",
    "losses = []\n",
    "\n",
    "for epoch in range(1, num_epochs+1):\n",
    "    epoch_loss = 0\n",
    "    for x_batch, y_batch in mydataloader:\n",
    "        batch_size = len(x_batch)\n",
    "        y_pred = model(x_batch)\n",
    "        y_pred, y_batch = y_pred.reshape(batch_size,-1), y_batch.reshape(batch_size,-1)\n",
    "\n",
    "        loss = criterion(y_pred, y_batch)\n",
    "        loss.backward()\n",
    "        optimizer.step()\n",
    "        optimizer.zero_grad()\n",
    "        \n",
    "        epoch_loss += loss\n",
    "                \n",
    "    if epoch%1000 == 0:\n",
    "        losses.append(epoch_loss.detach().cpu())\n",
    "        accuracy = accuracy_score(y_batch.detach().cpu().numpy(), np.where(y_pred.detach().cpu().numpy() > 0.5, 1, 0))\n",
    "        print(f\"Epoch {epoch}: Loss = {loss} | Accuracy = {accuracy * 100}%\")\n",
    "        \n",
    "print(y_pred, y_batch)"
   ]
  },
  {
   "cell_type": "code",
   "execution_count": 5,
   "id": "74bb55ae",
   "metadata": {},
   "outputs": [
    {
     "data": {
      "image/png": "[encoded data removed]",
      "text/plain": [
       "<Figure size 640x480 with 1 Axes>"
      ]
     },
     "metadata": {},
     "output_type": "display_data"
    }
   ],
   "source": [
    "plt.plot(np.linspace(1, num_epochs, len(losses)), losses)\n",
    "plt.xlabel(\"Epoch\")\n",
    "plt.ylabel(\"Loss\")\n",
    "plt.show()"
   ]
  },
  {
   "cell_type": "markdown",
   "id": "89c918d8",
   "metadata": {},
   "source": [
    "## Question - 4"
   ]
  },
  {
   "cell_type": "code",
   "execution_count": 6,
   "id": "3244db69",
   "metadata": {},
   "outputs": [],
   "source": [
    "import torch\n",
    "import torch.nn as nn\n",
    "import torch.optim as optim\n",
    "from torch.utils.data import Dataset, DataLoader\n",
    "import numpy as np\n",
    "import matplotlib.pyplot as plt\n",
    "\n",
    "import torchvision\n",
    "from torchvision import transforms\n",
    "import torch.nn.functional as F"
   ]
  },
  {
   "cell_type": "code",
   "execution_count": 7,
   "id": "137a31d1",
   "metadata": {},
   "outputs": [],
   "source": [
    "transform = transforms.Compose([transforms.ToTensor(), transforms.Normalize((0.5,), (0.5,))])\n",
    "\n",
    "batch_size = 4\n",
    "train_set = torchvision.datasets.MNIST(root='./data/', train=True, download=True, transform=transform)\n",
    "train_loader = DataLoader(train_set, batch_size=batch_size, shuffle=True, num_workers=2)\n",
    "\n",
    "test_set = torchvision.datasets.MNIST(root='./data/', train=False, download=True, transform=transform)\n",
    "test_loader = DataLoader(test_set, batch_size=batch_size, shuffle=False, num_workers=2)"
   ]
  },
  {
   "cell_type": "code",
   "execution_count": 8,
   "id": "7b2b01f4",
   "metadata": {},
   "outputs": [
    {
     "data": {
      "text/plain": [
       "torch.Size([4, 1, 28, 28])"
      ]
     },
     "execution_count": 8,
     "metadata": {},
     "output_type": "execute_result"
    }
   ],
   "source": [
    "examples = enumerate(test_loader)\n",
    "batch_idx, (example_data, example_targets) = next(examples)\n",
    "\n",
    "example_data.size()"
   ]
  },
  {
   "cell_type": "code",
   "execution_count": 9,
   "id": "35f33105",
   "metadata": {},
   "outputs": [
    {
     "data": {
      "image/png": "[encoded data removed]",
      "text/plain": [
       "<Figure size 640x480 with 4 Axes>"
      ]
     },
     "execution_count": 9,
     "metadata": {},
     "output_type": "execute_result"
    },
    {
     "data": {
      "image/png": "[encoded data removed]",
      "text/plain": [
       "<Figure size 640x480 with 4 Axes>"
      ]
     },
     "metadata": {},
     "output_type": "display_data"
    }
   ],
   "source": [
    "import matplotlib.pyplot as plt\n",
    "\n",
    "fig = plt.figure()\n",
    "for i in range(4):\n",
    "  plt.subplot(2,3,i+1)\n",
    "  plt.tight_layout()\n",
    "  plt.imshow(example_data[i][0], cmap='gray', interpolation='none')\n",
    "  plt.title(\"Ground Truth: {}\".format(example_targets[i]))\n",
    "  plt.xticks([])\n",
    "  plt.yticks([])\n",
    "fig"
   ]
  },
  {
   "cell_type": "code",
   "execution_count": 10,
   "id": "3d667e35",
   "metadata": {
    "scrolled": true
   },
   "outputs": [
    {
     "data": {
      "text/plain": [
       "torch.Size([4, 1, 28, 28])"
      ]
     },
     "execution_count": 10,
     "metadata": {},
     "output_type": "execute_result"
    }
   ],
   "source": [
    "[i.size() for i,j in test_loader][0]"
   ]
  },
  {
   "cell_type": "code",
   "execution_count": 13,
   "id": "94fc56cd",
   "metadata": {},
   "outputs": [],
   "source": [
    "device = 'cuda' if torch.cuda.is_available() else 'cpu'\n",
    "\n",
    "class MNistNetwork(nn.Module):\n",
    "    def __init__(self):\n",
    "        super(MNistNetwork, self).__init__()\n",
    "        self.fc1 = nn.Linear(784, 256, bias=True)\n",
    "        self.ac1 = nn.ReLU()\n",
    "        self.fc2 = nn.Linear(256, 64, bias=True)\n",
    "        self.ac2 = nn.ReLU()\n",
    "        self.fc3 = nn.Linear(64, 1, bias=True)\n",
    "        # self.ac3 = None\n",
    "        \n",
    "    def forward(self, x):\n",
    "        x = self.fc1(x)\n",
    "        x = self.ac1(x)\n",
    "        x = self.fc2(x)\n",
    "        x = self.ac2(x)\n",
    "        x = self.fc3(x)\n",
    "        x = F.log_softmax(x, dim=1)\n",
    "        return x\n",
    "    \n",
    "\n",
    "\n",
    "model = MNistNetwork().to(device)\n",
    "model.train(True)\n",
    "\n",
    "criterion = nn.BCEWithLogitsLoss()\n",
    "optimizer = optim.Adam(model.parameters(), lr=1e-2)\n",
    "num_epochs = 1"
   ]
  },
  {
   "cell_type": "code",
   "execution_count": 14,
   "id": "8859a06b",
   "metadata": {},
   "outputs": [
    {
     "name": "stdout",
     "output_type": "stream",
     "text": [
      "Epoch 1: Loss = 10399.015625 | Accuracy = 25.0%\n",
      "tensor([[0.],\n",
      "        [0.],\n",
      "        [0.],\n",
      "        [0.]], device='cuda:0', grad_fn=<ViewBackward0>) tensor([[0.],\n",
      "        [4.],\n",
      "        [5.],\n",
      "        [6.]], device='cuda:0')\n"
     ]
    }
   ],
   "source": [
    "losses = []\n",
    "\n",
    "for epoch in range(1, num_epochs+1):\n",
    "    epoch_loss = 0\n",
    "    for x_batch, y_batch in train_loader:\n",
    "        x_batch, y_batch = x_batch.to(device), y_batch.to(device)\n",
    "        x_batch, y_batch = x_batch.view(batch_size,-1), y_batch.view(batch_size,-1)\n",
    "        y_pred = model(x_batch)\n",
    "        y_pred = y_pred.reshape(batch_size,-1)\n",
    "        y_batch = y_batch.type(torch.float)\n",
    "        \n",
    "        #print(x_batch) print(y_batch) print(y_pred)\n",
    "\n",
    "        loss = criterion(y_pred, y_batch)\n",
    "        loss.backward()\n",
    "        optimizer.step()\n",
    "        optimizer.zero_grad()\n",
    "        \n",
    "        epoch_loss += loss\n",
    "                \n",
    "    if epoch%1 == 0:\n",
    "        losses.append(epoch_loss.detach().cpu())\n",
    "        accuracy = accuracy_score(y_batch.detach().cpu().numpy(), np.where(y_pred.detach().cpu().numpy() > 0.5, 1, 0))\n",
    "        print(f\"Epoch {epoch}: Loss = {epoch_loss} | Accuracy = {accuracy * 100}%\")"
   ]
  },
  {
   "cell_type": "code",
   "execution_count": 15,
   "id": "6b93f313",
   "metadata": {},
   "outputs": [],
   "source": [
    "model.eval()\n",
    "\n",
    "losses = []\n",
    "y_eval, y_preds = [], []\n",
    "\n",
    "\n",
    "for x_batch, y_batch in test_loader:\n",
    "    x_batch, y_batch = x_batch.to(device), y_batch.to(device)\n",
    "    x_batch, y_batch = x_batch.view(batch_size,-1), y_batch.view(batch_size,-1)\n",
    "    y_pred = model(x_batch)\n",
    "    y_pred = y_pred.reshape(batch_size,-1)\n",
    "    \n",
    "    y_eval += y_batch.detach().cpu().numpy().tolist()\n",
    "    y_preds += y_pred.detach().cpu().numpy().tolist()"
   ]
  },
  {
   "cell_type": "code",
   "execution_count": 19,
   "id": "701d1567",
   "metadata": {},
   "outputs": [
    {
     "data": {
      "image/png": "[encoded data removed]",
      "text/plain": [
       "<Figure size 640x480 with 2 Axes>"
      ]
     },
     "metadata": {},
     "output_type": "display_data"
    }
   ],
   "source": [
    "import matplotlib.pyplot as plt\n",
    "import numpy\n",
    "from sklearn import metrics\n",
    "\n",
    "confusion_matrix = metrics.confusion_matrix(y_eval, y_preds)\n",
    "\n",
    "cm_display = metrics.ConfusionMatrixDisplay(confusion_matrix = confusion_matrix, display_labels = [0, 1, 2, 3, 4, 5, 6, 7, 8, 9])\n",
    "\n",
    "cm_display.plot()\n",
    "\n",
    "plt.title(\"Confusion matrix for MNist model\")\n",
    "plt.show() "
   ]
  },
  {
   "cell_type": "markdown",
   "id": "d1275ef9",
   "metadata": {},
   "source": [
    "## With CNN"
   ]
  },
  {
   "cell_type": "code",
   "execution_count": null,
   "id": "b8e5622c",
   "metadata": {},
   "outputs": [],
   "source": [
    "class Net(nn.Module):\n",
    "    def __init__(self):\n",
    "        super(Net, self).__init__()\n",
    "        self.conv1 = nn.Conv2d(1, 10, kernel_size=5)\n",
    "        self.conv2 = nn.Conv2d(10, 20, kernel_size=5)\n",
    "        self.conv2_drop = nn.Dropout2d()\n",
    "        self.fc1 = nn.Linear(320, 50)\n",
    "        self.fc2 = nn.Linear(50, 10)\n",
    "\n",
    "    def forward(self, x):\n",
    "        x = F.relu(F.max_pool2d(self.conv1(x), 2))\n",
    "        x = F.relu(F.max_pool2d(self.conv2_drop(self.conv2(x)), 2))\n",
    "        x = x.view(-1, 320)\n",
    "        x = F.relu(self.fc1(x))\n",
    "        x = F.dropout(x, training=self.training)\n",
    "        x = self.fc2(x)\n",
    "        return F.log_softmax(x)\n",
    "\n",
    "network = Net()\n",
    "optimizer = optim.SGD(network.parameters(), lr=.1,\n",
    "                      momentum=.5)"
   ]
  },
  {
   "cell_type": "code",
   "execution_count": null,
   "id": "061c3c3b",
   "metadata": {},
   "outputs": [],
   "source": [
    "n_epochs = 10\n",
    "log_interval = 2000\n",
    "train_losses = []\n",
    "train_counter = []\n",
    "test_losses = []\n",
    "test_counter = [i*len(train_loader.dataset) for i in range(n_epochs + 1)]"
   ]
  },
  {
   "cell_type": "code",
   "execution_count": null,
   "id": "a9e6d1f3",
   "metadata": {},
   "outputs": [],
   "source": [
    "def train(epoch):\n",
    "  network.train()\n",
    "  for batch_idx, (data, target) in enumerate(train_loader):\n",
    "    optimizer.zero_grad()\n",
    "    output = network(data)\n",
    "    loss = F.nll_loss(output, target)\n",
    "    loss.backward()\n",
    "    optimizer.step()\n",
    "    if batch_idx % log_interval == 0:\n",
    "      print('Train Epoch: {} [{}/{} ({:.0f}%)]\\tLoss: {:.6f}'.format(\n",
    "        epoch, batch_idx * len(data), len(train_loader.dataset),\n",
    "        100. * batch_idx / len(train_loader), loss.item()))\n",
    "      train_losses.append(loss.item())\n",
    "      train_counter.append(\n",
    "        (batch_idx*64) + ((epoch-1)*len(train_loader.dataset)))"
   ]
  },
  {
   "cell_type": "code",
   "execution_count": null,
   "id": "d0097c4b",
   "metadata": {},
   "outputs": [],
   "source": [
    "def test():\n",
    "  network.eval()\n",
    "  test_loss = 0\n",
    "  correct = 0\n",
    "  with torch.no_grad():\n",
    "    for data, target in test_loader:\n",
    "      output = network(data)\n",
    "      test_loss += F.nll_loss(output, target, size_average=False).item()\n",
    "      pred = output.data.max(1, keepdim=True)[1]\n",
    "      correct += pred.eq(target.data.view_as(pred)).sum()\n",
    "  test_loss /= len(test_loader.dataset)\n",
    "  test_losses.append(test_loss)\n",
    "  print('\\nTest set: Avg. loss: {:.4f}, Accuracy: {}/{} ({:.0f}%)\\n'.format(\n",
    "    test_loss, correct, len(test_loader.dataset),\n",
    "    100. * correct / len(test_loader.dataset)))"
   ]
  },
  {
   "cell_type": "code",
   "execution_count": null,
   "id": "adf2c7a2",
   "metadata": {},
   "outputs": [],
   "source": [
    "for epoch in range(1, n_epochs + 1):\n",
    "  train(epoch)\n",
    "  test()"
   ]
  },
  {
   "cell_type": "code",
   "execution_count": null,
   "id": "2432fa42",
   "metadata": {},
   "outputs": [],
   "source": []
  }
 ],
 "metadata": {
  "kernelspec": {
   "display_name": "Python (dl_env)",
   "language": "python",
   "name": "dl_env"
  },
  "language_info": {
   "codemirror_mode": {
    "name": "ipython",
    "version": 3
   },
   "file_extension": ".py",
   "mimetype": "text/x-python",
   "name": "python",
   "nbconvert_exporter": "python",
   "pygments_lexer": "ipython3",
   "version": "3.12.3"
  }
 },
 "nbformat": 4,
 "nbformat_minor": 5
}
